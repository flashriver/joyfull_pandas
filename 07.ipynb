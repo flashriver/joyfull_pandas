{
 "cells": [
  {
   "cell_type": "markdown",
   "metadata": {},
   "source": [
    "# 第7章 文本数据\n",
    "2020.06.24"
   ]
  },
  {
   "cell_type": "code",
   "execution_count": 213,
   "metadata": {},
   "outputs": [],
   "source": [
    "import pandas as pd\n",
    "import numpy as np"
   ]
  },
  {
   "cell_type": "markdown",
   "metadata": {},
   "source": [
    "## 一、string类型的性质"
   ]
  },
  {
   "cell_type": "markdown",
   "metadata": {},
   "source": [
    "### 1. string与object的区别\n",
    "#### string类型和object不同之处有三：\n",
    "#### ① 字符存取方法（string accessor methods，如str.count）会返回相应数据的Nullable类型，而object会随缺失值的存在而改变返回类型\n",
    "#### ② 某些Series方法不能在string上使用，例如： Series.str.decode()，因为存储的是字符串而不是字节\n",
    "#### ③ string类型在缺失值存储或运算时，类型会广播为pd.NA，而不是浮点型np.nan\n",
    "#### 其余全部内容在当前版本下完全一致，但迎合Pandas的发展模式，我们仍然全部用string来操作字符串"
   ]
  },
  {
   "cell_type": "markdown",
   "metadata": {},
   "source": [
    "### 2. string类型的转换\n",
    "#### 如果将一个其他类型的容器直接转换string类型可能会出错："
   ]
  },
  {
   "cell_type": "code",
   "execution_count": 217,
   "metadata": {},
   "outputs": [],
   "source": [
    "#pd.Series([1,'1.']).astype('string') #报错 ValueError: StringArray requires a sequence of strings or pandas.NA\n",
    "#pd.Series([1,2]).astype('string') #报错 ValueError: StringArray requires a sequence of strings or pandas.NA\n",
    "#pd.Series([True,False]).astype('string') #报错 ValueError: StringArray requires a sequence of strings or pandas.NA"
   ]
  },
  {
   "cell_type": "markdown",
   "metadata": {},
   "source": [
    "#### 当下正确的方法是分两部转换，先转为str型object，在转为string类型："
   ]
  },
  {
   "cell_type": "code",
   "execution_count": 218,
   "metadata": {},
   "outputs": [
    {
     "data": {
      "text/plain": [
       "0     1\n",
       "1    1.\n",
       "dtype: object"
      ]
     },
     "execution_count": 218,
     "metadata": {},
     "output_type": "execute_result"
    }
   ],
   "source": [
    "pd.Series([1,'1.']) # 原始类型是 int64 和 str 混合的 object\n",
    "#pd.Series([1,'1.']).astype('string') #直接转换会报错 ValueError: StringArray requires a sequence of strings or pandas.NA"
   ]
  },
  {
   "cell_type": "code",
   "execution_count": 219,
   "metadata": {},
   "outputs": [
    {
     "data": {
      "text/plain": [
       "0     1\n",
       "1    1.\n",
       "dtype: object"
      ]
     },
     "execution_count": 219,
     "metadata": {},
     "output_type": "execute_result"
    }
   ],
   "source": [
    "pd.Series([1,'1.']).astype('str') # 第一步转为 str 的object"
   ]
  },
  {
   "cell_type": "code",
   "execution_count": 220,
   "metadata": {},
   "outputs": [
    {
     "data": {
      "text/plain": [
       "0     1\n",
       "1    1.\n",
       "dtype: string"
      ]
     },
     "execution_count": 220,
     "metadata": {},
     "output_type": "execute_result"
    }
   ],
   "source": [
    "pd.Series([1,'1.']).astype('str').astype('string') # 第二步转为 string 类型"
   ]
  },
  {
   "cell_type": "code",
   "execution_count": 221,
   "metadata": {},
   "outputs": [
    {
     "data": {
      "text/plain": [
       "0    1\n",
       "1    2\n",
       "dtype: int64"
      ]
     },
     "execution_count": 221,
     "metadata": {},
     "output_type": "execute_result"
    }
   ],
   "source": [
    "pd.Series([1,2]) #原始类型是 int64\n",
    "#pd.Series([1,2]).astype('string') #直接转换会报错--ValueError: StringArray requires a sequence of strings or pandas.NA"
   ]
  },
  {
   "cell_type": "code",
   "execution_count": 222,
   "metadata": {},
   "outputs": [
    {
     "data": {
      "text/plain": [
       "0    1\n",
       "1    2\n",
       "dtype: object"
      ]
     },
     "execution_count": 222,
     "metadata": {},
     "output_type": "execute_result"
    }
   ],
   "source": [
    "pd.Series([1,2]).astype('str') # 第一步转为 str 类型的 object"
   ]
  },
  {
   "cell_type": "code",
   "execution_count": 223,
   "metadata": {},
   "outputs": [
    {
     "data": {
      "text/plain": [
       "0    1\n",
       "1    2\n",
       "dtype: string"
      ]
     },
     "execution_count": 223,
     "metadata": {},
     "output_type": "execute_result"
    }
   ],
   "source": [
    "pd.Series([1,2]).astype('str').astype('string') # 第二步转为 string 类型"
   ]
  },
  {
   "cell_type": "code",
   "execution_count": 224,
   "metadata": {},
   "outputs": [
    {
     "data": {
      "text/plain": [
       "0     True\n",
       "1    False\n",
       "dtype: bool"
      ]
     },
     "execution_count": 224,
     "metadata": {},
     "output_type": "execute_result"
    }
   ],
   "source": [
    "pd.Series([True,False]) # 原始类型是布尔型\n",
    "#pd.Series([True,False]).astype('string') #直接转换会报错 ValueError: StringArray requires a sequence of strings or pandas.NA"
   ]
  },
  {
   "cell_type": "code",
   "execution_count": 225,
   "metadata": {},
   "outputs": [
    {
     "data": {
      "text/plain": [
       "0     True\n",
       "1    False\n",
       "dtype: object"
      ]
     },
     "execution_count": 225,
     "metadata": {},
     "output_type": "execute_result"
    }
   ],
   "source": [
    "pd.Series([True,False]).astype('str') #第一步转为 str 类型的object"
   ]
  },
  {
   "cell_type": "code",
   "execution_count": 226,
   "metadata": {},
   "outputs": [
    {
     "data": {
      "text/plain": [
       "0     True\n",
       "1    False\n",
       "dtype: string"
      ]
     },
     "execution_count": 226,
     "metadata": {},
     "output_type": "execute_result"
    }
   ],
   "source": [
    "pd.Series([True,False]).astype('str').astype('string') #第二步转为 string 类型"
   ]
  },
  {
   "cell_type": "markdown",
   "metadata": {},
   "source": [
    "* 但这种方法也不是特别正确, 因为会把缺失值也按字面显示转为string. 见下文中的例子"
   ]
  },
  {
   "cell_type": "markdown",
   "metadata": {},
   "source": [
    "## 二、拆分与拼接"
   ]
  },
  {
   "cell_type": "markdown",
   "metadata": {},
   "source": [
    "### 1. str.split方法"
   ]
  },
  {
   "cell_type": "markdown",
   "metadata": {},
   "source": [
    "#### （a）分割符与str的位置元素选取"
   ]
  },
  {
   "cell_type": "code",
   "execution_count": 227,
   "metadata": {},
   "outputs": [
    {
     "data": {
      "text/plain": [
       "0    a_b_c\n",
       "1    c_d_e\n",
       "2     <NA>\n",
       "3    f_g_h\n",
       "dtype: string"
      ]
     },
     "execution_count": 227,
     "metadata": {},
     "output_type": "execute_result"
    }
   ],
   "source": [
    "s = pd.Series(['a_b_c', 'c_d_e', np.nan, 'f_g_h'], dtype=\"string\")\n",
    "s"
   ]
  },
  {
   "cell_type": "markdown",
   "metadata": {},
   "source": [
    "#### 根据某一个元素分割，默认为空格"
   ]
  },
  {
   "cell_type": "code",
   "execution_count": 228,
   "metadata": {},
   "outputs": [
    {
     "data": {
      "text/plain": [
       "0    [a, b, c]\n",
       "1    [c, d, e]\n",
       "2         <NA>\n",
       "3    [f, g, h]\n",
       "dtype: object"
      ]
     },
     "execution_count": 228,
     "metadata": {},
     "output_type": "execute_result"
    }
   ],
   "source": [
    "s.str.split('_')"
   ]
  },
  {
   "cell_type": "code",
   "execution_count": 230,
   "metadata": {},
   "outputs": [],
   "source": [
    "# 由于缺失值的存在, Series对象的 元素级 apply 方法不能使用\n",
    "#s.apply(lambda x: x.split('_')) \n",
    "# AttributeError: 'NAType' object has no attribute 'split'"
   ]
  },
  {
   "cell_type": "code",
   "execution_count": 231,
   "metadata": {},
   "outputs": [
    {
     "data": {
      "text/plain": [
       "0    [a, b, c]\n",
       "1    [c, d, e]\n",
       "2         <NA>\n",
       "3    [f, g, h]\n",
       "dtype: object"
      ]
     },
     "execution_count": 231,
     "metadata": {},
     "output_type": "execute_result"
    }
   ],
   "source": [
    "# 使用apply方法的话,需要分情况--但是 .str 方法为什么能正确执行?\n",
    "def split_func(x):\n",
    "    if x is pd.NA:\n",
    "        y = x\n",
    "    else :\n",
    "        y = x.split('_')\n",
    "    return y\n",
    "s.apply(lambda x: split_func(x))"
   ]
  },
  {
   "cell_type": "code",
   "execution_count": 233,
   "metadata": {},
   "outputs": [],
   "source": [
    "import re\n",
    "#s.apply(lambda x: re.split(x,'_')) # 使用正则表达式的分割函数同样会因为缺失值导致出问题 TypeError: first argument must be string or compiled pattern"
   ]
  },
  {
   "cell_type": "code",
   "execution_count": 248,
   "metadata": {},
   "outputs": [
    {
     "data": {
      "text/plain": [
       "0    [a, b, c]\n",
       "1    [c, d, e]\n",
       "2         <NA>\n",
       "3    [f, g, h]\n",
       "dtype: object"
      ]
     },
     "execution_count": 248,
     "metadata": {},
     "output_type": "execute_result"
    }
   ],
   "source": [
    "# 使用正则表达式的方法,需重新定义以处理缺失值\n",
    "def my_re_split(x,rep=''):\n",
    "    if x is pd.NA:\n",
    "        y = x\n",
    "    else :\n",
    "        y = re.split(rep,x)\n",
    "    return y\n",
    "s.apply(lambda x: my_re_split(x,'_'))"
   ]
  },
  {
   "cell_type": "code",
   "execution_count": 244,
   "metadata": {
    "collapsed": true,
    "jupyter": {
     "outputs_hidden": true
    }
   },
   "outputs": [
    {
     "data": {
      "text/plain": [
       "\u001b[1;31mSignature:\u001b[0m \u001b[0mre\u001b[0m\u001b[1;33m.\u001b[0m\u001b[0msplit\u001b[0m\u001b[1;33m(\u001b[0m\u001b[0mpattern\u001b[0m\u001b[1;33m,\u001b[0m \u001b[0mstring\u001b[0m\u001b[1;33m,\u001b[0m \u001b[0mmaxsplit\u001b[0m\u001b[1;33m=\u001b[0m\u001b[1;36m0\u001b[0m\u001b[1;33m,\u001b[0m \u001b[0mflags\u001b[0m\u001b[1;33m=\u001b[0m\u001b[1;36m0\u001b[0m\u001b[1;33m)\u001b[0m\u001b[1;33m\u001b[0m\u001b[1;33m\u001b[0m\u001b[0m\n",
       "\u001b[1;31mSource:\u001b[0m   \n",
       "\u001b[1;32mdef\u001b[0m \u001b[0msplit\u001b[0m\u001b[1;33m(\u001b[0m\u001b[0mpattern\u001b[0m\u001b[1;33m,\u001b[0m \u001b[0mstring\u001b[0m\u001b[1;33m,\u001b[0m \u001b[0mmaxsplit\u001b[0m\u001b[1;33m=\u001b[0m\u001b[1;36m0\u001b[0m\u001b[1;33m,\u001b[0m \u001b[0mflags\u001b[0m\u001b[1;33m=\u001b[0m\u001b[1;36m0\u001b[0m\u001b[1;33m)\u001b[0m\u001b[1;33m:\u001b[0m\u001b[1;33m\n",
       "\u001b[0m    \u001b[1;34m\"\"\"Split the source string by the occurrences of the pattern,\n",
       "    returning a list containing the resulting substrings.  If\n",
       "    capturing parentheses are used in pattern, then the text of all\n",
       "    groups in the pattern are also returned as part of the resulting\n",
       "    list.  If maxsplit is nonzero, at most maxsplit splits occur,\n",
       "    and the remainder of the string is returned as the final element\n",
       "    of the list.\"\"\"\u001b[0m\u001b[1;33m\n",
       "\u001b[0m    \u001b[1;32mreturn\u001b[0m \u001b[0m_compile\u001b[0m\u001b[1;33m(\u001b[0m\u001b[0mpattern\u001b[0m\u001b[1;33m,\u001b[0m \u001b[0mflags\u001b[0m\u001b[1;33m)\u001b[0m\u001b[1;33m.\u001b[0m\u001b[0msplit\u001b[0m\u001b[1;33m(\u001b[0m\u001b[0mstring\u001b[0m\u001b[1;33m,\u001b[0m \u001b[0mmaxsplit\u001b[0m\u001b[1;33m)\u001b[0m\u001b[1;33m\u001b[0m\u001b[1;33m\u001b[0m\u001b[0m\n",
       "\u001b[1;31mFile:\u001b[0m      c:\\programdata\\anaconda3\\lib\\re.py\n",
       "\u001b[1;31mType:\u001b[0m      function\n"
      ]
     },
     "metadata": {},
     "output_type": "display_data"
    }
   ],
   "source": [
    "re.split(s[0],'_')"
   ]
  },
  {
   "cell_type": "markdown",
   "metadata": {},
   "source": [
    "#### 这里需要注意split后的类型是object，因为现在Series中的元素已经不是string，而包含了list，且string类型只能含有字符串"
   ]
  },
  {
   "cell_type": "code",
   "execution_count": 266,
   "metadata": {},
   "outputs": [
    {
     "data": {
      "text/plain": [
       "0    ['a', 'b', 'c']\n",
       "1    ['c', 'd', 'e']\n",
       "2               <NA>\n",
       "3    ['f', 'g', 'h']\n",
       "dtype: string"
      ]
     },
     "execution_count": 266,
     "metadata": {},
     "output_type": "execute_result"
    }
   ],
   "source": [
    "# 当然,这时候仍然可以用上述的迂回方式将list转为string\n",
    "s.apply(lambda x: my_re_split(x,'_')).astype('str').astype('string')\n",
    "# 但实际上很多时候是没必要这么做的,因为我们需要的就是这个list,唯一需要的是要把list分拆成多列"
   ]
  },
  {
   "cell_type": "markdown",
   "metadata": {},
   "source": [
    "#### 对于str方法可以进行元素的选择，如果该单元格元素是列表，那么str[i]表示取出第i个元素，如果是单个元素，则先把元素转为列表在取出"
   ]
  },
  {
   "cell_type": "code",
   "execution_count": 252,
   "metadata": {},
   "outputs": [
    {
     "data": {
      "text/plain": [
       "0       b\n",
       "1       d\n",
       "2    <NA>\n",
       "3       g\n",
       "dtype: object"
      ]
     },
     "execution_count": 252,
     "metadata": {},
     "output_type": "execute_result"
    }
   ],
   "source": [
    "s.str.split('_').str[1]"
   ]
  },
  {
   "cell_type": "code",
   "execution_count": 256,
   "metadata": {},
   "outputs": [
    {
     "data": {
      "text/plain": [
       "0    [a, b, c]\n",
       "1    [c, d, e]\n",
       "2         <NA>\n",
       "3    [f, g, h]\n",
       "dtype: object"
      ]
     },
     "execution_count": 256,
     "metadata": {},
     "output_type": "execute_result"
    }
   ],
   "source": [
    "s.str.split('_')\n",
    "# 注意分拆后, 非空的单元格里的元素已经是个list了,但str[1]方法能够准确地提取到这个list的相应位置的元素--这就是Series of list对象的向量化切片方法"
   ]
  },
  {
   "cell_type": "code",
   "execution_count": 258,
   "metadata": {},
   "outputs": [
    {
     "data": {
      "text/plain": [
       "0    [b, c]\n",
       "1    [d, e]\n",
       "2      <NA>\n",
       "3    [g, h]\n",
       "dtype: object"
      ]
     },
     "execution_count": 258,
     "metadata": {},
     "output_type": "execute_result"
    }
   ],
   "source": [
    "# 向量化的切片方式--1\n",
    "s.str.split('_').str[1:3]"
   ]
  },
  {
   "cell_type": "code",
   "execution_count": 259,
   "metadata": {},
   "outputs": [
    {
     "data": {
      "text/plain": [
       "0    [c, b, a]\n",
       "1    [e, d, c]\n",
       "2         <NA>\n",
       "3    [h, g, f]\n",
       "dtype: object"
      ]
     },
     "execution_count": 259,
     "metadata": {},
     "output_type": "execute_result"
    }
   ],
   "source": [
    "# 向量化的切片方式--2\n",
    "# 逆序遍历\n",
    "s.str.split('_').str[::-1]\n",
    "# 这么看来, 其他list的各种切片的操作都应该会被这种方法所支持"
   ]
  },
  {
   "cell_type": "code",
   "execution_count": 268,
   "metadata": {},
   "outputs": [
    {
     "data": {
      "text/plain": [
       "0    ['a\n",
       "1    ['c\n",
       "2    <NA\n",
       "3    ['f\n",
       "dtype: string"
      ]
     },
     "execution_count": 268,
     "metadata": {},
     "output_type": "execute_result"
    }
   ],
   "source": [
    "# 字符串对象当然也是支持切片的, 但转为字符串以后就不容易取到list的元素了\n",
    "s.apply(lambda x: my_re_split(x,'_')).astype('str').astype('string').str[:3]\n",
    "# 一个奇怪的事情发生了--pd.NA对象也被转为 string 了--这不合适...\n",
    "# .astype('str').astype('string') 会把 pd.NA 也按字面显示转为 string, 这就不合适了吧?"
   ]
  },
  {
   "cell_type": "code",
   "execution_count": 273,
   "metadata": {},
   "outputs": [
    {
     "data": {
      "text/plain": [
       "(<NA>, pandas._libs.missing.NAType)"
      ]
     },
     "execution_count": 273,
     "metadata": {},
     "output_type": "execute_result"
    }
   ],
   "source": [
    "s[2],type(s[2]),"
   ]
  },
  {
   "cell_type": "code",
   "execution_count": 276,
   "metadata": {},
   "outputs": [
    {
     "data": {
      "text/plain": [
       "(<NA>, pandas._libs.missing.NAType)"
      ]
     },
     "execution_count": 276,
     "metadata": {},
     "output_type": "execute_result"
    }
   ],
   "source": [
    "s.apply(lambda x: split_func(x))[2],type(s.apply(lambda x: split_func(x))[2])"
   ]
  },
  {
   "cell_type": "code",
   "execution_count": 275,
   "metadata": {},
   "outputs": [
    {
     "data": {
      "text/plain": [
       "(<NA>, pandas._libs.missing.NAType)"
      ]
     },
     "execution_count": 275,
     "metadata": {},
     "output_type": "execute_result"
    }
   ],
   "source": [
    "s.apply(lambda x: my_re_split(x,'_'))[2],type(s.apply(lambda x: my_re_split(x,'_'))[2]),"
   ]
  },
  {
   "cell_type": "code",
   "execution_count": 284,
   "metadata": {},
   "outputs": [
    {
     "data": {
      "text/plain": [
       "('<NA>', str)"
      ]
     },
     "execution_count": 284,
     "metadata": {},
     "output_type": "execute_result"
    }
   ],
   "source": [
    "s.apply(lambda x: my_re_split(x,'_')).astype('str')[2],type(s.apply(lambda x: my_re_split(x,'_')).astype('str')[2])\n",
    "# 在这一步就出问题了--astype('str')会按字面显示将objec转为字符串"
   ]
  },
  {
   "cell_type": "code",
   "execution_count": 274,
   "metadata": {},
   "outputs": [
    {
     "data": {
      "text/plain": [
       "('<NA>', str)"
      ]
     },
     "execution_count": 274,
     "metadata": {},
     "output_type": "execute_result"
    }
   ],
   "source": [
    "# pd.NA变成了 string--已经出现了数据处理错误\n",
    "s.apply(lambda x: my_re_split(x,'_')).astype('str').astype('string')[2],type(s.apply(lambda x: my_re_split(x,'_')).astype('str').astype('string')[2])"
   ]
  },
  {
   "cell_type": "code",
   "execution_count": 283,
   "metadata": {},
   "outputs": [
    {
     "data": {
      "text/plain": [
       "('None', str)"
      ]
     },
     "execution_count": 283,
     "metadata": {},
     "output_type": "execute_result"
    }
   ],
   "source": [
    "pd.Series([1,'1.',pd.NA]).astype('str').astype('string')[2],type(pd.Series([1,'1.',pd.NA]).astype('str').astype('string')[2]) \n",
    "pd.Series([1,'1.',np.nan]).astype('str').astype('string')[2],type(pd.Series([1,'1.',np.nan]).astype('str').astype('string')[2]) \n",
    "pd.Series([1,'1.',None]).astype('str').astype('string')[2],type(pd.Series([1,'1.',None]).astype('str').astype('string')[2]) \n",
    "#pd.Series([1,2,pd.NA]).astype('str').astype('string')[2], type(pd.Series([1,2,pd.NA]).astype('str').astype('string')[2])\n",
    "#pd.Series([1,2,np.nan]).astype('str').astype('string')[2], type(pd.Series([1,2,np.nan]).astype('str').astype('string')[2])\n",
    "#pd.Series([True,False]).astype('string')"
   ]
  },
  {
   "cell_type": "code",
   "execution_count": 285,
   "metadata": {
    "collapsed": true,
    "jupyter": {
     "outputs_hidden": true
    }
   },
   "outputs": [
    {
     "data": {
      "text/plain": [
       "\u001b[1;31mSignature:\u001b[0m \u001b[0ms\u001b[0m\u001b[1;33m.\u001b[0m\u001b[0mastype\u001b[0m\u001b[1;33m(\u001b[0m\u001b[0mdtype\u001b[0m\u001b[1;33m,\u001b[0m \u001b[0mcopy\u001b[0m\u001b[1;33m:\u001b[0m \u001b[0mbool\u001b[0m \u001b[1;33m=\u001b[0m \u001b[1;32mTrue\u001b[0m\u001b[1;33m,\u001b[0m \u001b[0merrors\u001b[0m\u001b[1;33m:\u001b[0m \u001b[0mstr\u001b[0m \u001b[1;33m=\u001b[0m \u001b[1;34m'raise'\u001b[0m\u001b[1;33m)\u001b[0m \u001b[1;33m->\u001b[0m \u001b[1;33m~\u001b[0m\u001b[0mFrameOrSeries\u001b[0m\u001b[1;33m\u001b[0m\u001b[1;33m\u001b[0m\u001b[0m\n",
       "\u001b[1;31mSource:\u001b[0m   \n",
       "    \u001b[1;32mdef\u001b[0m \u001b[0mastype\u001b[0m\u001b[1;33m(\u001b[0m\u001b[1;33m\n",
       "\u001b[0m        \u001b[0mself\u001b[0m\u001b[1;33m:\u001b[0m \u001b[0mFrameOrSeries\u001b[0m\u001b[1;33m,\u001b[0m \u001b[0mdtype\u001b[0m\u001b[1;33m,\u001b[0m \u001b[0mcopy\u001b[0m\u001b[1;33m:\u001b[0m \u001b[0mbool_t\u001b[0m \u001b[1;33m=\u001b[0m \u001b[1;32mTrue\u001b[0m\u001b[1;33m,\u001b[0m \u001b[0merrors\u001b[0m\u001b[1;33m:\u001b[0m \u001b[0mstr\u001b[0m \u001b[1;33m=\u001b[0m \u001b[1;34m\"raise\"\u001b[0m\u001b[1;33m\n",
       "\u001b[0m    \u001b[1;33m)\u001b[0m \u001b[1;33m->\u001b[0m \u001b[0mFrameOrSeries\u001b[0m\u001b[1;33m:\u001b[0m\u001b[1;33m\n",
       "\u001b[0m        \u001b[1;34m\"\"\"\n",
       "        Cast a pandas object to a specified dtype ``dtype``.\n",
       "\n",
       "        Parameters\n",
       "        ----------\n",
       "        dtype : data type, or dict of column name -> data type\n",
       "            Use a numpy.dtype or Python type to cast entire pandas object to\n",
       "            the same type. Alternatively, use {col: dtype, ...}, where col is a\n",
       "            column label and dtype is a numpy.dtype or Python type to cast one\n",
       "            or more of the DataFrame's columns to column-specific types.\n",
       "        copy : bool, default True\n",
       "            Return a copy when ``copy=True`` (be very careful setting\n",
       "            ``copy=False`` as changes to values then may propagate to other\n",
       "            pandas objects).\n",
       "        errors : {'raise', 'ignore'}, default 'raise'\n",
       "            Control raising of exceptions on invalid data for provided dtype.\n",
       "\n",
       "            - ``raise`` : allow exceptions to be raised\n",
       "            - ``ignore`` : suppress exceptions. On error return original object.\n",
       "\n",
       "        Returns\n",
       "        -------\n",
       "        casted : same type as caller\n",
       "\n",
       "        See Also\n",
       "        --------\n",
       "        to_datetime : Convert argument to datetime.\n",
       "        to_timedelta : Convert argument to timedelta.\n",
       "        to_numeric : Convert argument to a numeric type.\n",
       "        numpy.ndarray.astype : Cast a numpy array to a specified type.\n",
       "\n",
       "        Examples\n",
       "        --------\n",
       "        Create a DataFrame:\n",
       "\n",
       "        >>> d = {'col1': [1, 2], 'col2': [3, 4]}\n",
       "        >>> df = pd.DataFrame(data=d)\n",
       "        >>> df.dtypes\n",
       "        col1    int64\n",
       "        col2    int64\n",
       "        dtype: object\n",
       "\n",
       "        Cast all columns to int32:\n",
       "\n",
       "        >>> df.astype('int32').dtypes\n",
       "        col1    int32\n",
       "        col2    int32\n",
       "        dtype: object\n",
       "\n",
       "        Cast col1 to int32 using a dictionary:\n",
       "\n",
       "        >>> df.astype({'col1': 'int32'}).dtypes\n",
       "        col1    int32\n",
       "        col2    int64\n",
       "        dtype: object\n",
       "\n",
       "        Create a series:\n",
       "\n",
       "        >>> ser = pd.Series([1, 2], dtype='int32')\n",
       "        >>> ser\n",
       "        0    1\n",
       "        1    2\n",
       "        dtype: int32\n",
       "        >>> ser.astype('int64')\n",
       "        0    1\n",
       "        1    2\n",
       "        dtype: int64\n",
       "\n",
       "        Convert to categorical type:\n",
       "\n",
       "        >>> ser.astype('category')\n",
       "        0    1\n",
       "        1    2\n",
       "        dtype: category\n",
       "        Categories (2, int64): [1, 2]\n",
       "\n",
       "        Convert to ordered categorical type with custom ordering:\n",
       "\n",
       "        >>> cat_dtype = pd.api.types.CategoricalDtype(\n",
       "        ...     categories=[2, 1], ordered=True)\n",
       "        >>> ser.astype(cat_dtype)\n",
       "        0    1\n",
       "        1    2\n",
       "        dtype: category\n",
       "        Categories (2, int64): [2 < 1]\n",
       "\n",
       "        Note that using ``copy=False`` and changing data on a new\n",
       "        pandas object may propagate changes:\n",
       "\n",
       "        >>> s1 = pd.Series([1, 2])\n",
       "        >>> s2 = s1.astype('int64', copy=False)\n",
       "        >>> s2[0] = 10\n",
       "        >>> s1  # note that s1[0] has changed too\n",
       "        0    10\n",
       "        1     2\n",
       "        dtype: int64\n",
       "        \"\"\"\u001b[0m\u001b[1;33m\n",
       "\u001b[0m        \u001b[1;32mif\u001b[0m \u001b[0mis_dict_like\u001b[0m\u001b[1;33m(\u001b[0m\u001b[0mdtype\u001b[0m\u001b[1;33m)\u001b[0m\u001b[1;33m:\u001b[0m\u001b[1;33m\n",
       "\u001b[0m            \u001b[1;32mif\u001b[0m \u001b[0mself\u001b[0m\u001b[1;33m.\u001b[0m\u001b[0mndim\u001b[0m \u001b[1;33m==\u001b[0m \u001b[1;36m1\u001b[0m\u001b[1;33m:\u001b[0m  \u001b[1;31m# i.e. Series\u001b[0m\u001b[1;33m\n",
       "\u001b[0m                \u001b[1;32mif\u001b[0m \u001b[0mlen\u001b[0m\u001b[1;33m(\u001b[0m\u001b[0mdtype\u001b[0m\u001b[1;33m)\u001b[0m \u001b[1;33m>\u001b[0m \u001b[1;36m1\u001b[0m \u001b[1;32mor\u001b[0m \u001b[0mself\u001b[0m\u001b[1;33m.\u001b[0m\u001b[0mname\u001b[0m \u001b[1;32mnot\u001b[0m \u001b[1;32min\u001b[0m \u001b[0mdtype\u001b[0m\u001b[1;33m:\u001b[0m\u001b[1;33m\n",
       "\u001b[0m                    \u001b[1;32mraise\u001b[0m \u001b[0mKeyError\u001b[0m\u001b[1;33m(\u001b[0m\u001b[1;33m\n",
       "\u001b[0m                        \u001b[1;34m\"Only the Series name can be used for \"\u001b[0m\u001b[1;33m\n",
       "\u001b[0m                        \u001b[1;34m\"the key in Series dtype mappings.\"\u001b[0m\u001b[1;33m\n",
       "\u001b[0m                    \u001b[1;33m)\u001b[0m\u001b[1;33m\n",
       "\u001b[0m                \u001b[0mnew_type\u001b[0m \u001b[1;33m=\u001b[0m \u001b[0mdtype\u001b[0m\u001b[1;33m[\u001b[0m\u001b[0mself\u001b[0m\u001b[1;33m.\u001b[0m\u001b[0mname\u001b[0m\u001b[1;33m]\u001b[0m\u001b[1;33m\n",
       "\u001b[0m                \u001b[1;32mreturn\u001b[0m \u001b[0mself\u001b[0m\u001b[1;33m.\u001b[0m\u001b[0mastype\u001b[0m\u001b[1;33m(\u001b[0m\u001b[0mnew_type\u001b[0m\u001b[1;33m,\u001b[0m \u001b[0mcopy\u001b[0m\u001b[1;33m,\u001b[0m \u001b[0merrors\u001b[0m\u001b[1;33m)\u001b[0m\u001b[1;33m\n",
       "\u001b[0m\u001b[1;33m\n",
       "\u001b[0m            \u001b[1;32mfor\u001b[0m \u001b[0mcol_name\u001b[0m \u001b[1;32min\u001b[0m \u001b[0mdtype\u001b[0m\u001b[1;33m.\u001b[0m\u001b[0mkeys\u001b[0m\u001b[1;33m(\u001b[0m\u001b[1;33m)\u001b[0m\u001b[1;33m:\u001b[0m\u001b[1;33m\n",
       "\u001b[0m                \u001b[1;32mif\u001b[0m \u001b[0mcol_name\u001b[0m \u001b[1;32mnot\u001b[0m \u001b[1;32min\u001b[0m \u001b[0mself\u001b[0m\u001b[1;33m:\u001b[0m\u001b[1;33m\n",
       "\u001b[0m                    \u001b[1;32mraise\u001b[0m \u001b[0mKeyError\u001b[0m\u001b[1;33m(\u001b[0m\u001b[1;33m\n",
       "\u001b[0m                        \u001b[1;34m\"Only a column name can be used for the \"\u001b[0m\u001b[1;33m\n",
       "\u001b[0m                        \u001b[1;34m\"key in a dtype mappings argument.\"\u001b[0m\u001b[1;33m\n",
       "\u001b[0m                    \u001b[1;33m)\u001b[0m\u001b[1;33m\n",
       "\u001b[0m            \u001b[0mresults\u001b[0m \u001b[1;33m=\u001b[0m \u001b[1;33m[\u001b[0m\u001b[1;33m]\u001b[0m\u001b[1;33m\n",
       "\u001b[0m            \u001b[1;32mfor\u001b[0m \u001b[0mcol_name\u001b[0m\u001b[1;33m,\u001b[0m \u001b[0mcol\u001b[0m \u001b[1;32min\u001b[0m \u001b[0mself\u001b[0m\u001b[1;33m.\u001b[0m\u001b[0mitems\u001b[0m\u001b[1;33m(\u001b[0m\u001b[1;33m)\u001b[0m\u001b[1;33m:\u001b[0m\u001b[1;33m\n",
       "\u001b[0m                \u001b[1;32mif\u001b[0m \u001b[0mcol_name\u001b[0m \u001b[1;32min\u001b[0m \u001b[0mdtype\u001b[0m\u001b[1;33m:\u001b[0m\u001b[1;33m\n",
       "\u001b[0m                    \u001b[0mresults\u001b[0m\u001b[1;33m.\u001b[0m\u001b[0mappend\u001b[0m\u001b[1;33m(\u001b[0m\u001b[1;33m\n",
       "\u001b[0m                        \u001b[0mcol\u001b[0m\u001b[1;33m.\u001b[0m\u001b[0mastype\u001b[0m\u001b[1;33m(\u001b[0m\u001b[0mdtype\u001b[0m\u001b[1;33m=\u001b[0m\u001b[0mdtype\u001b[0m\u001b[1;33m[\u001b[0m\u001b[0mcol_name\u001b[0m\u001b[1;33m]\u001b[0m\u001b[1;33m,\u001b[0m \u001b[0mcopy\u001b[0m\u001b[1;33m=\u001b[0m\u001b[0mcopy\u001b[0m\u001b[1;33m,\u001b[0m \u001b[0merrors\u001b[0m\u001b[1;33m=\u001b[0m\u001b[0merrors\u001b[0m\u001b[1;33m)\u001b[0m\u001b[1;33m\n",
       "\u001b[0m                    \u001b[1;33m)\u001b[0m\u001b[1;33m\n",
       "\u001b[0m                \u001b[1;32melse\u001b[0m\u001b[1;33m:\u001b[0m\u001b[1;33m\n",
       "\u001b[0m                    \u001b[0mresults\u001b[0m\u001b[1;33m.\u001b[0m\u001b[0mappend\u001b[0m\u001b[1;33m(\u001b[0m\u001b[0mcol\u001b[0m\u001b[1;33m.\u001b[0m\u001b[0mcopy\u001b[0m\u001b[1;33m(\u001b[0m\u001b[1;33m)\u001b[0m \u001b[1;32mif\u001b[0m \u001b[0mcopy\u001b[0m \u001b[1;32melse\u001b[0m \u001b[0mcol\u001b[0m\u001b[1;33m)\u001b[0m\u001b[1;33m\n",
       "\u001b[0m\u001b[1;33m\n",
       "\u001b[0m        \u001b[1;32melif\u001b[0m \u001b[0mis_extension_array_dtype\u001b[0m\u001b[1;33m(\u001b[0m\u001b[0mdtype\u001b[0m\u001b[1;33m)\u001b[0m \u001b[1;32mand\u001b[0m \u001b[0mself\u001b[0m\u001b[1;33m.\u001b[0m\u001b[0mndim\u001b[0m \u001b[1;33m>\u001b[0m \u001b[1;36m1\u001b[0m\u001b[1;33m:\u001b[0m\u001b[1;33m\n",
       "\u001b[0m            \u001b[1;31m# GH 18099/22869: columnwise conversion to extension dtype\u001b[0m\u001b[1;33m\n",
       "\u001b[0m            \u001b[1;31m# GH 24704: use iloc to handle duplicate column names\u001b[0m\u001b[1;33m\n",
       "\u001b[0m            \u001b[0mresults\u001b[0m \u001b[1;33m=\u001b[0m \u001b[1;33m[\u001b[0m\u001b[1;33m\n",
       "\u001b[0m                \u001b[0mself\u001b[0m\u001b[1;33m.\u001b[0m\u001b[0miloc\u001b[0m\u001b[1;33m[\u001b[0m\u001b[1;33m:\u001b[0m\u001b[1;33m,\u001b[0m \u001b[0mi\u001b[0m\u001b[1;33m]\u001b[0m\u001b[1;33m.\u001b[0m\u001b[0mastype\u001b[0m\u001b[1;33m(\u001b[0m\u001b[0mdtype\u001b[0m\u001b[1;33m,\u001b[0m \u001b[0mcopy\u001b[0m\u001b[1;33m=\u001b[0m\u001b[0mcopy\u001b[0m\u001b[1;33m)\u001b[0m\u001b[1;33m\n",
       "\u001b[0m                \u001b[1;32mfor\u001b[0m \u001b[0mi\u001b[0m \u001b[1;32min\u001b[0m \u001b[0mrange\u001b[0m\u001b[1;33m(\u001b[0m\u001b[0mlen\u001b[0m\u001b[1;33m(\u001b[0m\u001b[0mself\u001b[0m\u001b[1;33m.\u001b[0m\u001b[0mcolumns\u001b[0m\u001b[1;33m)\u001b[0m\u001b[1;33m)\u001b[0m\u001b[1;33m\n",
       "\u001b[0m            \u001b[1;33m]\u001b[0m\u001b[1;33m\n",
       "\u001b[0m\u001b[1;33m\n",
       "\u001b[0m        \u001b[1;32melse\u001b[0m\u001b[1;33m:\u001b[0m\u001b[1;33m\n",
       "\u001b[0m            \u001b[1;31m# else, only a single dtype is given\u001b[0m\u001b[1;33m\n",
       "\u001b[0m            \u001b[0mnew_data\u001b[0m \u001b[1;33m=\u001b[0m \u001b[0mself\u001b[0m\u001b[1;33m.\u001b[0m\u001b[0m_data\u001b[0m\u001b[1;33m.\u001b[0m\u001b[0mastype\u001b[0m\u001b[1;33m(\u001b[0m\u001b[0mdtype\u001b[0m\u001b[1;33m=\u001b[0m\u001b[0mdtype\u001b[0m\u001b[1;33m,\u001b[0m \u001b[0mcopy\u001b[0m\u001b[1;33m=\u001b[0m\u001b[0mcopy\u001b[0m\u001b[1;33m,\u001b[0m \u001b[0merrors\u001b[0m\u001b[1;33m=\u001b[0m\u001b[0merrors\u001b[0m\u001b[1;33m)\u001b[0m\u001b[1;33m\n",
       "\u001b[0m            \u001b[1;32mreturn\u001b[0m \u001b[0mself\u001b[0m\u001b[1;33m.\u001b[0m\u001b[0m_constructor\u001b[0m\u001b[1;33m(\u001b[0m\u001b[0mnew_data\u001b[0m\u001b[1;33m)\u001b[0m\u001b[1;33m.\u001b[0m\u001b[0m__finalize__\u001b[0m\u001b[1;33m(\u001b[0m\u001b[0mself\u001b[0m\u001b[1;33m)\u001b[0m\u001b[1;33m\n",
       "\u001b[0m\u001b[1;33m\n",
       "\u001b[0m        \u001b[1;31m# GH 19920: retain column metadata after concat\u001b[0m\u001b[1;33m\n",
       "\u001b[0m        \u001b[0mresult\u001b[0m \u001b[1;33m=\u001b[0m \u001b[0mpd\u001b[0m\u001b[1;33m.\u001b[0m\u001b[0mconcat\u001b[0m\u001b[1;33m(\u001b[0m\u001b[0mresults\u001b[0m\u001b[1;33m,\u001b[0m \u001b[0maxis\u001b[0m\u001b[1;33m=\u001b[0m\u001b[1;36m1\u001b[0m\u001b[1;33m,\u001b[0m \u001b[0mcopy\u001b[0m\u001b[1;33m=\u001b[0m\u001b[1;32mFalse\u001b[0m\u001b[1;33m)\u001b[0m\u001b[1;33m\n",
       "\u001b[0m        \u001b[0mresult\u001b[0m\u001b[1;33m.\u001b[0m\u001b[0mcolumns\u001b[0m \u001b[1;33m=\u001b[0m \u001b[0mself\u001b[0m\u001b[1;33m.\u001b[0m\u001b[0mcolumns\u001b[0m\u001b[1;33m\n",
       "\u001b[0m        \u001b[1;32mreturn\u001b[0m \u001b[0mresult\u001b[0m\u001b[1;33m\u001b[0m\u001b[1;33m\u001b[0m\u001b[0m\n",
       "\u001b[1;31mFile:\u001b[0m      c:\\programdata\\anaconda3\\lib\\site-packages\\pandas\\core\\generic.py\n",
       "\u001b[1;31mType:\u001b[0m      method\n"
      ]
     },
     "metadata": {},
     "output_type": "display_data"
    }
   ],
   "source": [
    "# astype是个比较霸道的类型转换方式, 缺乏对缺失值的有效操作方式.\n",
    "s.astype??"
   ]
  },
  {
   "cell_type": "code",
   "execution_count": 291,
   "metadata": {},
   "outputs": [
    {
     "data": {
      "text/plain": [
       "(['c', 'd', 'e'], ['c', 'd', 'e'])"
      ]
     },
     "execution_count": 291,
     "metadata": {},
     "output_type": "execute_result"
    }
   ],
   "source": [
    "s.str.split('_')[:][1],  s.str.split('_')[1]# 选取效果和上述是有些区别的"
   ]
  },
  {
   "cell_type": "code",
   "execution_count": 294,
   "metadata": {},
   "outputs": [
    {
     "data": {
      "text/plain": [
       "0        a_b_c\n",
       "1    [a, b, c]\n",
       "dtype: object"
      ]
     },
     "execution_count": 294,
     "metadata": {},
     "output_type": "execute_result"
    }
   ],
   "source": [
    "pd.Series(['a_b_c', ['a','b','c']], dtype=\"object\")#.str[1]\n",
    "#第一个元素先用list('a_b_c')转为['a','_','b','_','c'],然后再切片\n",
    "#第二个元素是个list, list会正常的切片"
   ]
  },
  {
   "cell_type": "code",
   "execution_count": 295,
   "metadata": {},
   "outputs": [
    {
     "data": {
      "text/plain": [
       "0    _\n",
       "1    b\n",
       "dtype: object"
      ]
     },
     "execution_count": 295,
     "metadata": {},
     "output_type": "execute_result"
    }
   ],
   "source": [
    "pd.Series(['a_b_c', ['a','b','c']], dtype=\"object\").str[1]"
   ]
  },
  {
   "cell_type": "code",
   "execution_count": 296,
   "metadata": {},
   "outputs": [
    {
     "data": {
      "text/plain": [
       "0        a_\n",
       "1    [a, b]\n",
       "dtype: object"
      ]
     },
     "execution_count": 296,
     "metadata": {},
     "output_type": "execute_result"
    }
   ],
   "source": [
    "pd.Series(['a_b_c', ['a','b','c']], dtype=\"object\").str[:2]\n",
    "# str虽然看起来是转为str再操作, 但实际上, 对于是字符串的单元格,会选择该字符串相应位置的元素,而对于是list的, 则会使用切片方法"
   ]
  },
  {
   "cell_type": "markdown",
   "metadata": {},
   "source": [
    "#### （b）其他参数\n",
    "#### expand参数控制了是否将列拆开，n参数代表最多分割多少次(分割成n+1列)"
   ]
  },
  {
   "cell_type": "code",
   "execution_count": 58,
   "metadata": {
    "collapsed": true,
    "jupyter": {
     "outputs_hidden": true
    }
   },
   "outputs": [
    {
     "data": {
      "text/plain": [
       "\u001b[1;31mSignature:\u001b[0m \u001b[0ms\u001b[0m\u001b[1;33m.\u001b[0m\u001b[0mstr\u001b[0m\u001b[1;33m.\u001b[0m\u001b[0msplit\u001b[0m\u001b[1;33m(\u001b[0m\u001b[0mpat\u001b[0m\u001b[1;33m=\u001b[0m\u001b[1;32mNone\u001b[0m\u001b[1;33m,\u001b[0m \u001b[0mn\u001b[0m\u001b[1;33m=\u001b[0m\u001b[1;33m-\u001b[0m\u001b[1;36m1\u001b[0m\u001b[1;33m,\u001b[0m \u001b[0mexpand\u001b[0m\u001b[1;33m=\u001b[0m\u001b[1;32mFalse\u001b[0m\u001b[1;33m)\u001b[0m\u001b[1;33m\u001b[0m\u001b[1;33m\u001b[0m\u001b[0m\n",
       "\u001b[1;31mDocstring:\u001b[0m\n",
       "Split strings around given separator/delimiter.\n",
       "\n",
       "Splits the string in the Series/Index from the beginning,\n",
       "at the specified delimiter string. Equivalent to :meth:`str.split`.\n",
       "\n",
       "Parameters\n",
       "----------\n",
       "pat : str, optional\n",
       "    String or regular expression to split on.\n",
       "    If not specified, split on whitespace.\n",
       "n : int, default -1 (all)\n",
       "    Limit number of splits in output.\n",
       "    ``None``, 0 and -1 will be interpreted as return all splits.\n",
       "expand : bool, default False\n",
       "    Expand the splitted strings into separate columns.\n",
       "\n",
       "    * If ``True``, return DataFrame/MultiIndex expanding dimensionality.\n",
       "    * If ``False``, return Series/Index, containing lists of strings.\n",
       "\n",
       "Returns\n",
       "-------\n",
       "Series, Index, DataFrame or MultiIndex\n",
       "    Type matches caller unless ``expand=True`` (see Notes).\n",
       "\n",
       "See Also\n",
       "--------\n",
       "Series.str.split : Split strings around given separator/delimiter.\n",
       "Series.str.rsplit : Splits string around given separator/delimiter,\n",
       "    starting from the right.\n",
       "Series.str.join : Join lists contained as elements in the Series/Index\n",
       "    with passed delimiter.\n",
       "str.split : Standard library version for split.\n",
       "str.rsplit : Standard library version for rsplit.\n",
       "\n",
       "Notes\n",
       "-----\n",
       "The handling of the `n` keyword depends on the number of found splits:\n",
       "\n",
       "- If found splits > `n`,  make first `n` splits only\n",
       "- If found splits <= `n`, make all splits\n",
       "- If for a certain row the number of found splits < `n`,\n",
       "  append `None` for padding up to `n` if ``expand=True``\n",
       "\n",
       "If using ``expand=True``, Series and Index callers return DataFrame and\n",
       "MultiIndex objects, respectively.\n",
       "\n",
       "Examples\n",
       "--------\n",
       ">>> s = pd.Series([\"this is a regular sentence\",\n",
       "...                \"https://docs.python.org/3/tutorial/index.html\",\n",
       "...                np.nan])\n",
       "0                       this is a regular sentence\n",
       "1    https://docs.python.org/3/tutorial/index.html\n",
       "2                                              NaN\n",
       "dtype: object\n",
       "\n",
       "In the default setting, the string is split by whitespace.\n",
       "\n",
       ">>> s.str.split()\n",
       "0                   [this, is, a, regular, sentence]\n",
       "1    [https://docs.python.org/3/tutorial/index.html]\n",
       "2                                                NaN\n",
       "dtype: object\n",
       "\n",
       "Without the `n` parameter, the outputs of `rsplit` and `split`\n",
       "are identical.\n",
       "\n",
       ">>> s.str.rsplit()\n",
       "0                   [this, is, a, regular, sentence]\n",
       "1    [https://docs.python.org/3/tutorial/index.html]\n",
       "2                                                NaN\n",
       "dtype: object\n",
       "\n",
       "The `n` parameter can be used to limit the number of splits on the\n",
       "delimiter. The outputs of `split` and `rsplit` are different.\n",
       "\n",
       ">>> s.str.split(n=2)\n",
       "0                     [this, is, a regular sentence]\n",
       "1    [https://docs.python.org/3/tutorial/index.html]\n",
       "2                                                NaN\n",
       "dtype: object\n",
       "\n",
       ">>> s.str.rsplit(n=2)\n",
       "0                     [this is a, regular, sentence]\n",
       "1    [https://docs.python.org/3/tutorial/index.html]\n",
       "2                                                NaN\n",
       "dtype: object\n",
       "\n",
       "The `pat` parameter can be used to split by other characters.\n",
       "\n",
       ">>> s.str.split(pat = \"/\")\n",
       "0                         [this is a regular sentence]\n",
       "1    [https:, , docs.python.org, 3, tutorial, index...\n",
       "2                                                  NaN\n",
       "dtype: object\n",
       "\n",
       "When using ``expand=True``, the split elements will expand out into\n",
       "separate columns. If NaN is present, it is propagated throughout\n",
       "the columns during the split.\n",
       "\n",
       ">>> s.str.split(expand=True)\n",
       "                                               0     1     2        3\n",
       "0                                           this    is     a  regular\n",
       "1  https://docs.python.org/3/tutorial/index.html  None  None     None\n",
       "2                                            NaN   NaN   NaN      NaN \\\n",
       "             4\n",
       "0     sentence\n",
       "1         None\n",
       "2          NaN\n",
       "\n",
       "For slightly more complex use cases like splitting the html document name\n",
       "from a url, a combination of parameter settings can be used.\n",
       "\n",
       ">>> s.str.rsplit(\"/\", n=1, expand=True)\n",
       "                                    0           1\n",
       "0          this is a regular sentence        None\n",
       "1  https://docs.python.org/3/tutorial  index.html\n",
       "2                                 NaN         NaN\n",
       "\n",
       "Remember to escape special characters when explicitly using regular\n",
       "expressions.\n",
       "\n",
       ">>> s = pd.Series([\"1+1=2\"])\n",
       "\n",
       ">>> s.str.split(r\"\\+|=\", expand=True)\n",
       "     0    1    2\n",
       "0    1    1    2\n",
       "\u001b[1;31mSource:\u001b[0m   \n",
       "    \u001b[1;33m@\u001b[0m\u001b[0mAppender\u001b[0m\u001b[1;33m(\u001b[0m\u001b[0m_shared_docs\u001b[0m\u001b[1;33m[\u001b[0m\u001b[1;34m\"str_split\"\u001b[0m\u001b[1;33m]\u001b[0m \u001b[1;33m%\u001b[0m \u001b[1;33m{\u001b[0m\u001b[1;34m\"side\"\u001b[0m\u001b[1;33m:\u001b[0m \u001b[1;34m\"beginning\"\u001b[0m\u001b[1;33m,\u001b[0m \u001b[1;34m\"method\"\u001b[0m\u001b[1;33m:\u001b[0m \u001b[1;34m\"split\"\u001b[0m\u001b[1;33m}\u001b[0m\u001b[1;33m)\u001b[0m\u001b[1;33m\n",
       "\u001b[0m    \u001b[1;33m@\u001b[0m\u001b[0mforbid_nonstring_types\u001b[0m\u001b[1;33m(\u001b[0m\u001b[1;33m[\u001b[0m\u001b[1;34m\"bytes\"\u001b[0m\u001b[1;33m]\u001b[0m\u001b[1;33m)\u001b[0m\u001b[1;33m\n",
       "\u001b[0m    \u001b[1;32mdef\u001b[0m \u001b[0msplit\u001b[0m\u001b[1;33m(\u001b[0m\u001b[0mself\u001b[0m\u001b[1;33m,\u001b[0m \u001b[0mpat\u001b[0m\u001b[1;33m=\u001b[0m\u001b[1;32mNone\u001b[0m\u001b[1;33m,\u001b[0m \u001b[0mn\u001b[0m\u001b[1;33m=\u001b[0m\u001b[1;33m-\u001b[0m\u001b[1;36m1\u001b[0m\u001b[1;33m,\u001b[0m \u001b[0mexpand\u001b[0m\u001b[1;33m=\u001b[0m\u001b[1;32mFalse\u001b[0m\u001b[1;33m)\u001b[0m\u001b[1;33m:\u001b[0m\u001b[1;33m\n",
       "\u001b[0m        \u001b[0mresult\u001b[0m \u001b[1;33m=\u001b[0m \u001b[0mstr_split\u001b[0m\u001b[1;33m(\u001b[0m\u001b[0mself\u001b[0m\u001b[1;33m.\u001b[0m\u001b[0m_parent\u001b[0m\u001b[1;33m,\u001b[0m \u001b[0mpat\u001b[0m\u001b[1;33m,\u001b[0m \u001b[0mn\u001b[0m\u001b[1;33m=\u001b[0m\u001b[0mn\u001b[0m\u001b[1;33m)\u001b[0m\u001b[1;33m\n",
       "\u001b[0m        \u001b[1;32mreturn\u001b[0m \u001b[0mself\u001b[0m\u001b[1;33m.\u001b[0m\u001b[0m_wrap_result\u001b[0m\u001b[1;33m(\u001b[0m\u001b[0mresult\u001b[0m\u001b[1;33m,\u001b[0m \u001b[0mexpand\u001b[0m\u001b[1;33m=\u001b[0m\u001b[0mexpand\u001b[0m\u001b[1;33m,\u001b[0m \u001b[0mreturns_string\u001b[0m\u001b[1;33m=\u001b[0m\u001b[0mexpand\u001b[0m\u001b[1;33m)\u001b[0m\u001b[1;33m\u001b[0m\u001b[1;33m\u001b[0m\u001b[0m\n",
       "\u001b[1;31mFile:\u001b[0m      c:\\programdata\\anaconda3\\lib\\site-packages\\pandas\\core\\strings.py\n",
       "\u001b[1;31mType:\u001b[0m      method\n"
      ]
     },
     "metadata": {},
     "output_type": "display_data"
    }
   ],
   "source": [
    "s.str.split??\n",
    "#n : int, default -1 (all)\n",
    "#    Limit number of splits in output.\n",
    "#    ``None``, 0 and -1 will be interpreted as return all splits.\n",
    "#expand : bool, default False\n",
    "#    Expand the splitted strings into separate columns.\n",
    "#\n",
    "#    * If ``True``, return DataFrame/MultiIndex expanding dimensionality.\n",
    "#    * If ``False``, return Series/Index, containing lists of strings."
   ]
  },
  {
   "cell_type": "code",
   "execution_count": 297,
   "metadata": {},
   "outputs": [
    {
     "data": {
      "text/html": [
       "<div>\n",
       "<style scoped>\n",
       "    .dataframe tbody tr th:only-of-type {\n",
       "        vertical-align: middle;\n",
       "    }\n",
       "\n",
       "    .dataframe tbody tr th {\n",
       "        vertical-align: top;\n",
       "    }\n",
       "\n",
       "    .dataframe thead th {\n",
       "        text-align: right;\n",
       "    }\n",
       "</style>\n",
       "<table border=\"1\" class=\"dataframe\">\n",
       "  <thead>\n",
       "    <tr style=\"text-align: right;\">\n",
       "      <th></th>\n",
       "      <th>0</th>\n",
       "      <th>1</th>\n",
       "      <th>2</th>\n",
       "    </tr>\n",
       "  </thead>\n",
       "  <tbody>\n",
       "    <tr>\n",
       "      <th>0</th>\n",
       "      <td>a</td>\n",
       "      <td>b</td>\n",
       "      <td>c</td>\n",
       "    </tr>\n",
       "    <tr>\n",
       "      <th>1</th>\n",
       "      <td>c</td>\n",
       "      <td>d</td>\n",
       "      <td>e</td>\n",
       "    </tr>\n",
       "    <tr>\n",
       "      <th>2</th>\n",
       "      <td>&lt;NA&gt;</td>\n",
       "      <td>&lt;NA&gt;</td>\n",
       "      <td>&lt;NA&gt;</td>\n",
       "    </tr>\n",
       "    <tr>\n",
       "      <th>3</th>\n",
       "      <td>f</td>\n",
       "      <td>g</td>\n",
       "      <td>h</td>\n",
       "    </tr>\n",
       "  </tbody>\n",
       "</table>\n",
       "</div>"
      ],
      "text/plain": [
       "      0     1     2\n",
       "0     a     b     c\n",
       "1     c     d     e\n",
       "2  <NA>  <NA>  <NA>\n",
       "3     f     g     h"
      ]
     },
     "execution_count": 297,
     "metadata": {},
     "output_type": "execute_result"
    }
   ],
   "source": [
    "s.str.split('_',expand=True)"
   ]
  },
  {
   "cell_type": "code",
   "execution_count": 301,
   "metadata": {},
   "outputs": [
    {
     "data": {
      "text/plain": [
       "0    [a, b, c]\n",
       "1    [c, d, e]\n",
       "2         <NA>\n",
       "3    [f, g, h]\n",
       "dtype: object"
      ]
     },
     "execution_count": 301,
     "metadata": {},
     "output_type": "execute_result"
    }
   ],
   "source": [
    "s.str.split('_',n=3) #expand 默认是 False, 因此单独指定 n=3 是没有效果的"
   ]
  },
  {
   "cell_type": "code",
   "execution_count": 302,
   "metadata": {},
   "outputs": [
    {
     "data": {
      "text/html": [
       "<div>\n",
       "<style scoped>\n",
       "    .dataframe tbody tr th:only-of-type {\n",
       "        vertical-align: middle;\n",
       "    }\n",
       "\n",
       "    .dataframe tbody tr th {\n",
       "        vertical-align: top;\n",
       "    }\n",
       "\n",
       "    .dataframe thead th {\n",
       "        text-align: right;\n",
       "    }\n",
       "</style>\n",
       "<table border=\"1\" class=\"dataframe\">\n",
       "  <thead>\n",
       "    <tr style=\"text-align: right;\">\n",
       "      <th></th>\n",
       "      <th>0</th>\n",
       "      <th>1</th>\n",
       "    </tr>\n",
       "  </thead>\n",
       "  <tbody>\n",
       "    <tr>\n",
       "      <th>0</th>\n",
       "      <td>a</td>\n",
       "      <td>b_c</td>\n",
       "    </tr>\n",
       "    <tr>\n",
       "      <th>1</th>\n",
       "      <td>c</td>\n",
       "      <td>d_e</td>\n",
       "    </tr>\n",
       "    <tr>\n",
       "      <th>2</th>\n",
       "      <td>&lt;NA&gt;</td>\n",
       "      <td>&lt;NA&gt;</td>\n",
       "    </tr>\n",
       "    <tr>\n",
       "      <th>3</th>\n",
       "      <td>f</td>\n",
       "      <td>g_h</td>\n",
       "    </tr>\n",
       "  </tbody>\n",
       "</table>\n",
       "</div>"
      ],
      "text/plain": [
       "      0     1\n",
       "0     a   b_c\n",
       "1     c   d_e\n",
       "2  <NA>  <NA>\n",
       "3     f   g_h"
      ]
     },
     "execution_count": 302,
     "metadata": {},
     "output_type": "execute_result"
    }
   ],
   "source": [
    "s.str.split('_',expand=True,n=1) # n=1 则拆分一次, expand=True 则会拆分成多列--由于只进行了一次拆分,于是被拆分成了1+1=2列"
   ]
  },
  {
   "cell_type": "code",
   "execution_count": 303,
   "metadata": {},
   "outputs": [
    {
     "data": {
      "text/html": [
       "<div>\n",
       "<style scoped>\n",
       "    .dataframe tbody tr th:only-of-type {\n",
       "        vertical-align: middle;\n",
       "    }\n",
       "\n",
       "    .dataframe tbody tr th {\n",
       "        vertical-align: top;\n",
       "    }\n",
       "\n",
       "    .dataframe thead th {\n",
       "        text-align: right;\n",
       "    }\n",
       "</style>\n",
       "<table border=\"1\" class=\"dataframe\">\n",
       "  <thead>\n",
       "    <tr style=\"text-align: right;\">\n",
       "      <th></th>\n",
       "      <th>0</th>\n",
       "      <th>1</th>\n",
       "    </tr>\n",
       "  </thead>\n",
       "  <tbody>\n",
       "    <tr>\n",
       "      <th>0</th>\n",
       "      <td>a</td>\n",
       "      <td>b_c</td>\n",
       "    </tr>\n",
       "    <tr>\n",
       "      <th>1</th>\n",
       "      <td>c</td>\n",
       "      <td>d_e</td>\n",
       "    </tr>\n",
       "    <tr>\n",
       "      <th>2</th>\n",
       "      <td>&lt;NA&gt;</td>\n",
       "      <td>&lt;NA&gt;</td>\n",
       "    </tr>\n",
       "    <tr>\n",
       "      <th>3</th>\n",
       "      <td>f</td>\n",
       "      <td>g_h</td>\n",
       "    </tr>\n",
       "  </tbody>\n",
       "</table>\n",
       "</div>"
      ],
      "text/plain": [
       "      0     1\n",
       "0     a   b_c\n",
       "1     c   d_e\n",
       "2  <NA>  <NA>\n",
       "3     f   g_h"
      ]
     },
     "execution_count": 303,
     "metadata": {},
     "output_type": "execute_result"
    }
   ],
   "source": [
    "s.str.split('_',expand=True,n=1)"
   ]
  },
  {
   "cell_type": "markdown",
   "metadata": {},
   "source": [
    "### 2. str.cat方法"
   ]
  },
  {
   "cell_type": "markdown",
   "metadata": {},
   "source": [
    "#### （a）不同对象的拼接模式\n",
    "#### cat方法对于不同对象的作用结果并不相同，其中的对象包括：单列、双列、多列"
   ]
  },
  {
   "cell_type": "markdown",
   "metadata": {},
   "source": [
    "#### ① 对于单个Series而言，就是指所有的元素进行字符合并为一个字符串"
   ]
  },
  {
   "cell_type": "code",
   "execution_count": 304,
   "metadata": {},
   "outputs": [
    {
     "data": {
      "text/plain": [
       "0      ab\n",
       "1    <NA>\n",
       "2       d\n",
       "dtype: string"
      ]
     },
     "execution_count": 304,
     "metadata": {},
     "output_type": "execute_result"
    }
   ],
   "source": [
    "s = pd.Series(['ab',None,'d'],dtype='string')\n",
    "s"
   ]
  },
  {
   "cell_type": "code",
   "execution_count": 305,
   "metadata": {},
   "outputs": [
    {
     "data": {
      "text/plain": [
       "'abd'"
      ]
     },
     "execution_count": 305,
     "metadata": {},
     "output_type": "execute_result"
    }
   ],
   "source": [
    "s.str.cat()"
   ]
  },
  {
   "cell_type": "markdown",
   "metadata": {},
   "source": [
    "#### 其中可选sep分隔符参数，和缺失值替代字符na_rep参数"
   ]
  },
  {
   "cell_type": "code",
   "execution_count": 306,
   "metadata": {},
   "outputs": [
    {
     "data": {
      "text/plain": [
       "'ab,d'"
      ]
     },
     "execution_count": 306,
     "metadata": {},
     "output_type": "execute_result"
    }
   ],
   "source": [
    "s.str.cat(sep=',')\n",
    "# oracle 里有 listagg(11.2及以上)和 wm_concat 两个函数实现相同功能"
   ]
  },
  {
   "cell_type": "code",
   "execution_count": 307,
   "metadata": {},
   "outputs": [
    {
     "data": {
      "text/plain": [
       "'ab,*,d'"
      ]
     },
     "execution_count": 307,
     "metadata": {},
     "output_type": "execute_result"
    }
   ],
   "source": [
    "s.str.cat(sep=',',na_rep='*')"
   ]
  },
  {
   "cell_type": "markdown",
   "metadata": {},
   "source": [
    "#### ② 对于两个Series合并而言，是对应索引的元素进行合并"
   ]
  },
  {
   "cell_type": "code",
   "execution_count": 308,
   "metadata": {},
   "outputs": [
    {
     "data": {
      "text/plain": [
       "0      24\n",
       "1      cc\n",
       "2    <NA>\n",
       "dtype: string"
      ]
     },
     "execution_count": 308,
     "metadata": {},
     "output_type": "execute_result"
    }
   ],
   "source": [
    "s2 = pd.Series(['24','cc',None],dtype='string')\n",
    "s2"
   ]
  },
  {
   "cell_type": "code",
   "execution_count": 309,
   "metadata": {},
   "outputs": [
    {
     "data": {
      "text/plain": [
       "0    ab24\n",
       "1    <NA>\n",
       "2    <NA>\n",
       "dtype: string"
      ]
     },
     "execution_count": 309,
     "metadata": {},
     "output_type": "execute_result"
    }
   ],
   "source": [
    "s.str.cat(s2)\n",
    "# 第二和第三个元素都成了pd.NA了--默认情况下,缺失值会传播"
   ]
  },
  {
   "cell_type": "markdown",
   "metadata": {},
   "source": [
    "#### 同样也有相应参数，需要注意的是两个缺失值会被同时替换"
   ]
  },
  {
   "cell_type": "code",
   "execution_count": 310,
   "metadata": {},
   "outputs": [
    {
     "data": {
      "text/plain": [
       "0    ab,24\n",
       "1     *,cc\n",
       "2      d,*\n",
       "dtype: string"
      ]
     },
     "execution_count": 310,
     "metadata": {},
     "output_type": "execute_result"
    }
   ],
   "source": [
    "s.str.cat(s2,sep=',',na_rep='*')"
   ]
  },
  {
   "cell_type": "markdown",
   "metadata": {},
   "source": [
    "#### ③ 多列拼接可以分为表的拼接和多Series拼接"
   ]
  },
  {
   "cell_type": "markdown",
   "metadata": {},
   "source": [
    "#### 表的拼接"
   ]
  },
  {
   "cell_type": "code",
   "execution_count": 84,
   "metadata": {},
   "outputs": [
    {
     "data": {
      "text/plain": [
       "0      ab\n",
       "1    <NA>\n",
       "2       d\n",
       "dtype: string"
      ]
     },
     "metadata": {},
     "output_type": "display_data"
    },
    {
     "data": {
      "text/html": [
       "<div>\n",
       "<style scoped>\n",
       "    .dataframe tbody tr th:only-of-type {\n",
       "        vertical-align: middle;\n",
       "    }\n",
       "\n",
       "    .dataframe tbody tr th {\n",
       "        vertical-align: top;\n",
       "    }\n",
       "\n",
       "    .dataframe thead th {\n",
       "        text-align: right;\n",
       "    }\n",
       "</style>\n",
       "<table border=\"1\" class=\"dataframe\">\n",
       "  <thead>\n",
       "    <tr style=\"text-align: right;\">\n",
       "      <th></th>\n",
       "      <th>0</th>\n",
       "      <th>1</th>\n",
       "    </tr>\n",
       "  </thead>\n",
       "  <tbody>\n",
       "    <tr>\n",
       "      <th>0</th>\n",
       "      <td>1</td>\n",
       "      <td>5</td>\n",
       "    </tr>\n",
       "    <tr>\n",
       "      <th>1</th>\n",
       "      <td>3</td>\n",
       "      <td>b</td>\n",
       "    </tr>\n",
       "    <tr>\n",
       "      <th>2</th>\n",
       "      <td>5</td>\n",
       "      <td>&lt;NA&gt;</td>\n",
       "    </tr>\n",
       "  </tbody>\n",
       "</table>\n",
       "</div>"
      ],
      "text/plain": [
       "   0     1\n",
       "0  1     5\n",
       "1  3     b\n",
       "2  5  <NA>"
      ]
     },
     "metadata": {},
     "output_type": "display_data"
    },
    {
     "data": {
      "text/plain": [
       "0    ab15\n",
       "1     *3b\n",
       "2     d5*\n",
       "dtype: string"
      ]
     },
     "execution_count": 84,
     "metadata": {},
     "output_type": "execute_result"
    }
   ],
   "source": [
    "display(s)\n",
    "d_ = pd.DataFrame({0:['1','3','5'],1:['5','b',None]},dtype='string')\n",
    "display(d_)\n",
    "s.str.cat(d_,na_rep='*')\n",
    "# 将一个 Series 对象和一个等长的 DF 对象按索引进行行的拼接."
   ]
  },
  {
   "cell_type": "code",
   "execution_count": 311,
   "metadata": {},
   "outputs": [
    {
     "data": {
      "text/html": [
       "<div>\n",
       "<style scoped>\n",
       "    .dataframe tbody tr th:only-of-type {\n",
       "        vertical-align: middle;\n",
       "    }\n",
       "\n",
       "    .dataframe tbody tr th {\n",
       "        vertical-align: top;\n",
       "    }\n",
       "\n",
       "    .dataframe thead th {\n",
       "        text-align: right;\n",
       "    }\n",
       "</style>\n",
       "<table border=\"1\" class=\"dataframe\">\n",
       "  <thead>\n",
       "    <tr style=\"text-align: right;\">\n",
       "      <th></th>\n",
       "      <th>0_l</th>\n",
       "      <th>0</th>\n",
       "      <th>1</th>\n",
       "    </tr>\n",
       "  </thead>\n",
       "  <tbody>\n",
       "    <tr>\n",
       "      <th>0</th>\n",
       "      <td>ab</td>\n",
       "      <td>1</td>\n",
       "      <td>5</td>\n",
       "    </tr>\n",
       "    <tr>\n",
       "      <th>1</th>\n",
       "      <td>&lt;NA&gt;</td>\n",
       "      <td>3</td>\n",
       "      <td>b</td>\n",
       "    </tr>\n",
       "    <tr>\n",
       "      <th>2</th>\n",
       "      <td>d</td>\n",
       "      <td>5</td>\n",
       "      <td>&lt;NA&gt;</td>\n",
       "    </tr>\n",
       "  </tbody>\n",
       "</table>\n",
       "</div>"
      ],
      "text/plain": [
       "    0_l  0     1\n",
       "0    ab  1     5\n",
       "1  <NA>  3     b\n",
       "2     d  5  <NA>"
      ]
     },
     "execution_count": 311,
     "metadata": {},
     "output_type": "execute_result"
    }
   ],
   "source": [
    "s.to_frame().join(d_,lsuffix='_l')"
   ]
  },
  {
   "cell_type": "code",
   "execution_count": 313,
   "metadata": {},
   "outputs": [],
   "source": [
    "# s.to_frame().join(d_,lsuffix='_l').str.cat(na_rep='*') \n",
    "#AttributeError: 'DataFrame' object has no attribute 'str'\n",
    "# 想把 DF 的行拼接到一起还不是那么直接"
   ]
  },
  {
   "cell_type": "code",
   "execution_count": 316,
   "metadata": {},
   "outputs": [
    {
     "data": {
      "text/html": [
       "<div>\n",
       "<style scoped>\n",
       "    .dataframe tbody tr th:only-of-type {\n",
       "        vertical-align: middle;\n",
       "    }\n",
       "\n",
       "    .dataframe tbody tr th {\n",
       "        vertical-align: top;\n",
       "    }\n",
       "\n",
       "    .dataframe thead th {\n",
       "        text-align: right;\n",
       "    }\n",
       "</style>\n",
       "<table border=\"1\" class=\"dataframe\">\n",
       "  <thead>\n",
       "    <tr style=\"text-align: right;\">\n",
       "      <th></th>\n",
       "      <th>C_1</th>\n",
       "      <th>C_2</th>\n",
       "      <th>C_3</th>\n",
       "      <th>C_4</th>\n",
       "      <th>C_5</th>\n",
       "      <th>C_6</th>\n",
       "      <th>C_7</th>\n",
       "    </tr>\n",
       "  </thead>\n",
       "  <tbody>\n",
       "    <tr>\n",
       "      <th>a</th>\n",
       "      <td>-0.48579020425720065</td>\n",
       "      <td>-0.35535860921712165</td>\n",
       "      <td>1.4294993315771587</td>\n",
       "      <td>-0.30434309277741795</td>\n",
       "      <td>0.6839930283234016</td>\n",
       "      <td>0.842549343534401</td>\n",
       "      <td>0.9458261107264027</td>\n",
       "    </tr>\n",
       "    <tr>\n",
       "      <th>b</th>\n",
       "      <td>-0.812637155402051</td>\n",
       "      <td>1.3044365527815767</td>\n",
       "      <td>1.7906639459751705</td>\n",
       "      <td>0.5540285184142737</td>\n",
       "      <td>-0.7905375926250731</td>\n",
       "      <td>1.3407465660541444</td>\n",
       "      <td>-0.12854770358914622</td>\n",
       "    </tr>\n",
       "    <tr>\n",
       "      <th>c</th>\n",
       "      <td>-0.5048545900626982</td>\n",
       "      <td>-0.10944741852284397</td>\n",
       "      <td>-0.2252323595600378</td>\n",
       "      <td>0.773199652481586</td>\n",
       "      <td>-0.1830636381161688</td>\n",
       "      <td>0.7660927164744896</td>\n",
       "      <td>-1.1427259867401522</td>\n",
       "    </tr>\n",
       "  </tbody>\n",
       "</table>\n",
       "</div>"
      ],
      "text/plain": [
       "                    C_1                   C_2                  C_3  \\\n",
       "a  -0.48579020425720065  -0.35535860921712165   1.4294993315771587   \n",
       "b    -0.812637155402051    1.3044365527815767   1.7906639459751705   \n",
       "c   -0.5048545900626982  -0.10944741852284397  -0.2252323595600378   \n",
       "\n",
       "                    C_4                  C_5                 C_6  \\\n",
       "a  -0.30434309277741795   0.6839930283234016   0.842549343534401   \n",
       "b    0.5540285184142737  -0.7905375926250731  1.3407465660541444   \n",
       "c     0.773199652481586  -0.1830636381161688  0.7660927164744896   \n",
       "\n",
       "                    C_7  \n",
       "a    0.9458261107264027  \n",
       "b  -0.12854770358914622  \n",
       "c   -1.1427259867401522  "
      ]
     },
     "metadata": {},
     "output_type": "display_data"
    },
    {
     "data": {
      "text/plain": [
       "a    \n",
       "b    \n",
       "c    \n",
       "dtype: object"
      ]
     },
     "metadata": {},
     "output_type": "display_data"
    },
    {
     "data": {
      "text/plain": [
       "a    -0.48579020425720065-0.355358609217121651.4294...\n",
       "b    -0.8126371554020511.30443655278157671.79066394...\n",
       "c    -0.5048545900626982-0.10944741852284397-0.2252...\n",
       "dtype: object"
      ]
     },
     "execution_count": 316,
     "metadata": {},
     "output_type": "execute_result"
    }
   ],
   "source": [
    "# 一个将df按行拼接起来的思路\n",
    "# 先构造索引一致且值全为空字符串的Series,然后用Series拼接df的方式, 用这个Series去拼接表\n",
    "df=pd.DataFrame(np.random.randn(21).reshape(3,7),index=list('abc'),columns=['C_1','C_2','C_3','C_4','C_5','C_6','C_7']).astype('str')\n",
    "display(df)\n",
    "s1=pd.Series(''*3,index=df.index)\n",
    "display(s1)\n",
    "s1.str.cat(df,na_rep='*')"
   ]
  },
  {
   "cell_type": "markdown",
   "metadata": {},
   "source": [
    "#### 多个Series按索引拼接"
   ]
  },
  {
   "cell_type": "code",
   "execution_count": 319,
   "metadata": {},
   "outputs": [
    {
     "data": {
      "text/plain": [
       "0    abab0abab\n",
       "1         <NA>\n",
       "2        dd0dd\n",
       "dtype: string"
      ]
     },
     "execution_count": 319,
     "metadata": {},
     "output_type": "execute_result"
    }
   ],
   "source": [
    "s.str.cat([s+'0',s*2])"
   ]
  },
  {
   "cell_type": "code",
   "execution_count": 320,
   "metadata": {},
   "outputs": [],
   "source": [
    "#有没有类似的顶级方法?"
   ]
  },
  {
   "cell_type": "markdown",
   "metadata": {},
   "source": [
    "#### （b）cat中的索引对齐\n",
    "#### 当前版本中，如果两边合并的索引不相同且未指定join参数，默认为左连接，设置join='left'"
   ]
  },
  {
   "cell_type": "code",
   "execution_count": 321,
   "metadata": {},
   "outputs": [
    {
     "data": {
      "text/plain": [
       "1    a\n",
       "2    b\n",
       "3    c\n",
       "dtype: string"
      ]
     },
     "execution_count": 321,
     "metadata": {},
     "output_type": "execute_result"
    }
   ],
   "source": [
    "s2 = pd.Series(list('abc'),index=[1,2,3],dtype='string')\n",
    "s2"
   ]
  },
  {
   "cell_type": "code",
   "execution_count": 322,
   "metadata": {},
   "outputs": [
    {
     "data": {
      "text/plain": [
       "0    ab*\n",
       "1     *a\n",
       "2     db\n",
       "dtype: string"
      ]
     },
     "execution_count": 322,
     "metadata": {},
     "output_type": "execute_result"
    }
   ],
   "source": [
    "s.str.cat(s2,na_rep='*')"
   ]
  },
  {
   "cell_type": "code",
   "execution_count": 323,
   "metadata": {},
   "outputs": [
    {
     "data": {
      "text/plain": [
       "0    ab*\n",
       "1     **\n",
       "2     d*\n",
       "dtype: string"
      ]
     },
     "execution_count": 323,
     "metadata": {},
     "output_type": "execute_result"
    }
   ],
   "source": [
    "# 如果二者索引没有对齐,相当于左连接,然后再拼接--由于左连接可能会引入缺失值,如果索引完全不对齐则会把s的每个元素与一个na_rep参数指定的字符串拼接起来.\n",
    "s.str.cat(s1,na_rep='*')"
   ]
  },
  {
   "cell_type": "code",
   "execution_count": 324,
   "metadata": {},
   "outputs": [
    {
     "data": {
      "text/plain": [
       "0    <NA>\n",
       "1    <NA>\n",
       "2    <NA>\n",
       "dtype: string"
      ]
     },
     "execution_count": 324,
     "metadata": {},
     "output_type": "execute_result"
    }
   ],
   "source": [
    "# 不指定na_rep参数,则会导致缺失值的扩散\n",
    "s.str.cat(s1)"
   ]
  },
  {
   "cell_type": "code",
   "execution_count": 325,
   "metadata": {},
   "outputs": [
    {
     "data": {
      "text/plain": [
       "(a    \n",
       " b    \n",
       " c    \n",
       " dtype: object,\n",
       " 0      ab\n",
       " 1    <NA>\n",
       " 2       d\n",
       " dtype: string)"
      ]
     },
     "execution_count": 325,
     "metadata": {},
     "output_type": "execute_result"
    }
   ],
   "source": [
    "s1,s"
   ]
  },
  {
   "cell_type": "code",
   "execution_count": 326,
   "metadata": {},
   "outputs": [
    {
     "data": {
      "text/plain": [
       "a    *\n",
       "b    *\n",
       "c    *\n",
       "dtype: object"
      ]
     },
     "execution_count": 326,
     "metadata": {},
     "output_type": "execute_result"
    }
   ],
   "source": [
    "# 更换s1和s2的位置, 发现确实是左连接\n",
    "s1.str.cat(s,na_rep='*')"
   ]
  },
  {
   "cell_type": "markdown",
   "metadata": {},
   "source": [
    "## 三、替换\n",
    "#### 广义上的替换，就是指str.replace函数的应用，fillna是针对缺失值的替换，上一章已经提及\n",
    "#### 提到替换，就不可避免地接触到正则表达式，这里默认读者已掌握常见正则表达式知识点，若对其还不了解的，可以通过[这份资料](https://regexone.com/)来熟悉"
   ]
  },
  {
   "cell_type": "markdown",
   "metadata": {},
   "source": [
    "### 1. str.replace的常见用法"
   ]
  },
  {
   "cell_type": "code",
   "execution_count": 328,
   "metadata": {},
   "outputs": [
    {
     "data": {
      "text/plain": [
       "0       A\n",
       "1       B\n",
       "2       C\n",
       "3    Aaba\n",
       "4    Baca\n",
       "5        \n",
       "6    <NA>\n",
       "7    CABA\n",
       "8     dog\n",
       "9     cat\n",
       "dtype: string"
      ]
     },
     "execution_count": 328,
     "metadata": {},
     "output_type": "execute_result"
    }
   ],
   "source": [
    "s = pd.Series(['A', 'B', 'C', 'Aaba', 'Baca','', np.nan, 'CABA', 'dog', 'cat'],dtype=\"string\")\n",
    "s"
   ]
  },
  {
   "cell_type": "markdown",
   "metadata": {},
   "source": [
    "#### 第一个值写r开头的正则表达式，后一个写替换的字符串"
   ]
  },
  {
   "cell_type": "code",
   "execution_count": 329,
   "metadata": {},
   "outputs": [
    {
     "data": {
      "text/plain": [
       "0       ***\n",
       "1       ***\n",
       "2         C\n",
       "3    ***aba\n",
       "4    ***aca\n",
       "5          \n",
       "6      <NA>\n",
       "7      CABA\n",
       "8       dog\n",
       "9       cat\n",
       "dtype: string"
      ]
     },
     "execution_count": 329,
     "metadata": {},
     "output_type": "execute_result"
    }
   ],
   "source": [
    "s.str.replace(r'^[AB]','***') #把字符串开头的A或B(大写)替换为\"***\""
   ]
  },
  {
   "cell_type": "markdown",
   "metadata": {},
   "source": [
    "### 2. 子组与函数替换"
   ]
  },
  {
   "cell_type": "markdown",
   "metadata": {},
   "source": [
    "#### 通过正整数调用子组（0返回字符本身，从1开始才是子组）"
   ]
  },
  {
   "cell_type": "code",
   "execution_count": 106,
   "metadata": {},
   "outputs": [
    {
     "data": {
      "text/plain": [
       "0       A\n",
       "1       B\n",
       "2       C\n",
       "3     ba*\n",
       "4     ca*\n",
       "5        \n",
       "6    <NA>\n",
       "7     BA*\n",
       "8     dog\n",
       "9     cat\n",
       "dtype: string"
      ]
     },
     "execution_count": 106,
     "metadata": {},
     "output_type": "execute_result"
    }
   ],
   "source": [
    "s.str.replace(r'([ABC])(\\w+)',lambda x:x.group(2)[1:]+'*')\n",
    "#repl : str or callable\n",
    "#    Replacement string or a callable. The callable is passed the regex\n",
    "#    match object and must return a replacement string to be used.\n",
    "#    See :func:`re.sub`."
   ]
  },
  {
   "cell_type": "code",
   "execution_count": 330,
   "metadata": {},
   "outputs": [
    {
     "data": {
      "text/plain": [
       "0       A\n",
       "1       B\n",
       "2       C\n",
       "3    Aaba\n",
       "4    Baca\n",
       "5        \n",
       "6    <NA>\n",
       "7    CABA\n",
       "8     dog\n",
       "9     cat\n",
       "dtype: string"
      ]
     },
     "execution_count": 330,
     "metadata": {},
     "output_type": "execute_result"
    }
   ],
   "source": [
    "s"
   ]
  },
  {
   "cell_type": "code",
   "execution_count": 332,
   "metadata": {},
   "outputs": [
    {
     "data": {
      "text/plain": [
       "0       A\n",
       "1       B\n",
       "2       C\n",
       "3    Aaba\n",
       "4    Baca\n",
       "5        \n",
       "6    <NA>\n",
       "7    CABA\n",
       "8     dog\n",
       "9     cat\n",
       "dtype: string"
      ]
     },
     "execution_count": 332,
     "metadata": {},
     "output_type": "execute_result"
    }
   ],
   "source": [
    "s.str.replace(r'([ABC])(\\w+)',lambda x:x.group(0))#[0:]+'*')\n",
    "# group(0) 返回字符串本身--没有匹配到的也是返回整个字符串, 如果是缺失值则还是返回缺失值"
   ]
  },
  {
   "cell_type": "code",
   "execution_count": 333,
   "metadata": {},
   "outputs": [
    {
     "data": {
      "text/plain": [
       "0       A\n",
       "1       B\n",
       "2       C\n",
       "3       A\n",
       "4       B\n",
       "5        \n",
       "6    <NA>\n",
       "7       C\n",
       "8     dog\n",
       "9     cat\n",
       "dtype: string"
      ]
     },
     "execution_count": 333,
     "metadata": {},
     "output_type": "execute_result"
    }
   ],
   "source": [
    "s.str.replace(r'([ABC])(\\w+)',lambda x:x.group(1))#[0:]+'*')\n",
    "# group(1) 返回匹配到的第一个子组--没有匹配的则继续返回整个字符串"
   ]
  },
  {
   "cell_type": "code",
   "execution_count": 334,
   "metadata": {},
   "outputs": [
    {
     "data": {
      "text/plain": [
       "0       A\n",
       "1       B\n",
       "2       C\n",
       "3     aba\n",
       "4     aca\n",
       "5        \n",
       "6    <NA>\n",
       "7     ABA\n",
       "8     dog\n",
       "9     cat\n",
       "dtype: string"
      ]
     },
     "execution_count": 334,
     "metadata": {},
     "output_type": "execute_result"
    }
   ],
   "source": [
    "s.str.replace(r'([ABC])(\\w+)',lambda x:x.group(2))#[0:]+'*')\n",
    "# group(2) 返回匹配到的第二个子组--没有匹配的则继续返回整个字符串\n",
    "# 特别地,只匹配到一个子组的, 返回的是第一个子组呢,还是整个字符串呢?"
   ]
  },
  {
   "cell_type": "code",
   "execution_count": 376,
   "metadata": {},
   "outputs": [
    {
     "data": {
      "text/html": [
       "<div>\n",
       "<style scoped>\n",
       "    .dataframe tbody tr th:only-of-type {\n",
       "        vertical-align: middle;\n",
       "    }\n",
       "\n",
       "    .dataframe tbody tr th {\n",
       "        vertical-align: top;\n",
       "    }\n",
       "\n",
       "    .dataframe thead th {\n",
       "        text-align: right;\n",
       "    }\n",
       "</style>\n",
       "<table border=\"1\" class=\"dataframe\">\n",
       "  <thead>\n",
       "    <tr style=\"text-align: right;\">\n",
       "      <th></th>\n",
       "      <th>0</th>\n",
       "      <th>1</th>\n",
       "      <th>2</th>\n",
       "      <th>3</th>\n",
       "      <th>4</th>\n",
       "      <th>5</th>\n",
       "      <th>6</th>\n",
       "      <th>7</th>\n",
       "      <th>8</th>\n",
       "      <th>9</th>\n",
       "    </tr>\n",
       "  </thead>\n",
       "  <tbody>\n",
       "    <tr>\n",
       "      <th>0</th>\n",
       "      <td>A</td>\n",
       "      <td>B</td>\n",
       "      <td>C</td>\n",
       "      <td>Aaba</td>\n",
       "      <td>Baca</td>\n",
       "      <td></td>\n",
       "      <td>&lt;NA&gt;</td>\n",
       "      <td>CABA</td>\n",
       "      <td>dog</td>\n",
       "      <td>cat</td>\n",
       "    </tr>\n",
       "    <tr>\n",
       "      <th>s.str.replace(r'([ABC])(\\w+)',lambda x:x.group(0))</th>\n",
       "      <td>A</td>\n",
       "      <td>B</td>\n",
       "      <td>C</td>\n",
       "      <td>Aaba</td>\n",
       "      <td>Baca</td>\n",
       "      <td></td>\n",
       "      <td>&lt;NA&gt;</td>\n",
       "      <td>CABA</td>\n",
       "      <td>dog</td>\n",
       "      <td>cat</td>\n",
       "    </tr>\n",
       "    <tr>\n",
       "      <th>s.str.replace(r'([ABC])(\\w+)',lambda x:x.group(1))</th>\n",
       "      <td>A</td>\n",
       "      <td>B</td>\n",
       "      <td>C</td>\n",
       "      <td>A</td>\n",
       "      <td>B</td>\n",
       "      <td></td>\n",
       "      <td>&lt;NA&gt;</td>\n",
       "      <td>C</td>\n",
       "      <td>dog</td>\n",
       "      <td>cat</td>\n",
       "    </tr>\n",
       "    <tr>\n",
       "      <th>s.str.replace(r'([ABC])(\\w+)',lambda x:x.group(2))</th>\n",
       "      <td>A</td>\n",
       "      <td>B</td>\n",
       "      <td>C</td>\n",
       "      <td>aba</td>\n",
       "      <td>aca</td>\n",
       "      <td></td>\n",
       "      <td>&lt;NA&gt;</td>\n",
       "      <td>ABA</td>\n",
       "      <td>dog</td>\n",
       "      <td>cat</td>\n",
       "    </tr>\n",
       "    <tr>\n",
       "      <th>s.str.replace(r'([ABC])(\\w+)',lambda x:x.group(2)[1:])</th>\n",
       "      <td>A</td>\n",
       "      <td>B</td>\n",
       "      <td>C</td>\n",
       "      <td>ba</td>\n",
       "      <td>ca</td>\n",
       "      <td></td>\n",
       "      <td>&lt;NA&gt;</td>\n",
       "      <td>BA</td>\n",
       "      <td>dog</td>\n",
       "      <td>cat</td>\n",
       "    </tr>\n",
       "    <tr>\n",
       "      <th>s.str.replace(r'([ABC])(\\w+)',lambda x:x.group(0)[1:]+'****')</th>\n",
       "      <td>A</td>\n",
       "      <td>B</td>\n",
       "      <td>C</td>\n",
       "      <td>aba****</td>\n",
       "      <td>aca****</td>\n",
       "      <td></td>\n",
       "      <td>&lt;NA&gt;</td>\n",
       "      <td>ABA****</td>\n",
       "      <td>dog</td>\n",
       "      <td>cat</td>\n",
       "    </tr>\n",
       "    <tr>\n",
       "      <th>s.str.replace(r'([ABC])(\\w+)',lambda x:x.group(1)[1:]+'****')</th>\n",
       "      <td>A</td>\n",
       "      <td>B</td>\n",
       "      <td>C</td>\n",
       "      <td>****</td>\n",
       "      <td>****</td>\n",
       "      <td></td>\n",
       "      <td>&lt;NA&gt;</td>\n",
       "      <td>****</td>\n",
       "      <td>dog</td>\n",
       "      <td>cat</td>\n",
       "    </tr>\n",
       "    <tr>\n",
       "      <th>s.str.replace(r'([ABC])(\\w+)',lambda x:x.group(2)[1:]+'****')</th>\n",
       "      <td>A</td>\n",
       "      <td>B</td>\n",
       "      <td>C</td>\n",
       "      <td>ba****</td>\n",
       "      <td>ca****</td>\n",
       "      <td></td>\n",
       "      <td>&lt;NA&gt;</td>\n",
       "      <td>BA****</td>\n",
       "      <td>dog</td>\n",
       "      <td>cat</td>\n",
       "    </tr>\n",
       "  </tbody>\n",
       "</table>\n",
       "</div>"
      ],
      "text/plain": [
       "                                                    0  1  2        3        4  \\\n",
       "0                                                   A  B  C     Aaba     Baca   \n",
       "s.str.replace(r'([ABC])(\\w+)',lambda x:x.group(0))  A  B  C     Aaba     Baca   \n",
       "s.str.replace(r'([ABC])(\\w+)',lambda x:x.group(1))  A  B  C        A        B   \n",
       "s.str.replace(r'([ABC])(\\w+)',lambda x:x.group(2))  A  B  C      aba      aca   \n",
       "s.str.replace(r'([ABC])(\\w+)',lambda x:x.group(...  A  B  C       ba       ca   \n",
       "s.str.replace(r'([ABC])(\\w+)',lambda x:x.group(...  A  B  C  aba****  aca****   \n",
       "s.str.replace(r'([ABC])(\\w+)',lambda x:x.group(...  A  B  C     ****     ****   \n",
       "s.str.replace(r'([ABC])(\\w+)',lambda x:x.group(...  A  B  C   ba****   ca****   \n",
       "\n",
       "                                                   5     6        7    8    9  \n",
       "0                                                     <NA>     CABA  dog  cat  \n",
       "s.str.replace(r'([ABC])(\\w+)',lambda x:x.group(0))    <NA>     CABA  dog  cat  \n",
       "s.str.replace(r'([ABC])(\\w+)',lambda x:x.group(1))    <NA>        C  dog  cat  \n",
       "s.str.replace(r'([ABC])(\\w+)',lambda x:x.group(2))    <NA>      ABA  dog  cat  \n",
       "s.str.replace(r'([ABC])(\\w+)',lambda x:x.group(...    <NA>       BA  dog  cat  \n",
       "s.str.replace(r'([ABC])(\\w+)',lambda x:x.group(...    <NA>  ABA****  dog  cat  \n",
       "s.str.replace(r'([ABC])(\\w+)',lambda x:x.group(...    <NA>     ****  dog  cat  \n",
       "s.str.replace(r'([ABC])(\\w+)',lambda x:x.group(...    <NA>   BA****  dog  cat  "
      ]
     },
     "execution_count": 376,
     "metadata": {},
     "output_type": "execute_result"
    }
   ],
   "source": [
    "s = pd.Series(['A', 'B', 'C', 'Aaba', 'Baca','', np.nan, 'CABA', 'dog', 'cat'],dtype=\"string\")\n",
    "dfs=s.to_frame()\n",
    "dfs[\"s.str.replace(r'([ABC])(\\w+)',lambda x:x.group(0))\"]=s.str.replace(r'([ABC])(\\w+)',lambda x:x.group(0))\n",
    "dfs[\"s.str.replace(r'([ABC])(\\w+)',lambda x:x.group(1))\"]=s.str.replace(r'([ABC])(\\w+)',lambda x:x.group(1))\n",
    "dfs[\"s.str.replace(r'([ABC])(\\w+)',lambda x:x.group(2))\"]=s.str.replace(r'([ABC])(\\w+)',lambda x:x.group(2))\n",
    "#dfs[\"s.str.replace(r'([ABC])(\\w+)',lambda x:x.group(3))\"]=s.str.replace(r'([ABC])(\\w+)',lambda x:x.group(3)) # IndexError: no such group\n",
    "#dfs[\"s.str.replace(r'([ABC])(\\w+)',lambda x:x.group(4))\"]=s.str.replace(r'([ABC])(\\w+)',lambda x:x.group(4))\n",
    "dfs[\"s.str.replace(r'([ABC])(\\w+)',lambda x:x.group(2)[1:])\"]=s.str.replace(r'([ABC])(\\w+)',lambda x:x.group(2)[1:])\n",
    "dfs[\"s.str.replace(r'([ABC])(\\w+)',lambda x:x.group(0)[1:]+'****')\"]=s.str.replace(r'([ABC])(\\w+)',lambda x:x.group(0)[1:]+'****')#012689列都没有拼接****,但是有返回值\n",
    "dfs[\"s.str.replace(r'([ABC])(\\w+)',lambda x:x.group(1)[1:]+'****')\"]=s.str.replace(r'([ABC])(\\w+)',lambda x:x.group(1)[1:]+'****')\n",
    "dfs[\"s.str.replace(r'([ABC])(\\w+)',lambda x:x.group(2)[1:]+'****')\"]=s.str.replace(r'([ABC])(\\w+)',lambda x:x.group(2)[1:]+'****')\n",
    "dfs.T"
   ]
  },
  {
   "cell_type": "code",
   "execution_count": 374,
   "metadata": {},
   "outputs": [
    {
     "data": {
      "text/plain": [
       "0      Aa\n",
       "1       B\n",
       "2       C\n",
       "3    Aaba\n",
       "4    Baca\n",
       "5        \n",
       "6    <NA>\n",
       "7    CABA\n",
       "8     dog\n",
       "9     cat\n",
       "dtype: string"
      ]
     },
     "execution_count": 374,
     "metadata": {},
     "output_type": "execute_result"
    }
   ],
   "source": [
    "# 还需进一步研究...............\n",
    "# 把ss的第一个元素设置为\n",
    "ss = pd.Series(['Aa', 'B', 'C', 'Aaba', 'Baca','', np.nan, 'CABA', 'dog', 'cat'],dtype=\"string\")\n",
    "ss.str.replace('([ABC])([abc])',lambda x:x.group(0))#[0:]+'*')\n"
   ]
  },
  {
   "cell_type": "code",
   "execution_count": 107,
   "metadata": {
    "collapsed": true,
    "jupyter": {
     "outputs_hidden": true
    }
   },
   "outputs": [
    {
     "data": {
      "text/plain": [
       "\u001b[1;31mSignature:\u001b[0m \u001b[0ms\u001b[0m\u001b[1;33m.\u001b[0m\u001b[0mstr\u001b[0m\u001b[1;33m.\u001b[0m\u001b[0mreplace\u001b[0m\u001b[1;33m(\u001b[0m\u001b[0mpat\u001b[0m\u001b[1;33m,\u001b[0m \u001b[0mrepl\u001b[0m\u001b[1;33m,\u001b[0m \u001b[0mn\u001b[0m\u001b[1;33m=\u001b[0m\u001b[1;33m-\u001b[0m\u001b[1;36m1\u001b[0m\u001b[1;33m,\u001b[0m \u001b[0mcase\u001b[0m\u001b[1;33m=\u001b[0m\u001b[1;32mNone\u001b[0m\u001b[1;33m,\u001b[0m \u001b[0mflags\u001b[0m\u001b[1;33m=\u001b[0m\u001b[1;36m0\u001b[0m\u001b[1;33m,\u001b[0m \u001b[0mregex\u001b[0m\u001b[1;33m=\u001b[0m\u001b[1;32mTrue\u001b[0m\u001b[1;33m)\u001b[0m\u001b[1;33m\u001b[0m\u001b[1;33m\u001b[0m\u001b[0m\n",
       "\u001b[1;31mDocstring:\u001b[0m\n",
       "Replace occurrences of pattern/regex in the Series/Index with\n",
       "some other string. Equivalent to :meth:`str.replace` or\n",
       ":func:`re.sub`.\n",
       "\n",
       "Parameters\n",
       "----------\n",
       "pat : str or compiled regex\n",
       "    String can be a character sequence or regular expression.\n",
       "repl : str or callable\n",
       "    Replacement string or a callable. The callable is passed the regex\n",
       "    match object and must return a replacement string to be used.\n",
       "    See :func:`re.sub`.\n",
       "n : int, default -1 (all)\n",
       "    Number of replacements to make from start.\n",
       "case : bool, default None\n",
       "    Determines if replace is case sensitive:\n",
       "\n",
       "    - If True, case sensitive (the default if `pat` is a string)\n",
       "    - Set to False for case insensitive\n",
       "    - Cannot be set if `pat` is a compiled regex.\n",
       "\n",
       "flags : int, default 0 (no flags)\n",
       "    Regex module flags, e.g. re.IGNORECASE. Cannot be set if `pat` is a compiled\n",
       "    regex.\n",
       "regex : bool, default True\n",
       "    Determines if assumes the passed-in pattern is a regular expression:\n",
       "\n",
       "    - If True, assumes the passed-in pattern is a regular expression.\n",
       "    - If False, treats the pattern as a literal string\n",
       "    - Cannot be set to False if `pat` is a compiled regex or `repl` is\n",
       "      a callable.\n",
       "\n",
       "    .. versionadded:: 0.23.0\n",
       "\n",
       "Returns\n",
       "-------\n",
       "Series or Index of object\n",
       "    A copy of the object with all matching occurrences of `pat` replaced by\n",
       "    `repl`.\n",
       "\n",
       "Raises\n",
       "------\n",
       "ValueError\n",
       "    * if `regex` is False and `repl` is a callable or `pat` is a compiled\n",
       "      regex\n",
       "    * if `pat` is a compiled regex and `case` or `flags` is set\n",
       "\n",
       "Notes\n",
       "-----\n",
       "When `pat` is a compiled regex, all flags should be included in the\n",
       "compiled regex. Use of `case`, `flags`, or `regex=False` with a compiled\n",
       "regex will raise an error.\n",
       "\n",
       "Examples\n",
       "--------\n",
       "When `pat` is a string and `regex` is True (the default), the given `pat`\n",
       "is compiled as a regex. When `repl` is a string, it replaces matching\n",
       "regex patterns as with :meth:`re.sub`. NaN value(s) in the Series are\n",
       "left as is:\n",
       "\n",
       ">>> pd.Series(['foo', 'fuz', np.nan]).str.replace('f.', 'ba', regex=True)\n",
       "0    bao\n",
       "1    baz\n",
       "2    NaN\n",
       "dtype: object\n",
       "\n",
       "When `pat` is a string and `regex` is False, every `pat` is replaced with\n",
       "`repl` as with :meth:`str.replace`:\n",
       "\n",
       ">>> pd.Series(['f.o', 'fuz', np.nan]).str.replace('f.', 'ba', regex=False)\n",
       "0    bao\n",
       "1    fuz\n",
       "2    NaN\n",
       "dtype: object\n",
       "\n",
       "When `repl` is a callable, it is called on every `pat` using\n",
       ":func:`re.sub`. The callable should expect one positional argument\n",
       "(a regex object) and return a string.\n",
       "\n",
       "To get the idea:\n",
       "\n",
       ">>> pd.Series(['foo', 'fuz', np.nan]).str.replace('f', repr)\n",
       "0    <_sre.SRE_Match object; span=(0, 1), match='f'>oo\n",
       "1    <_sre.SRE_Match object; span=(0, 1), match='f'>uz\n",
       "2                                                  NaN\n",
       "dtype: object\n",
       "\n",
       "Reverse every lowercase alphabetic word:\n",
       "\n",
       ">>> repl = lambda m: m.group(0)[::-1]\n",
       ">>> pd.Series(['foo 123', 'bar baz', np.nan]).str.replace(r'[a-z]+', repl)\n",
       "0    oof 123\n",
       "1    rab zab\n",
       "2        NaN\n",
       "dtype: object\n",
       "\n",
       "Using regex groups (extract second group and swap case):\n",
       "\n",
       ">>> pat = r\"(?P<one>\\w+) (?P<two>\\w+) (?P<three>\\w+)\"\n",
       ">>> repl = lambda m: m.group('two').swapcase()\n",
       ">>> pd.Series(['One Two Three', 'Foo Bar Baz']).str.replace(pat, repl)\n",
       "0    tWO\n",
       "1    bAR\n",
       "dtype: object\n",
       "\n",
       "Using a compiled regex with flags\n",
       "\n",
       ">>> import re\n",
       ">>> regex_pat = re.compile(r'FUZ', flags=re.IGNORECASE)\n",
       ">>> pd.Series(['foo', 'fuz', np.nan]).str.replace(regex_pat, 'bar')\n",
       "0    foo\n",
       "1    bar\n",
       "2    NaN\n",
       "dtype: object\n",
       "\u001b[1;31mSource:\u001b[0m   \n",
       "    \u001b[1;33m@\u001b[0m\u001b[0mcopy\u001b[0m\u001b[1;33m(\u001b[0m\u001b[0mstr_replace\u001b[0m\u001b[1;33m)\u001b[0m\u001b[1;33m\n",
       "\u001b[0m    \u001b[1;33m@\u001b[0m\u001b[0mforbid_nonstring_types\u001b[0m\u001b[1;33m(\u001b[0m\u001b[1;33m[\u001b[0m\u001b[1;34m\"bytes\"\u001b[0m\u001b[1;33m]\u001b[0m\u001b[1;33m)\u001b[0m\u001b[1;33m\n",
       "\u001b[0m    \u001b[1;32mdef\u001b[0m \u001b[0mreplace\u001b[0m\u001b[1;33m(\u001b[0m\u001b[0mself\u001b[0m\u001b[1;33m,\u001b[0m \u001b[0mpat\u001b[0m\u001b[1;33m,\u001b[0m \u001b[0mrepl\u001b[0m\u001b[1;33m,\u001b[0m \u001b[0mn\u001b[0m\u001b[1;33m=\u001b[0m\u001b[1;33m-\u001b[0m\u001b[1;36m1\u001b[0m\u001b[1;33m,\u001b[0m \u001b[0mcase\u001b[0m\u001b[1;33m=\u001b[0m\u001b[1;32mNone\u001b[0m\u001b[1;33m,\u001b[0m \u001b[0mflags\u001b[0m\u001b[1;33m=\u001b[0m\u001b[1;36m0\u001b[0m\u001b[1;33m,\u001b[0m \u001b[0mregex\u001b[0m\u001b[1;33m=\u001b[0m\u001b[1;32mTrue\u001b[0m\u001b[1;33m)\u001b[0m\u001b[1;33m:\u001b[0m\u001b[1;33m\n",
       "\u001b[0m        \u001b[0mresult\u001b[0m \u001b[1;33m=\u001b[0m \u001b[0mstr_replace\u001b[0m\u001b[1;33m(\u001b[0m\u001b[1;33m\n",
       "\u001b[0m            \u001b[0mself\u001b[0m\u001b[1;33m.\u001b[0m\u001b[0m_parent\u001b[0m\u001b[1;33m,\u001b[0m \u001b[0mpat\u001b[0m\u001b[1;33m,\u001b[0m \u001b[0mrepl\u001b[0m\u001b[1;33m,\u001b[0m \u001b[0mn\u001b[0m\u001b[1;33m=\u001b[0m\u001b[0mn\u001b[0m\u001b[1;33m,\u001b[0m \u001b[0mcase\u001b[0m\u001b[1;33m=\u001b[0m\u001b[0mcase\u001b[0m\u001b[1;33m,\u001b[0m \u001b[0mflags\u001b[0m\u001b[1;33m=\u001b[0m\u001b[0mflags\u001b[0m\u001b[1;33m,\u001b[0m \u001b[0mregex\u001b[0m\u001b[1;33m=\u001b[0m\u001b[0mregex\u001b[0m\u001b[1;33m\n",
       "\u001b[0m        \u001b[1;33m)\u001b[0m\u001b[1;33m\n",
       "\u001b[0m        \u001b[1;32mreturn\u001b[0m \u001b[0mself\u001b[0m\u001b[1;33m.\u001b[0m\u001b[0m_wrap_result\u001b[0m\u001b[1;33m(\u001b[0m\u001b[0mresult\u001b[0m\u001b[1;33m)\u001b[0m\u001b[1;33m\u001b[0m\u001b[1;33m\u001b[0m\u001b[0m\n",
       "\u001b[1;31mFile:\u001b[0m      c:\\programdata\\anaconda3\\lib\\site-packages\\pandas\\core\\strings.py\n",
       "\u001b[1;31mType:\u001b[0m      method\n"
      ]
     },
     "metadata": {},
     "output_type": "display_data"
    }
   ],
   "source": [
    "s.str.replace??"
   ]
  },
  {
   "cell_type": "code",
   "execution_count": 105,
   "metadata": {
    "collapsed": true,
    "jupyter": {
     "outputs_hidden": true
    }
   },
   "outputs": [
    {
     "data": {
      "text/plain": [
       "\u001b[1;31mSignature:\u001b[0m \u001b[0mre\u001b[0m\u001b[1;33m.\u001b[0m\u001b[0msub\u001b[0m\u001b[1;33m(\u001b[0m\u001b[0mpattern\u001b[0m\u001b[1;33m,\u001b[0m \u001b[0mrepl\u001b[0m\u001b[1;33m,\u001b[0m \u001b[0mstring\u001b[0m\u001b[1;33m,\u001b[0m \u001b[0mcount\u001b[0m\u001b[1;33m=\u001b[0m\u001b[1;36m0\u001b[0m\u001b[1;33m,\u001b[0m \u001b[0mflags\u001b[0m\u001b[1;33m=\u001b[0m\u001b[1;36m0\u001b[0m\u001b[1;33m)\u001b[0m\u001b[1;33m\u001b[0m\u001b[1;33m\u001b[0m\u001b[0m\n",
       "\u001b[1;31mSource:\u001b[0m   \n",
       "\u001b[1;32mdef\u001b[0m \u001b[0msub\u001b[0m\u001b[1;33m(\u001b[0m\u001b[0mpattern\u001b[0m\u001b[1;33m,\u001b[0m \u001b[0mrepl\u001b[0m\u001b[1;33m,\u001b[0m \u001b[0mstring\u001b[0m\u001b[1;33m,\u001b[0m \u001b[0mcount\u001b[0m\u001b[1;33m=\u001b[0m\u001b[1;36m0\u001b[0m\u001b[1;33m,\u001b[0m \u001b[0mflags\u001b[0m\u001b[1;33m=\u001b[0m\u001b[1;36m0\u001b[0m\u001b[1;33m)\u001b[0m\u001b[1;33m:\u001b[0m\u001b[1;33m\n",
       "\u001b[0m    \u001b[1;34m\"\"\"Return the string obtained by replacing the leftmost\n",
       "    non-overlapping occurrences of the pattern in string by the\n",
       "    replacement repl.  repl can be either a string or a callable;\n",
       "    if a string, backslash escapes in it are processed.  If it is\n",
       "    a callable, it's passed the Match object and must return\n",
       "    a replacement string to be used.\"\"\"\u001b[0m\u001b[1;33m\n",
       "\u001b[0m    \u001b[1;32mreturn\u001b[0m \u001b[0m_compile\u001b[0m\u001b[1;33m(\u001b[0m\u001b[0mpattern\u001b[0m\u001b[1;33m,\u001b[0m \u001b[0mflags\u001b[0m\u001b[1;33m)\u001b[0m\u001b[1;33m.\u001b[0m\u001b[0msub\u001b[0m\u001b[1;33m(\u001b[0m\u001b[0mrepl\u001b[0m\u001b[1;33m,\u001b[0m \u001b[0mstring\u001b[0m\u001b[1;33m,\u001b[0m \u001b[0mcount\u001b[0m\u001b[1;33m)\u001b[0m\u001b[1;33m\u001b[0m\u001b[1;33m\u001b[0m\u001b[0m\n",
       "\u001b[1;31mFile:\u001b[0m      c:\\programdata\\anaconda3\\lib\\re.py\n",
       "\u001b[1;31mType:\u001b[0m      function\n"
      ]
     },
     "metadata": {},
     "output_type": "display_data"
    }
   ],
   "source": [
    "re.sub??"
   ]
  },
  {
   "cell_type": "markdown",
   "metadata": {},
   "source": [
    "#### 利用?P<....>表达式可以对子组命名调用"
   ]
  },
  {
   "cell_type": "code",
   "execution_count": 377,
   "metadata": {},
   "outputs": [
    {
     "data": {
      "text/plain": [
       "0       A\n",
       "1       B\n",
       "2       C\n",
       "3     ba*\n",
       "4     ca*\n",
       "5        \n",
       "6    <NA>\n",
       "7     BA*\n",
       "8     dog\n",
       "9     cat\n",
       "dtype: string"
      ]
     },
     "execution_count": 377,
     "metadata": {},
     "output_type": "execute_result"
    }
   ],
   "source": [
    "s.str.replace(r'(?P<one>[ABC])(?P<two>\\w+)',lambda x:x.group('two')[1:]+'*')"
   ]
  },
  {
   "cell_type": "code",
   "execution_count": 378,
   "metadata": {},
   "outputs": [
    {
     "name": "stdout",
     "output_type": "stream",
     "text": [
      "<re.Match object; span=(0, 4), match='Aaba'>\n",
      "<re.Match object; span=(0, 4), match='Baca'>\n",
      "<re.Match object; span=(0, 4), match='CABA'>\n"
     ]
    },
    {
     "data": {
      "text/plain": [
       "0       A\n",
       "1       B\n",
       "2       C\n",
       "3        \n",
       "4        \n",
       "5        \n",
       "6    <NA>\n",
       "7        \n",
       "8     dog\n",
       "9     cat\n",
       "dtype: string"
      ]
     },
     "execution_count": 378,
     "metadata": {},
     "output_type": "execute_result"
    }
   ],
   "source": [
    "s.str.replace(r'(?P<one>[ABC])(?P<two>\\w+)',lambda x:print(x)) # lambda 中的 x 表示前边的正则表达式匹配到的子串"
   ]
  },
  {
   "cell_type": "code",
   "execution_count": 379,
   "metadata": {},
   "outputs": [
    {
     "data": {
      "text/plain": [
       "0       A\n",
       "1       B\n",
       "2       C\n",
       "3    Aaba\n",
       "4    Baca\n",
       "5        \n",
       "6    <NA>\n",
       "7    CABA\n",
       "8     dog\n",
       "9     cat\n",
       "dtype: string"
      ]
     },
     "execution_count": 379,
     "metadata": {},
     "output_type": "execute_result"
    }
   ],
   "source": [
    "s"
   ]
  },
  {
   "cell_type": "code",
   "execution_count": 380,
   "metadata": {},
   "outputs": [
    {
     "data": {
      "text/plain": [
       "0       AFF123\n",
       "1       BFF123\n",
       "2       CFF123\n",
       "3    AabaFF123\n",
       "4    BacaFF123\n",
       "5        FF123\n",
       "6         <NA>\n",
       "7    CABAFF123\n",
       "8     dogFF123\n",
       "9     catFF123\n",
       "dtype: string"
      ]
     },
     "execution_count": 380,
     "metadata": {},
     "output_type": "execute_result"
    }
   ],
   "source": [
    "ss=s+'FF123'\n",
    "ss"
   ]
  },
  {
   "cell_type": "code",
   "execution_count": 381,
   "metadata": {},
   "outputs": [
    {
     "name": "stdout",
     "output_type": "stream",
     "text": [
      "AFF123 A FF123\n",
      "BFF123 B FF123\n",
      "CFF123 C FF123\n",
      "AabaFF123 A abaFF123\n",
      "BacaFF123 B acaFF123\n",
      "CABAFF123 C ABAFF123\n"
     ]
    },
    {
     "data": {
      "text/plain": [
       "0            \n",
       "1            \n",
       "2            \n",
       "3            \n",
       "4            \n",
       "5       FF123\n",
       "6        <NA>\n",
       "7            \n",
       "8    dogFF123\n",
       "9    catFF123\n",
       "dtype: string"
      ]
     },
     "execution_count": 381,
     "metadata": {},
     "output_type": "execute_result"
    }
   ],
   "source": [
    "ss.str.replace(r'(?P<one>[ABC])(?P<two>\\w+)',lambda x:print(x.group(0),x.group(1),x.group(2))) # lambda 中的 x 表示前边的正则表达式匹配到的子串"
   ]
  },
  {
   "cell_type": "markdown",
   "metadata": {},
   "source": [
    "### 3. 关于str.replace的注意事项\n",
    "#### 首先，要明确str.replace和replace并不是一个东西：\n",
    "#### str.replace针对的是object类型或string类型，默认是以正则表达式为操作，目前暂时不支持DataFrame上使用\n",
    "#### replace针对的是任意类型的序列或数据框，如果要以正则表达式替换，需要设置regex=True，该方法通过字典可支持多列替换\n",
    "#### 但现在由于string类型的初步引入，用法上出现了一些问题，这些issue有望在以后的版本中修复\n"
   ]
  },
  {
   "cell_type": "markdown",
   "metadata": {},
   "source": [
    "#### （a）str.replace赋值参数不得为pd.NA\n",
    "#### 这听上去非常不合理，例如对满足某些正则条件的字符串替换为缺失值，直接更改为缺失值在当下版本就会报错"
   ]
  },
  {
   "cell_type": "code",
   "execution_count": 164,
   "metadata": {},
   "outputs": [],
   "source": [
    "#pd.Series(['A','B'],dtype='string').str.replace(r'[A]',pd.NA) #报错 TypeError: repl must be a string or callable\n",
    "#pd.Series(['A','B'],dtype='O').str.replace(r'[A]',pd.NA) #报错 TypeError: repl must be a string or callable"
   ]
  },
  {
   "cell_type": "markdown",
   "metadata": {},
   "source": [
    "#### 此时，可以先转为object类型再转换回来，曲线救国："
   ]
  },
  {
   "cell_type": "code",
   "execution_count": 382,
   "metadata": {},
   "outputs": [
    {
     "data": {
      "text/plain": [
       "0    <NA>\n",
       "1       B\n",
       "dtype: string"
      ]
     },
     "execution_count": 382,
     "metadata": {},
     "output_type": "execute_result"
    }
   ],
   "source": [
    "pd.Series(['A','B'],dtype='string').astype('O').replace(r'[A]',pd.NA,regex=True).astype('string')"
   ]
  },
  {
   "cell_type": "markdown",
   "metadata": {},
   "source": [
    "#### 至于为什么不用replace函数的regex替换（但string类型replace的非正则替换是可以的），原因在下面一条"
   ]
  },
  {
   "cell_type": "markdown",
   "metadata": {},
   "source": [
    "#### （b）对于string类型Series，在使用replace函数时不能使用正则表达式替换\n",
    "#### 该bug现在还未修复"
   ]
  },
  {
   "cell_type": "code",
   "execution_count": 383,
   "metadata": {},
   "outputs": [
    {
     "data": {
      "text/plain": [
       "0    A\n",
       "1    B\n",
       "dtype: string"
      ]
     },
     "execution_count": 383,
     "metadata": {},
     "output_type": "execute_result"
    }
   ],
   "source": [
    "pd.Series(['A','B'],dtype='string').replace(r'[A]','C',regex=True)"
   ]
  },
  {
   "cell_type": "code",
   "execution_count": 384,
   "metadata": {},
   "outputs": [
    {
     "data": {
      "text/plain": [
       "0    C\n",
       "1    B\n",
       "dtype: object"
      ]
     },
     "execution_count": 384,
     "metadata": {},
     "output_type": "execute_result"
    }
   ],
   "source": [
    "pd.Series(['A','B'],dtype='O').replace(r'[A]','C',regex=True)"
   ]
  },
  {
   "cell_type": "markdown",
   "metadata": {},
   "source": [
    "#### （c）string类型序列如果存在缺失值，不能使用replace替换"
   ]
  },
  {
   "cell_type": "code",
   "execution_count": 385,
   "metadata": {},
   "outputs": [
    {
     "data": {
      "text/plain": [
       "0       B\n",
       "1    <NA>\n",
       "dtype: string"
      ]
     },
     "execution_count": 385,
     "metadata": {},
     "output_type": "execute_result"
    }
   ],
   "source": [
    "pd.Series(['A',np.nan],dtype='string').replace('A','B') #报错--没有报错啊"
   ]
  },
  {
   "cell_type": "code",
   "execution_count": 389,
   "metadata": {},
   "outputs": [
    {
     "data": {
      "text/plain": [
       "0      B\n",
       "1    NaN\n",
       "dtype: object"
      ]
     },
     "execution_count": 389,
     "metadata": {},
     "output_type": "execute_result"
    }
   ],
   "source": [
    "pd.Series(['A',np.nan],dtype='str').replace('A','B') # str 类型也没有报错\n",
    "pd.Series(['A',np.nan],dtype='O').replace('A','B') # O 类型也没有报错"
   ]
  },
  {
   "cell_type": "code",
   "execution_count": 386,
   "metadata": {},
   "outputs": [
    {
     "data": {
      "text/plain": [
       "0       B\n",
       "1    <NA>\n",
       "dtype: string"
      ]
     },
     "execution_count": 386,
     "metadata": {},
     "output_type": "execute_result"
    }
   ],
   "source": [
    "pd.Series(['A',np.nan],dtype='string').str.replace('A','B')"
   ]
  },
  {
   "cell_type": "markdown",
   "metadata": {},
   "source": [
    "#### 综上，概况的说，除非需要赋值元素为缺失值（转为object再转回来），否则请使用str.replace方法"
   ]
  },
  {
   "cell_type": "markdown",
   "metadata": {},
   "source": [
    "## 四、子串匹配与提取"
   ]
  },
  {
   "cell_type": "markdown",
   "metadata": {},
   "source": [
    "### 1. str.extract方法\n",
    "从单元格里提取符合传入的正则表达式的子串, 也可以用来将一列扩张为多列."
   ]
  },
  {
   "cell_type": "markdown",
   "metadata": {},
   "source": [
    "#### （a）常见用法"
   ]
  },
  {
   "cell_type": "code",
   "execution_count": 390,
   "metadata": {},
   "outputs": [
    {
     "data": {
      "text/plain": [
       "0    10-87\n",
       "1    10-88\n",
       "2    10-89\n",
       "dtype: string"
      ]
     },
     "metadata": {},
     "output_type": "display_data"
    },
    {
     "data": {
      "text/html": [
       "<div>\n",
       "<style scoped>\n",
       "    .dataframe tbody tr th:only-of-type {\n",
       "        vertical-align: middle;\n",
       "    }\n",
       "\n",
       "    .dataframe tbody tr th {\n",
       "        vertical-align: top;\n",
       "    }\n",
       "\n",
       "    .dataframe thead th {\n",
       "        text-align: right;\n",
       "    }\n",
       "</style>\n",
       "<table border=\"1\" class=\"dataframe\">\n",
       "  <thead>\n",
       "    <tr style=\"text-align: right;\">\n",
       "      <th></th>\n",
       "      <th>0</th>\n",
       "      <th>1</th>\n",
       "    </tr>\n",
       "  </thead>\n",
       "  <tbody>\n",
       "    <tr>\n",
       "      <th>0</th>\n",
       "      <td>10</td>\n",
       "      <td>87</td>\n",
       "    </tr>\n",
       "    <tr>\n",
       "      <th>1</th>\n",
       "      <td>10</td>\n",
       "      <td>88</td>\n",
       "    </tr>\n",
       "    <tr>\n",
       "      <th>2</th>\n",
       "      <td>10</td>\n",
       "      <td>89</td>\n",
       "    </tr>\n",
       "  </tbody>\n",
       "</table>\n",
       "</div>"
      ],
      "text/plain": [
       "    0   1\n",
       "0  10  87\n",
       "1  10  88\n",
       "2  10  89"
      ]
     },
     "execution_count": 390,
     "metadata": {},
     "output_type": "execute_result"
    }
   ],
   "source": [
    "display(pd.Series(['10-87', '10-88', '10-89'],dtype=\"string\"))\n",
    "pd.Series(['10-87', '10-88', '10-89'],dtype=\"string\").str.extract(r'([\\d]{2})-([\\d]{2})')"
   ]
  },
  {
   "cell_type": "code",
   "execution_count": 176,
   "metadata": {
    "collapsed": true,
    "jupyter": {
     "outputs_hidden": true
    }
   },
   "outputs": [
    {
     "data": {
      "text/plain": [
       "\u001b[1;31mSignature:\u001b[0m \u001b[0ms\u001b[0m\u001b[1;33m.\u001b[0m\u001b[0mstr\u001b[0m\u001b[1;33m.\u001b[0m\u001b[0mextract\u001b[0m\u001b[1;33m(\u001b[0m\u001b[0mpat\u001b[0m\u001b[1;33m,\u001b[0m \u001b[0mflags\u001b[0m\u001b[1;33m=\u001b[0m\u001b[1;36m0\u001b[0m\u001b[1;33m,\u001b[0m \u001b[0mexpand\u001b[0m\u001b[1;33m=\u001b[0m\u001b[1;32mTrue\u001b[0m\u001b[1;33m)\u001b[0m\u001b[1;33m\u001b[0m\u001b[1;33m\u001b[0m\u001b[0m\n",
       "\u001b[1;31mDocstring:\u001b[0m\n",
       "Extract capture groups in the regex `pat` as columns in a DataFrame.\n",
       "\n",
       "For each subject string in the Series, extract groups from the\n",
       "first match of regular expression `pat`.\n",
       "\n",
       "Parameters\n",
       "----------\n",
       "pat : str\n",
       "    Regular expression pattern with capturing groups.\n",
       "flags : int, default 0 (no flags)\n",
       "    Flags from the ``re`` module, e.g. ``re.IGNORECASE``, that\n",
       "    modify regular expression matching for things like case,\n",
       "    spaces, etc. For more details, see :mod:`re`.\n",
       "expand : bool, default True\n",
       "    If True, return DataFrame with one column per capture group.\n",
       "    If False, return a Series/Index if there is one capture group\n",
       "    or DataFrame if there are multiple capture groups.\n",
       "\n",
       "Returns\n",
       "-------\n",
       "DataFrame or Series or Index\n",
       "    A DataFrame with one row for each subject string, and one\n",
       "    column for each group. Any capture group names in regular\n",
       "    expression pat will be used for column names; otherwise\n",
       "    capture group numbers will be used. The dtype of each result\n",
       "    column is always object, even when no match is found. If\n",
       "    ``expand=False`` and pat has only one capture group, then\n",
       "    return a Series (if subject is a Series) or Index (if subject\n",
       "    is an Index).\n",
       "\n",
       "See Also\n",
       "--------\n",
       "extractall : Returns all matches (not just the first match).\n",
       "\n",
       "Examples\n",
       "--------\n",
       "A pattern with two groups will return a DataFrame with two columns.\n",
       "Non-matches will be NaN.\n",
       "\n",
       ">>> s = pd.Series(['a1', 'b2', 'c3'])\n",
       ">>> s.str.extract(r'([ab])(\\d)')\n",
       "     0    1\n",
       "0    a    1\n",
       "1    b    2\n",
       "2  NaN  NaN\n",
       "\n",
       "A pattern may contain optional groups.\n",
       "\n",
       ">>> s.str.extract(r'([ab])?(\\d)')\n",
       "     0  1\n",
       "0    a  1\n",
       "1    b  2\n",
       "2  NaN  3\n",
       "\n",
       "Named groups will become column names in the result.\n",
       "\n",
       ">>> s.str.extract(r'(?P<letter>[ab])(?P<digit>\\d)')\n",
       "  letter digit\n",
       "0      a     1\n",
       "1      b     2\n",
       "2    NaN   NaN\n",
       "\n",
       "A pattern with one group will return a DataFrame with one column\n",
       "if expand=True.\n",
       "\n",
       ">>> s.str.extract(r'[ab](\\d)', expand=True)\n",
       "     0\n",
       "0    1\n",
       "1    2\n",
       "2  NaN\n",
       "\n",
       "A pattern with one group will return a Series if expand=False.\n",
       "\n",
       ">>> s.str.extract(r'[ab](\\d)', expand=False)\n",
       "0      1\n",
       "1      2\n",
       "2    NaN\n",
       "dtype: object\n",
       "\u001b[1;31mSource:\u001b[0m   \n",
       "    \u001b[1;33m@\u001b[0m\u001b[0mcopy\u001b[0m\u001b[1;33m(\u001b[0m\u001b[0mstr_extract\u001b[0m\u001b[1;33m)\u001b[0m\u001b[1;33m\n",
       "\u001b[0m    \u001b[1;33m@\u001b[0m\u001b[0mforbid_nonstring_types\u001b[0m\u001b[1;33m(\u001b[0m\u001b[1;33m[\u001b[0m\u001b[1;34m\"bytes\"\u001b[0m\u001b[1;33m]\u001b[0m\u001b[1;33m)\u001b[0m\u001b[1;33m\n",
       "\u001b[0m    \u001b[1;32mdef\u001b[0m \u001b[0mextract\u001b[0m\u001b[1;33m(\u001b[0m\u001b[0mself\u001b[0m\u001b[1;33m,\u001b[0m \u001b[0mpat\u001b[0m\u001b[1;33m,\u001b[0m \u001b[0mflags\u001b[0m\u001b[1;33m=\u001b[0m\u001b[1;36m0\u001b[0m\u001b[1;33m,\u001b[0m \u001b[0mexpand\u001b[0m\u001b[1;33m=\u001b[0m\u001b[1;32mTrue\u001b[0m\u001b[1;33m)\u001b[0m\u001b[1;33m:\u001b[0m\u001b[1;33m\n",
       "\u001b[0m        \u001b[1;32mreturn\u001b[0m \u001b[0mstr_extract\u001b[0m\u001b[1;33m(\u001b[0m\u001b[0mself\u001b[0m\u001b[1;33m,\u001b[0m \u001b[0mpat\u001b[0m\u001b[1;33m,\u001b[0m \u001b[0mflags\u001b[0m\u001b[1;33m=\u001b[0m\u001b[0mflags\u001b[0m\u001b[1;33m,\u001b[0m \u001b[0mexpand\u001b[0m\u001b[1;33m=\u001b[0m\u001b[0mexpand\u001b[0m\u001b[1;33m)\u001b[0m\u001b[1;33m\u001b[0m\u001b[1;33m\u001b[0m\u001b[0m\n",
       "\u001b[1;31mFile:\u001b[0m      c:\\programdata\\anaconda3\\lib\\site-packages\\pandas\\core\\strings.py\n",
       "\u001b[1;31mType:\u001b[0m      method\n"
      ]
     },
     "metadata": {},
     "output_type": "display_data"
    }
   ],
   "source": [
    "s.str.extract??"
   ]
  },
  {
   "cell_type": "markdown",
   "metadata": {},
   "source": [
    "#### 通过在正则表达式中使用子组名来为拆分后的列增加列名"
   ]
  },
  {
   "cell_type": "code",
   "execution_count": 391,
   "metadata": {},
   "outputs": [
    {
     "data": {
      "text/html": [
       "<div>\n",
       "<style scoped>\n",
       "    .dataframe tbody tr th:only-of-type {\n",
       "        vertical-align: middle;\n",
       "    }\n",
       "\n",
       "    .dataframe tbody tr th {\n",
       "        vertical-align: top;\n",
       "    }\n",
       "\n",
       "    .dataframe thead th {\n",
       "        text-align: right;\n",
       "    }\n",
       "</style>\n",
       "<table border=\"1\" class=\"dataframe\">\n",
       "  <thead>\n",
       "    <tr style=\"text-align: right;\">\n",
       "      <th></th>\n",
       "      <th>start</th>\n",
       "      <th>end</th>\n",
       "    </tr>\n",
       "  </thead>\n",
       "  <tbody>\n",
       "    <tr>\n",
       "      <th>0</th>\n",
       "      <td>10</td>\n",
       "      <td>87</td>\n",
       "    </tr>\n",
       "    <tr>\n",
       "      <th>1</th>\n",
       "      <td>10</td>\n",
       "      <td>88</td>\n",
       "    </tr>\n",
       "    <tr>\n",
       "      <th>2</th>\n",
       "      <td>&lt;NA&gt;</td>\n",
       "      <td>&lt;NA&gt;</td>\n",
       "    </tr>\n",
       "  </tbody>\n",
       "</table>\n",
       "</div>"
      ],
      "text/plain": [
       "  start   end\n",
       "0    10    87\n",
       "1    10    88\n",
       "2  <NA>  <NA>"
      ]
     },
     "execution_count": 391,
     "metadata": {},
     "output_type": "execute_result"
    }
   ],
   "source": [
    "pd.Series(['10-87', '10-88', '-89'],dtype=\"string\").str.extract(r'(?P<start>[\\d]{2})-(?P<end>[\\d]{2})')"
   ]
  },
  {
   "cell_type": "markdown",
   "metadata": {},
   "source": [
    "#### 利用?正则标记选择部分提取"
   ]
  },
  {
   "cell_type": "code",
   "execution_count": 392,
   "metadata": {},
   "outputs": [
    {
     "data": {
      "text/html": [
       "<div>\n",
       "<style scoped>\n",
       "    .dataframe tbody tr th:only-of-type {\n",
       "        vertical-align: middle;\n",
       "    }\n",
       "\n",
       "    .dataframe tbody tr th {\n",
       "        vertical-align: top;\n",
       "    }\n",
       "\n",
       "    .dataframe thead th {\n",
       "        text-align: right;\n",
       "    }\n",
       "</style>\n",
       "<table border=\"1\" class=\"dataframe\">\n",
       "  <thead>\n",
       "    <tr style=\"text-align: right;\">\n",
       "      <th></th>\n",
       "      <th>name_1</th>\n",
       "      <th>name_2</th>\n",
       "    </tr>\n",
       "  </thead>\n",
       "  <tbody>\n",
       "    <tr>\n",
       "      <th>0</th>\n",
       "      <td>10</td>\n",
       "      <td>87</td>\n",
       "    </tr>\n",
       "    <tr>\n",
       "      <th>1</th>\n",
       "      <td>10</td>\n",
       "      <td>88</td>\n",
       "    </tr>\n",
       "    <tr>\n",
       "      <th>2</th>\n",
       "      <td>10</td>\n",
       "      <td>&lt;NA&gt;</td>\n",
       "    </tr>\n",
       "    <tr>\n",
       "      <th>3</th>\n",
       "      <td>&lt;NA&gt;</td>\n",
       "      <td>89</td>\n",
       "    </tr>\n",
       "  </tbody>\n",
       "</table>\n",
       "</div>"
      ],
      "text/plain": [
       "  name_1 name_2\n",
       "0     10     87\n",
       "1     10     88\n",
       "2     10   <NA>\n",
       "3   <NA>     89"
      ]
     },
     "execution_count": 392,
     "metadata": {},
     "output_type": "execute_result"
    }
   ],
   "source": [
    "pd.Series(['10-87', '10-88', '10-',  '-89'],dtype=\"string\").str.extract(r'(?P<name_1>[\\d]{2})?-(?P<name_2>[\\d]{2})?')\n",
    "# 第一组后的?表示该组是可能缺失的,第一组没匹配到的也能够正确提取第二组.\n",
    "# 在第二组后加上?则第二组匹配不到的也会正确提取第一组."
   ]
  },
  {
   "cell_type": "code",
   "execution_count": 393,
   "metadata": {},
   "outputs": [
    {
     "data": {
      "text/html": [
       "<div>\n",
       "<style scoped>\n",
       "    .dataframe tbody tr th:only-of-type {\n",
       "        vertical-align: middle;\n",
       "    }\n",
       "\n",
       "    .dataframe tbody tr th {\n",
       "        vertical-align: top;\n",
       "    }\n",
       "\n",
       "    .dataframe thead th {\n",
       "        text-align: right;\n",
       "    }\n",
       "</style>\n",
       "<table border=\"1\" class=\"dataframe\">\n",
       "  <thead>\n",
       "    <tr style=\"text-align: right;\">\n",
       "      <th></th>\n",
       "      <th>name_1</th>\n",
       "      <th>name_2</th>\n",
       "    </tr>\n",
       "  </thead>\n",
       "  <tbody>\n",
       "    <tr>\n",
       "      <th>0</th>\n",
       "      <td>10</td>\n",
       "      <td>87</td>\n",
       "    </tr>\n",
       "    <tr>\n",
       "      <th>1</th>\n",
       "      <td>10</td>\n",
       "      <td>88</td>\n",
       "    </tr>\n",
       "    <tr>\n",
       "      <th>2</th>\n",
       "      <td>10</td>\n",
       "      <td>&lt;NA&gt;</td>\n",
       "    </tr>\n",
       "  </tbody>\n",
       "</table>\n",
       "</div>"
      ],
      "text/plain": [
       "  name_1 name_2\n",
       "0     10     87\n",
       "1     10     88\n",
       "2     10   <NA>"
      ]
     },
     "execution_count": 393,
     "metadata": {},
     "output_type": "execute_result"
    }
   ],
   "source": [
    "pd.Series(['10-87', '10-88', '10-'],dtype=\"string\").str.extract(r'(?P<name_1>[\\d]{2})-(?P<name_2>[\\d]{2})?')"
   ]
  },
  {
   "cell_type": "markdown",
   "metadata": {},
   "source": [
    "#### （b）expand参数（默认为True）"
   ]
  },
  {
   "cell_type": "markdown",
   "metadata": {},
   "source": [
    "#### 对于一个子组的Series，如果expand设置为False，则返回Series，若大于一个子组，则expand参数无效，全部返回DataFrame\n",
    "#### 对于一个子组的Index，如果expand设置为False，则返回提取后的Index，若大于一个子组且expand为False，报错"
   ]
  },
  {
   "cell_type": "code",
   "execution_count": 394,
   "metadata": {},
   "outputs": [
    {
     "data": {
      "text/plain": [
       "A11    a1\n",
       "B22    b2\n",
       "C33    c3\n",
       "dtype: string"
      ]
     },
     "execution_count": 394,
     "metadata": {},
     "output_type": "execute_result"
    }
   ],
   "source": [
    "s = pd.Series([\"a1\", \"b2\", \"c3\"], [\"A11\", \"B22\", \"C33\"], dtype=\"string\")\n",
    "s#.index"
   ]
  },
  {
   "cell_type": "code",
   "execution_count": 395,
   "metadata": {},
   "outputs": [
    {
     "data": {
      "text/html": [
       "<div>\n",
       "<style scoped>\n",
       "    .dataframe tbody tr th:only-of-type {\n",
       "        vertical-align: middle;\n",
       "    }\n",
       "\n",
       "    .dataframe tbody tr th {\n",
       "        vertical-align: top;\n",
       "    }\n",
       "\n",
       "    .dataframe thead th {\n",
       "        text-align: right;\n",
       "    }\n",
       "</style>\n",
       "<table border=\"1\" class=\"dataframe\">\n",
       "  <thead>\n",
       "    <tr style=\"text-align: right;\">\n",
       "      <th></th>\n",
       "      <th>0</th>\n",
       "    </tr>\n",
       "  </thead>\n",
       "  <tbody>\n",
       "    <tr>\n",
       "      <th>A11</th>\n",
       "      <td>a</td>\n",
       "    </tr>\n",
       "    <tr>\n",
       "      <th>B22</th>\n",
       "      <td>b</td>\n",
       "    </tr>\n",
       "    <tr>\n",
       "      <th>C33</th>\n",
       "      <td>c</td>\n",
       "    </tr>\n",
       "  </tbody>\n",
       "</table>\n",
       "</div>"
      ],
      "text/plain": [
       "     0\n",
       "A11  a\n",
       "B22  b\n",
       "C33  c"
      ]
     },
     "execution_count": 395,
     "metadata": {},
     "output_type": "execute_result"
    }
   ],
   "source": [
    "s.str.extract(r'([\\w])')"
   ]
  },
  {
   "cell_type": "code",
   "execution_count": 396,
   "metadata": {},
   "outputs": [
    {
     "data": {
      "text/plain": [
       "A11    a\n",
       "B22    b\n",
       "C33    c\n",
       "dtype: string"
      ]
     },
     "execution_count": 396,
     "metadata": {},
     "output_type": "execute_result"
    }
   ],
   "source": [
    "s.str.extract(r'([\\w])',expand=False)"
   ]
  },
  {
   "cell_type": "code",
   "execution_count": 397,
   "metadata": {},
   "outputs": [
    {
     "data": {
      "text/html": [
       "<div>\n",
       "<style scoped>\n",
       "    .dataframe tbody tr th:only-of-type {\n",
       "        vertical-align: middle;\n",
       "    }\n",
       "\n",
       "    .dataframe tbody tr th {\n",
       "        vertical-align: top;\n",
       "    }\n",
       "\n",
       "    .dataframe thead th {\n",
       "        text-align: right;\n",
       "    }\n",
       "</style>\n",
       "<table border=\"1\" class=\"dataframe\">\n",
       "  <thead>\n",
       "    <tr style=\"text-align: right;\">\n",
       "      <th></th>\n",
       "      <th>0</th>\n",
       "    </tr>\n",
       "  </thead>\n",
       "  <tbody>\n",
       "    <tr>\n",
       "      <th>A11</th>\n",
       "      <td>a</td>\n",
       "    </tr>\n",
       "    <tr>\n",
       "      <th>B22</th>\n",
       "      <td>b</td>\n",
       "    </tr>\n",
       "    <tr>\n",
       "      <th>C33</th>\n",
       "      <td>c</td>\n",
       "    </tr>\n",
       "  </tbody>\n",
       "</table>\n",
       "</div>"
      ],
      "text/plain": [
       "     0\n",
       "A11  a\n",
       "B22  b\n",
       "C33  c"
      ]
     },
     "execution_count": 397,
     "metadata": {},
     "output_type": "execute_result"
    }
   ],
   "source": [
    "s.str.extract(r'([\\w])',expand=True)"
   ]
  },
  {
   "cell_type": "code",
   "execution_count": 398,
   "metadata": {},
   "outputs": [
    {
     "data": {
      "text/html": [
       "<div>\n",
       "<style scoped>\n",
       "    .dataframe tbody tr th:only-of-type {\n",
       "        vertical-align: middle;\n",
       "    }\n",
       "\n",
       "    .dataframe tbody tr th {\n",
       "        vertical-align: top;\n",
       "    }\n",
       "\n",
       "    .dataframe thead th {\n",
       "        text-align: right;\n",
       "    }\n",
       "</style>\n",
       "<table border=\"1\" class=\"dataframe\">\n",
       "  <thead>\n",
       "    <tr style=\"text-align: right;\">\n",
       "      <th></th>\n",
       "      <th>0</th>\n",
       "      <th>1</th>\n",
       "      <th>2</th>\n",
       "    </tr>\n",
       "  </thead>\n",
       "  <tbody>\n",
       "    <tr>\n",
       "      <th>A11</th>\n",
       "      <td>m</td>\n",
       "      <td>a</td>\n",
       "      <td>1</td>\n",
       "    </tr>\n",
       "    <tr>\n",
       "      <th>B22</th>\n",
       "      <td>m</td>\n",
       "      <td>b</td>\n",
       "      <td>2</td>\n",
       "    </tr>\n",
       "    <tr>\n",
       "      <th>C33</th>\n",
       "      <td>m</td>\n",
       "      <td>c</td>\n",
       "      <td>3</td>\n",
       "    </tr>\n",
       "  </tbody>\n",
       "</table>\n",
       "</div>"
      ],
      "text/plain": [
       "     0  1  2\n",
       "A11  m  a  1\n",
       "B22  m  b  2\n",
       "C33  m  c  3"
      ]
     },
     "execution_count": 398,
     "metadata": {},
     "output_type": "execute_result"
    }
   ],
   "source": [
    "('m'+s).str.extract(r'([\\w])([\\w])([\\w])',expand=False) # 大于1个组, 因此 expand=False 参数就没法起作用了--这和split方法中需要先指定expand, n才能起作用是不一致的."
   ]
  },
  {
   "cell_type": "code",
   "execution_count": 399,
   "metadata": {},
   "outputs": [
    {
     "data": {
      "text/html": [
       "<div>\n",
       "<style scoped>\n",
       "    .dataframe tbody tr th:only-of-type {\n",
       "        vertical-align: middle;\n",
       "    }\n",
       "\n",
       "    .dataframe tbody tr th {\n",
       "        vertical-align: top;\n",
       "    }\n",
       "\n",
       "    .dataframe thead th {\n",
       "        text-align: right;\n",
       "    }\n",
       "</style>\n",
       "<table border=\"1\" class=\"dataframe\">\n",
       "  <thead>\n",
       "    <tr style=\"text-align: right;\">\n",
       "      <th></th>\n",
       "      <th>0</th>\n",
       "    </tr>\n",
       "  </thead>\n",
       "  <tbody>\n",
       "    <tr>\n",
       "      <th>0</th>\n",
       "      <td>A</td>\n",
       "    </tr>\n",
       "    <tr>\n",
       "      <th>1</th>\n",
       "      <td>B</td>\n",
       "    </tr>\n",
       "    <tr>\n",
       "      <th>2</th>\n",
       "      <td>C</td>\n",
       "    </tr>\n",
       "  </tbody>\n",
       "</table>\n",
       "</div>"
      ],
      "text/plain": [
       "   0\n",
       "0  A\n",
       "1  B\n",
       "2  C"
      ]
     },
     "execution_count": 399,
     "metadata": {},
     "output_type": "execute_result"
    }
   ],
   "source": [
    "s.index.str.extract(r'([\\w])')"
   ]
  },
  {
   "cell_type": "code",
   "execution_count": 400,
   "metadata": {},
   "outputs": [
    {
     "data": {
      "text/plain": [
       "Index(['A', 'B', 'C'], dtype='object')"
      ]
     },
     "execution_count": 400,
     "metadata": {},
     "output_type": "execute_result"
    }
   ],
   "source": [
    "s.index.str.extract(r'([\\w])',expand=False)"
   ]
  },
  {
   "cell_type": "code",
   "execution_count": 401,
   "metadata": {},
   "outputs": [
    {
     "data": {
      "text/html": [
       "<div>\n",
       "<style scoped>\n",
       "    .dataframe tbody tr th:only-of-type {\n",
       "        vertical-align: middle;\n",
       "    }\n",
       "\n",
       "    .dataframe tbody tr th {\n",
       "        vertical-align: top;\n",
       "    }\n",
       "\n",
       "    .dataframe thead th {\n",
       "        text-align: right;\n",
       "    }\n",
       "</style>\n",
       "<table border=\"1\" class=\"dataframe\">\n",
       "  <thead>\n",
       "    <tr style=\"text-align: right;\">\n",
       "      <th></th>\n",
       "      <th>0</th>\n",
       "      <th>1</th>\n",
       "    </tr>\n",
       "  </thead>\n",
       "  <tbody>\n",
       "    <tr>\n",
       "      <th>0</th>\n",
       "      <td>A</td>\n",
       "      <td>1</td>\n",
       "    </tr>\n",
       "    <tr>\n",
       "      <th>1</th>\n",
       "      <td>B</td>\n",
       "      <td>2</td>\n",
       "    </tr>\n",
       "    <tr>\n",
       "      <th>2</th>\n",
       "      <td>C</td>\n",
       "      <td>3</td>\n",
       "    </tr>\n",
       "  </tbody>\n",
       "</table>\n",
       "</div>"
      ],
      "text/plain": [
       "   0  1\n",
       "0  A  1\n",
       "1  B  2\n",
       "2  C  3"
      ]
     },
     "execution_count": 401,
     "metadata": {},
     "output_type": "execute_result"
    }
   ],
   "source": [
    "# 提取两个子组类型,都提取导了,因此自然会分成两列\n",
    "s.index.str.extract(r'([\\w])([\\d])')"
   ]
  },
  {
   "cell_type": "code",
   "execution_count": 409,
   "metadata": {},
   "outputs": [
    {
     "data": {
      "text/html": [
       "<div>\n",
       "<style scoped>\n",
       "    .dataframe tbody tr th:only-of-type {\n",
       "        vertical-align: middle;\n",
       "    }\n",
       "\n",
       "    .dataframe tbody tr th {\n",
       "        vertical-align: top;\n",
       "    }\n",
       "\n",
       "    .dataframe thead th {\n",
       "        text-align: right;\n",
       "    }\n",
       "</style>\n",
       "<table border=\"1\" class=\"dataframe\">\n",
       "  <thead>\n",
       "    <tr style=\"text-align: right;\">\n",
       "      <th></th>\n",
       "      <th>0</th>\n",
       "      <th>1</th>\n",
       "      <th>2</th>\n",
       "      <th>3</th>\n",
       "    </tr>\n",
       "  </thead>\n",
       "  <tbody>\n",
       "    <tr>\n",
       "      <th>0</th>\n",
       "      <td>NaN</td>\n",
       "      <td>NaN</td>\n",
       "      <td>NaN</td>\n",
       "      <td>NaN</td>\n",
       "    </tr>\n",
       "    <tr>\n",
       "      <th>1</th>\n",
       "      <td>NaN</td>\n",
       "      <td>NaN</td>\n",
       "      <td>NaN</td>\n",
       "      <td>NaN</td>\n",
       "    </tr>\n",
       "    <tr>\n",
       "      <th>2</th>\n",
       "      <td>NaN</td>\n",
       "      <td>NaN</td>\n",
       "      <td>NaN</td>\n",
       "      <td>NaN</td>\n",
       "    </tr>\n",
       "  </tbody>\n",
       "</table>\n",
       "</div>"
      ],
      "text/plain": [
       "     0    1    2    3\n",
       "0  NaN  NaN  NaN  NaN\n",
       "1  NaN  NaN  NaN  NaN\n",
       "2  NaN  NaN  NaN  NaN"
      ]
     },
     "execution_count": 409,
     "metadata": {},
     "output_type": "execute_result"
    }
   ],
   "source": [
    "# s.index.str.extract(r'([\\w])([\\d])([\\w])') # 第三个子组会继续沿用第二个\n",
    "# s.index.str.extract(r'([\\w])([\\d])([\\d])') # 同上\n",
    "s.index.str.extract(r'([\\w])([\\d])([\\w])([\\w])') #再增加一个就都变成 NaN 了"
   ]
  },
  {
   "cell_type": "code",
   "execution_count": 413,
   "metadata": {},
   "outputs": [
    {
     "data": {
      "text/html": [
       "<div>\n",
       "<style scoped>\n",
       "    .dataframe tbody tr th:only-of-type {\n",
       "        vertical-align: middle;\n",
       "    }\n",
       "\n",
       "    .dataframe tbody tr th {\n",
       "        vertical-align: top;\n",
       "    }\n",
       "\n",
       "    .dataframe thead th {\n",
       "        text-align: right;\n",
       "    }\n",
       "</style>\n",
       "<table border=\"1\" class=\"dataframe\">\n",
       "  <thead>\n",
       "    <tr style=\"text-align: right;\">\n",
       "      <th></th>\n",
       "      <th>0</th>\n",
       "      <th>1</th>\n",
       "      <th>2</th>\n",
       "    </tr>\n",
       "  </thead>\n",
       "  <tbody>\n",
       "    <tr>\n",
       "      <th>0</th>\n",
       "      <td>A</td>\n",
       "      <td>1</td>\n",
       "      <td>1</td>\n",
       "    </tr>\n",
       "    <tr>\n",
       "      <th>1</th>\n",
       "      <td>B</td>\n",
       "      <td>2</td>\n",
       "      <td>2</td>\n",
       "    </tr>\n",
       "    <tr>\n",
       "      <th>2</th>\n",
       "      <td>C</td>\n",
       "      <td>3</td>\n",
       "      <td>3</td>\n",
       "    </tr>\n",
       "  </tbody>\n",
       "</table>\n",
       "</div>"
      ],
      "text/plain": [
       "   0  1  2\n",
       "0  A  1  1\n",
       "1  B  2  2\n",
       "2  C  3  3"
      ]
     },
     "execution_count": 413,
     "metadata": {},
     "output_type": "execute_result"
    }
   ],
   "source": [
    "s.index.str.extract(r'([\\w])([\\d])([\\d])')#([\\d])') #三个没问题, 再增加一个就都变成 NaN 了"
   ]
  },
  {
   "cell_type": "code",
   "execution_count": 415,
   "metadata": {},
   "outputs": [
    {
     "data": {
      "text/html": [
       "<div>\n",
       "<style scoped>\n",
       "    .dataframe tbody tr th:only-of-type {\n",
       "        vertical-align: middle;\n",
       "    }\n",
       "\n",
       "    .dataframe tbody tr th {\n",
       "        vertical-align: top;\n",
       "    }\n",
       "\n",
       "    .dataframe thead th {\n",
       "        text-align: right;\n",
       "    }\n",
       "</style>\n",
       "<table border=\"1\" class=\"dataframe\">\n",
       "  <thead>\n",
       "    <tr style=\"text-align: right;\">\n",
       "      <th></th>\n",
       "      <th>0</th>\n",
       "      <th>1</th>\n",
       "    </tr>\n",
       "  </thead>\n",
       "  <tbody>\n",
       "    <tr>\n",
       "      <th>0</th>\n",
       "      <td>A</td>\n",
       "      <td>1</td>\n",
       "    </tr>\n",
       "    <tr>\n",
       "      <th>1</th>\n",
       "      <td>B</td>\n",
       "      <td>2</td>\n",
       "    </tr>\n",
       "    <tr>\n",
       "      <th>2</th>\n",
       "      <td>C</td>\n",
       "      <td>3</td>\n",
       "    </tr>\n",
       "  </tbody>\n",
       "</table>\n",
       "</div>"
      ],
      "text/plain": [
       "   0  1\n",
       "0  A  1\n",
       "1  B  2\n",
       "2  C  3"
      ]
     },
     "execution_count": 415,
     "metadata": {},
     "output_type": "execute_result"
    }
   ],
   "source": [
    "# 索引也支持提取\n",
    "#s.index.str.extract(r'([\\w])([\\d])',expand=False) #报错 ValueError: only one regex group is supported with Index\n",
    "s.index.str.extract(r'([\\w])([\\d])',expand=True)"
   ]
  },
  {
   "cell_type": "code",
   "execution_count": 416,
   "metadata": {},
   "outputs": [
    {
     "data": {
      "text/html": [
       "<div>\n",
       "<style scoped>\n",
       "    .dataframe tbody tr th:only-of-type {\n",
       "        vertical-align: middle;\n",
       "    }\n",
       "\n",
       "    .dataframe tbody tr th {\n",
       "        vertical-align: top;\n",
       "    }\n",
       "\n",
       "    .dataframe thead th {\n",
       "        text-align: right;\n",
       "    }\n",
       "</style>\n",
       "<table border=\"1\" class=\"dataframe\">\n",
       "  <thead>\n",
       "    <tr style=\"text-align: right;\">\n",
       "      <th></th>\n",
       "      <th>0</th>\n",
       "      <th>1</th>\n",
       "    </tr>\n",
       "  </thead>\n",
       "  <tbody>\n",
       "    <tr>\n",
       "      <th>A11</th>\n",
       "      <td>A</td>\n",
       "      <td>1</td>\n",
       "    </tr>\n",
       "    <tr>\n",
       "      <th>B22</th>\n",
       "      <td>B</td>\n",
       "      <td>2</td>\n",
       "    </tr>\n",
       "    <tr>\n",
       "      <th>C33</th>\n",
       "      <td>C</td>\n",
       "      <td>3</td>\n",
       "    </tr>\n",
       "  </tbody>\n",
       "</table>\n",
       "</div>"
      ],
      "text/plain": [
       "     0  1\n",
       "A11  A  1\n",
       "B22  B  2\n",
       "C33  C  3"
      ]
     },
     "execution_count": 416,
     "metadata": {},
     "output_type": "execute_result"
    }
   ],
   "source": [
    "# 对于索引, 也可以先使用 to_series 函数(注意s小写)转为Series再提取--这在从复合型单层索引构造层次索引时会用到.\n",
    "s.index.to_series().str.extract(r'([\\w])([\\d])',expand=False)"
   ]
  },
  {
   "cell_type": "markdown",
   "metadata": {},
   "source": [
    "### 2. str.extractall方法"
   ]
  },
  {
   "cell_type": "markdown",
   "metadata": {},
   "source": [
    "#### 与extract只匹配第一个符合条件的表达式不同，extractall会找出所有符合条件的字符串，并建立多级索引（即使只找到一个）"
   ]
  },
  {
   "cell_type": "code",
   "execution_count": 417,
   "metadata": {},
   "outputs": [
    {
     "data": {
      "text/plain": [
       "A    a1a2\n",
       "B      b1\n",
       "C      c1\n",
       "dtype: string"
      ]
     },
     "metadata": {},
     "output_type": "display_data"
    },
    {
     "data": {
      "text/html": [
       "<div>\n",
       "<style scoped>\n",
       "    .dataframe tbody tr th:only-of-type {\n",
       "        vertical-align: middle;\n",
       "    }\n",
       "\n",
       "    .dataframe tbody tr th {\n",
       "        vertical-align: top;\n",
       "    }\n",
       "\n",
       "    .dataframe thead th {\n",
       "        text-align: right;\n",
       "    }\n",
       "</style>\n",
       "<table border=\"1\" class=\"dataframe\">\n",
       "  <thead>\n",
       "    <tr style=\"text-align: right;\">\n",
       "      <th></th>\n",
       "      <th>letter</th>\n",
       "      <th>digit</th>\n",
       "    </tr>\n",
       "  </thead>\n",
       "  <tbody>\n",
       "    <tr>\n",
       "      <th>A</th>\n",
       "      <td>a</td>\n",
       "      <td>1</td>\n",
       "    </tr>\n",
       "    <tr>\n",
       "      <th>B</th>\n",
       "      <td>b</td>\n",
       "      <td>1</td>\n",
       "    </tr>\n",
       "    <tr>\n",
       "      <th>C</th>\n",
       "      <td>c</td>\n",
       "      <td>1</td>\n",
       "    </tr>\n",
       "  </tbody>\n",
       "</table>\n",
       "</div>"
      ],
      "text/plain": [
       "  letter digit\n",
       "A      a     1\n",
       "B      b     1\n",
       "C      c     1"
      ]
     },
     "execution_count": 417,
     "metadata": {},
     "output_type": "execute_result"
    }
   ],
   "source": [
    "s = pd.Series([\"a1a2\", \"b1\", \"c1\"], index=[\"A\", \"B\", \"C\"],dtype=\"string\")\n",
    "display(s)\n",
    "two_groups = '(?P<letter>[a-z])(?P<digit>[0-9])'\n",
    "s.str.extract(two_groups, expand=True)"
   ]
  },
  {
   "cell_type": "code",
   "execution_count": 418,
   "metadata": {},
   "outputs": [
    {
     "data": {
      "text/html": [
       "<div>\n",
       "<style scoped>\n",
       "    .dataframe tbody tr th:only-of-type {\n",
       "        vertical-align: middle;\n",
       "    }\n",
       "\n",
       "    .dataframe tbody tr th {\n",
       "        vertical-align: top;\n",
       "    }\n",
       "\n",
       "    .dataframe thead th {\n",
       "        text-align: right;\n",
       "    }\n",
       "</style>\n",
       "<table border=\"1\" class=\"dataframe\">\n",
       "  <thead>\n",
       "    <tr style=\"text-align: right;\">\n",
       "      <th></th>\n",
       "      <th></th>\n",
       "      <th>letter</th>\n",
       "      <th>digit</th>\n",
       "    </tr>\n",
       "    <tr>\n",
       "      <th></th>\n",
       "      <th>match</th>\n",
       "      <th></th>\n",
       "      <th></th>\n",
       "    </tr>\n",
       "  </thead>\n",
       "  <tbody>\n",
       "    <tr>\n",
       "      <th rowspan=\"2\" valign=\"top\">A</th>\n",
       "      <th>0</th>\n",
       "      <td>a</td>\n",
       "      <td>1</td>\n",
       "    </tr>\n",
       "    <tr>\n",
       "      <th>1</th>\n",
       "      <td>a</td>\n",
       "      <td>2</td>\n",
       "    </tr>\n",
       "    <tr>\n",
       "      <th>B</th>\n",
       "      <th>0</th>\n",
       "      <td>b</td>\n",
       "      <td>1</td>\n",
       "    </tr>\n",
       "    <tr>\n",
       "      <th>C</th>\n",
       "      <th>0</th>\n",
       "      <td>c</td>\n",
       "      <td>1</td>\n",
       "    </tr>\n",
       "  </tbody>\n",
       "</table>\n",
       "</div>"
      ],
      "text/plain": [
       "        letter digit\n",
       "  match             \n",
       "A 0          a     1\n",
       "  1          a     2\n",
       "B 0          b     1\n",
       "C 0          c     1"
      ]
     },
     "execution_count": 418,
     "metadata": {},
     "output_type": "execute_result"
    }
   ],
   "source": [
    "s.str.extractall(two_groups)\n",
    "# 将匹配到的多个符合条件的子串分为了多行--分为列的话会导致大量的单元格是缺失值"
   ]
  },
  {
   "cell_type": "code",
   "execution_count": 47,
   "metadata": {},
   "outputs": [
    {
     "data": {
      "text/html": [
       "<div>\n",
       "<style scoped>\n",
       "    .dataframe tbody tr th:only-of-type {\n",
       "        vertical-align: middle;\n",
       "    }\n",
       "\n",
       "    .dataframe tbody tr th {\n",
       "        vertical-align: top;\n",
       "    }\n",
       "\n",
       "    .dataframe thead th {\n",
       "        text-align: right;\n",
       "    }\n",
       "</style>\n",
       "<table border=\"1\" class=\"dataframe\">\n",
       "  <thead>\n",
       "    <tr style=\"text-align: right;\">\n",
       "      <th></th>\n",
       "      <th></th>\n",
       "      <th>letter</th>\n",
       "      <th>digit</th>\n",
       "    </tr>\n",
       "    <tr>\n",
       "      <th></th>\n",
       "      <th>match</th>\n",
       "      <th></th>\n",
       "      <th></th>\n",
       "    </tr>\n",
       "  </thead>\n",
       "  <tbody>\n",
       "    <tr>\n",
       "      <th>A</th>\n",
       "      <th>0</th>\n",
       "      <td>a</td>\n",
       "      <td>1</td>\n",
       "    </tr>\n",
       "    <tr>\n",
       "      <th>B</th>\n",
       "      <th>0</th>\n",
       "      <td>b</td>\n",
       "      <td>1</td>\n",
       "    </tr>\n",
       "    <tr>\n",
       "      <th>C</th>\n",
       "      <th>0</th>\n",
       "      <td>c</td>\n",
       "      <td>1</td>\n",
       "    </tr>\n",
       "  </tbody>\n",
       "</table>\n",
       "</div>"
      ],
      "text/plain": [
       "        letter digit\n",
       "  match             \n",
       "A 0          a     1\n",
       "B 0          b     1\n",
       "C 0          c     1"
      ]
     },
     "execution_count": 47,
     "metadata": {},
     "output_type": "execute_result"
    }
   ],
   "source": [
    "s['A']='a1'\n",
    "s.str.extractall(two_groups)"
   ]
  },
  {
   "cell_type": "markdown",
   "metadata": {},
   "source": [
    "#### 如果想查看第i层匹配，可使用xs方法"
   ]
  },
  {
   "cell_type": "code",
   "execution_count": 48,
   "metadata": {},
   "outputs": [
    {
     "data": {
      "text/html": [
       "<div>\n",
       "<style scoped>\n",
       "    .dataframe tbody tr th:only-of-type {\n",
       "        vertical-align: middle;\n",
       "    }\n",
       "\n",
       "    .dataframe tbody tr th {\n",
       "        vertical-align: top;\n",
       "    }\n",
       "\n",
       "    .dataframe thead th {\n",
       "        text-align: right;\n",
       "    }\n",
       "</style>\n",
       "<table border=\"1\" class=\"dataframe\">\n",
       "  <thead>\n",
       "    <tr style=\"text-align: right;\">\n",
       "      <th></th>\n",
       "      <th>letter</th>\n",
       "      <th>digit</th>\n",
       "    </tr>\n",
       "  </thead>\n",
       "  <tbody>\n",
       "    <tr>\n",
       "      <th>A</th>\n",
       "      <td>a</td>\n",
       "      <td>2</td>\n",
       "    </tr>\n",
       "    <tr>\n",
       "      <th>B</th>\n",
       "      <td>b</td>\n",
       "      <td>2</td>\n",
       "    </tr>\n",
       "    <tr>\n",
       "      <th>C</th>\n",
       "      <td>c</td>\n",
       "      <td>2</td>\n",
       "    </tr>\n",
       "  </tbody>\n",
       "</table>\n",
       "</div>"
      ],
      "text/plain": [
       "  letter digit\n",
       "A      a     2\n",
       "B      b     2\n",
       "C      c     2"
      ]
     },
     "execution_count": 48,
     "metadata": {},
     "output_type": "execute_result"
    }
   ],
   "source": [
    "s = pd.Series([\"a1a2\", \"b1b2\", \"c1c2\"], index=[\"A\", \"B\", \"C\"],dtype=\"string\")\n",
    "s.str.extractall(two_groups).xs(1,level='match')"
   ]
  },
  {
   "cell_type": "markdown",
   "metadata": {},
   "source": [
    "### 3. str.contains和str.match\n",
    "#### 前者的作用为检测是否包含某种正则模式"
   ]
  },
  {
   "cell_type": "code",
   "execution_count": 49,
   "metadata": {},
   "outputs": [
    {
     "data": {
      "text/plain": [
       "0    False\n",
       "1     <NA>\n",
       "2     True\n",
       "3     True\n",
       "4     True\n",
       "dtype: boolean"
      ]
     },
     "execution_count": 49,
     "metadata": {},
     "output_type": "execute_result"
    }
   ],
   "source": [
    "pd.Series(['1', None, '3a', '3b', '03c'], dtype=\"string\").str.contains(r'[0-9][a-z]')"
   ]
  },
  {
   "cell_type": "markdown",
   "metadata": {},
   "source": [
    "#### 可选参数为na"
   ]
  },
  {
   "cell_type": "code",
   "execution_count": 50,
   "metadata": {},
   "outputs": [
    {
     "data": {
      "text/plain": [
       "0    False\n",
       "1    False\n",
       "2     True\n",
       "3    False\n",
       "4    False\n",
       "dtype: boolean"
      ]
     },
     "execution_count": 50,
     "metadata": {},
     "output_type": "execute_result"
    }
   ],
   "source": [
    "pd.Series(['1', None, '3a', '3b', '03c'], dtype=\"string\").str.contains('a', na=False)"
   ]
  },
  {
   "cell_type": "markdown",
   "metadata": {},
   "source": [
    "#### str.match与其区别在于，match依赖于python的re.match，检测内容为是否从头开始包含该正则模式"
   ]
  },
  {
   "cell_type": "code",
   "execution_count": 51,
   "metadata": {},
   "outputs": [
    {
     "data": {
      "text/plain": [
       "0    False\n",
       "1    False\n",
       "2     True\n",
       "3     True\n",
       "4    False\n",
       "dtype: boolean"
      ]
     },
     "execution_count": 51,
     "metadata": {},
     "output_type": "execute_result"
    }
   ],
   "source": [
    "pd.Series(['1', None, '3a_', '3b', '03c'], dtype=\"string\").str.match(r'[0-9][a-z]',na=False)"
   ]
  },
  {
   "cell_type": "code",
   "execution_count": 52,
   "metadata": {},
   "outputs": [
    {
     "data": {
      "text/plain": [
       "0    False\n",
       "1    False\n",
       "2    False\n",
       "3     True\n",
       "4    False\n",
       "dtype: boolean"
      ]
     },
     "execution_count": 52,
     "metadata": {},
     "output_type": "execute_result"
    }
   ],
   "source": [
    "pd.Series(['1', None, '_3a', '3b', '03c'], dtype=\"string\").str.match(r'[0-9][a-z]',na=False)"
   ]
  },
  {
   "cell_type": "markdown",
   "metadata": {},
   "source": [
    "## 五、常用字符串方法"
   ]
  },
  {
   "cell_type": "markdown",
   "metadata": {},
   "source": [
    "### 1. 过滤型方法\n",
    "#### （a）str.strip\n",
    "#### 常用于过滤空格"
   ]
  },
  {
   "cell_type": "code",
   "execution_count": 53,
   "metadata": {},
   "outputs": [
    {
     "data": {
      "text/plain": [
       "Index(['space1', 'space2', 'space3'], dtype='object')"
      ]
     },
     "execution_count": 53,
     "metadata": {},
     "output_type": "execute_result"
    }
   ],
   "source": [
    "pd.Series(list('abc'),index=[' space1  ','space2  ','  space3'],dtype=\"string\").index.str.strip()"
   ]
  },
  {
   "cell_type": "markdown",
   "metadata": {},
   "source": [
    "#### （b）str.lower和str.upper"
   ]
  },
  {
   "cell_type": "code",
   "execution_count": 54,
   "metadata": {},
   "outputs": [
    {
     "data": {
      "text/plain": [
       "0    a\n",
       "dtype: string"
      ]
     },
     "execution_count": 54,
     "metadata": {},
     "output_type": "execute_result"
    }
   ],
   "source": [
    "pd.Series('A',dtype=\"string\").str.lower()"
   ]
  },
  {
   "cell_type": "code",
   "execution_count": 55,
   "metadata": {},
   "outputs": [
    {
     "data": {
      "text/plain": [
       "0    A\n",
       "dtype: string"
      ]
     },
     "execution_count": 55,
     "metadata": {},
     "output_type": "execute_result"
    }
   ],
   "source": [
    "pd.Series('a',dtype=\"string\").str.upper()"
   ]
  },
  {
   "cell_type": "markdown",
   "metadata": {},
   "source": [
    "#### （c）str.swapcase和str.capitalize\n",
    "#### 分别表示交换字母大小写和大写首字母"
   ]
  },
  {
   "cell_type": "code",
   "execution_count": 56,
   "metadata": {},
   "outputs": [
    {
     "data": {
      "text/plain": [
       "0    ABcd\n",
       "dtype: string"
      ]
     },
     "execution_count": 56,
     "metadata": {},
     "output_type": "execute_result"
    }
   ],
   "source": [
    "pd.Series('abCD',dtype=\"string\").str.swapcase()"
   ]
  },
  {
   "cell_type": "code",
   "execution_count": 57,
   "metadata": {},
   "outputs": [
    {
     "data": {
      "text/plain": [
       "0    Abcd\n",
       "dtype: string"
      ]
     },
     "execution_count": 57,
     "metadata": {},
     "output_type": "execute_result"
    }
   ],
   "source": [
    "pd.Series('abCD',dtype=\"string\").str.capitalize()"
   ]
  },
  {
   "cell_type": "markdown",
   "metadata": {},
   "source": [
    "### 2. isnumeric方法\n",
    "#### 检查每一位是否都是数字，请问如何判断是否是数值？（问题二）"
   ]
  },
  {
   "cell_type": "code",
   "execution_count": 422,
   "metadata": {},
   "outputs": [
    {
     "data": {
      "text/plain": [
       "0    False\n",
       "1     True\n",
       "2    False\n",
       "3    False\n",
       "4     <NA>\n",
       "dtype: boolean"
      ]
     },
     "execution_count": 422,
     "metadata": {},
     "output_type": "execute_result"
    }
   ],
   "source": [
    "pd.Series(['1.2','1','-0.3','a',np.nan],dtype=\"string\").str.isnumeric()"
   ]
  },
  {
   "cell_type": "markdown",
   "metadata": {},
   "source": [
    "## 六、问题与练习\n",
    "### 1. 问题"
   ]
  },
  {
   "cell_type": "markdown",
   "metadata": {},
   "source": [
    "#### 【问题一】 str对象方法和df/Series对象方法有什么区别？"
   ]
  },
  {
   "cell_type": "code",
   "execution_count": null,
   "metadata": {},
   "outputs": [],
   "source": []
  },
  {
   "cell_type": "markdown",
   "metadata": {},
   "source": [
    "#### 【问题二】 给出一列string类型，如何判断单元格是否是数值型数据？"
   ]
  },
  {
   "cell_type": "code",
   "execution_count": 426,
   "metadata": {},
   "outputs": [
    {
     "data": {
      "text/plain": [
       "0     1.2\n",
       "1       1\n",
       "2    -0.3\n",
       "3       a\n",
       "4    <NA>\n",
       "dtype: string"
      ]
     },
     "execution_count": 426,
     "metadata": {},
     "output_type": "execute_result"
    }
   ],
   "source": [
    "s_string = pd.Series(['1.2','1','-0.3','a',np.nan],dtype=\"string\")\n",
    "dsiplay(s_string)# .str.extract(r'\\d')  #ValueError: pattern contains no capture groups"
   ]
  },
  {
   "cell_type": "code",
   "execution_count": 438,
   "metadata": {},
   "outputs": [
    {
     "data": {
      "text/plain": [
       "0    False\n",
       "1     True\n",
       "2    False\n",
       "3    False\n",
       "4     <NA>\n",
       "dtype: boolean"
      ]
     },
     "execution_count": 438,
     "metadata": {},
     "output_type": "execute_result"
    }
   ],
   "source": [
    "s_string.str.isdecimal()"
   ]
  },
  {
   "cell_type": "code",
   "execution_count": 441,
   "metadata": {},
   "outputs": [
    {
     "name": "stdout",
     "output_type": "stream",
     "text": [
      "1.2 <class 'str'>\n",
      "1 <class 'str'>\n",
      "-0.3 <class 'str'>\n",
      "a <class 'str'>\n",
      "<NA> <class 'pandas._libs.missing.NAType'>\n"
     ]
    },
    {
     "data": {
      "text/plain": [
       "0    None\n",
       "1    None\n",
       "2    None\n",
       "3    None\n",
       "4    None\n",
       "dtype: object"
      ]
     },
     "execution_count": 441,
     "metadata": {},
     "output_type": "execute_result"
    }
   ],
   "source": [
    "s_string.apply(lambda x:print(x,type(x)))"
   ]
  },
  {
   "cell_type": "markdown",
   "metadata": {},
   "source": [
    "#### 【问题三】 rsplit方法的作用是什么？它在什么场合下适用？"
   ]
  },
  {
   "cell_type": "code",
   "execution_count": 443,
   "metadata": {
    "collapsed": true,
    "jupyter": {
     "outputs_hidden": true
    }
   },
   "outputs": [
    {
     "data": {
      "text/plain": [
       "\u001b[1;31mSignature:\u001b[0m \u001b[0ms\u001b[0m\u001b[1;33m.\u001b[0m\u001b[0mstr\u001b[0m\u001b[1;33m.\u001b[0m\u001b[0mrsplit\u001b[0m\u001b[1;33m(\u001b[0m\u001b[0mpat\u001b[0m\u001b[1;33m=\u001b[0m\u001b[1;32mNone\u001b[0m\u001b[1;33m,\u001b[0m \u001b[0mn\u001b[0m\u001b[1;33m=\u001b[0m\u001b[1;33m-\u001b[0m\u001b[1;36m1\u001b[0m\u001b[1;33m,\u001b[0m \u001b[0mexpand\u001b[0m\u001b[1;33m=\u001b[0m\u001b[1;32mFalse\u001b[0m\u001b[1;33m)\u001b[0m\u001b[1;33m\u001b[0m\u001b[1;33m\u001b[0m\u001b[0m\n",
       "\u001b[1;31mDocstring:\u001b[0m\n",
       "Split strings around given separator/delimiter.\n",
       "\n",
       "Splits the string in the Series/Index from the end,\n",
       "at the specified delimiter string. Equivalent to :meth:`str.rsplit`.\n",
       "\n",
       "Parameters\n",
       "----------\n",
       "pat : str, optional\n",
       "    String or regular expression to split on.\n",
       "    If not specified, split on whitespace.\n",
       "n : int, default -1 (all)\n",
       "    Limit number of splits in output.\n",
       "    ``None``, 0 and -1 will be interpreted as return all splits.\n",
       "expand : bool, default False\n",
       "    Expand the splitted strings into separate columns.\n",
       "\n",
       "    * If ``True``, return DataFrame/MultiIndex expanding dimensionality.\n",
       "    * If ``False``, return Series/Index, containing lists of strings.\n",
       "\n",
       "Returns\n",
       "-------\n",
       "Series, Index, DataFrame or MultiIndex\n",
       "    Type matches caller unless ``expand=True`` (see Notes).\n",
       "\n",
       "See Also\n",
       "--------\n",
       "Series.str.split : Split strings around given separator/delimiter.\n",
       "Series.str.rsplit : Splits string around given separator/delimiter,\n",
       "    starting from the right.\n",
       "Series.str.join : Join lists contained as elements in the Series/Index\n",
       "    with passed delimiter.\n",
       "str.split : Standard library version for split.\n",
       "str.rsplit : Standard library version for rsplit.\n",
       "\n",
       "Notes\n",
       "-----\n",
       "The handling of the `n` keyword depends on the number of found splits:\n",
       "\n",
       "- If found splits > `n`,  make first `n` splits only\n",
       "- If found splits <= `n`, make all splits\n",
       "- If for a certain row the number of found splits < `n`,\n",
       "  append `None` for padding up to `n` if ``expand=True``\n",
       "\n",
       "If using ``expand=True``, Series and Index callers return DataFrame and\n",
       "MultiIndex objects, respectively.\n",
       "\n",
       "Examples\n",
       "--------\n",
       ">>> s = pd.Series([\"this is a regular sentence\",\n",
       "...                \"https://docs.python.org/3/tutorial/index.html\",\n",
       "...                np.nan])\n",
       "0                       this is a regular sentence\n",
       "1    https://docs.python.org/3/tutorial/index.html\n",
       "2                                              NaN\n",
       "dtype: object\n",
       "\n",
       "In the default setting, the string is split by whitespace.\n",
       "\n",
       ">>> s.str.split()\n",
       "0                   [this, is, a, regular, sentence]\n",
       "1    [https://docs.python.org/3/tutorial/index.html]\n",
       "2                                                NaN\n",
       "dtype: object\n",
       "\n",
       "Without the `n` parameter, the outputs of `rsplit` and `split`\n",
       "are identical.\n",
       "\n",
       ">>> s.str.rsplit()\n",
       "0                   [this, is, a, regular, sentence]\n",
       "1    [https://docs.python.org/3/tutorial/index.html]\n",
       "2                                                NaN\n",
       "dtype: object\n",
       "\n",
       "The `n` parameter can be used to limit the number of splits on the\n",
       "delimiter. The outputs of `split` and `rsplit` are different.\n",
       "\n",
       ">>> s.str.split(n=2)\n",
       "0                     [this, is, a regular sentence]\n",
       "1    [https://docs.python.org/3/tutorial/index.html]\n",
       "2                                                NaN\n",
       "dtype: object\n",
       "\n",
       ">>> s.str.rsplit(n=2)\n",
       "0                     [this is a, regular, sentence]\n",
       "1    [https://docs.python.org/3/tutorial/index.html]\n",
       "2                                                NaN\n",
       "dtype: object\n",
       "\n",
       "The `pat` parameter can be used to split by other characters.\n",
       "\n",
       ">>> s.str.split(pat = \"/\")\n",
       "0                         [this is a regular sentence]\n",
       "1    [https:, , docs.python.org, 3, tutorial, index...\n",
       "2                                                  NaN\n",
       "dtype: object\n",
       "\n",
       "When using ``expand=True``, the split elements will expand out into\n",
       "separate columns. If NaN is present, it is propagated throughout\n",
       "the columns during the split.\n",
       "\n",
       ">>> s.str.split(expand=True)\n",
       "                                               0     1     2        3\n",
       "0                                           this    is     a  regular\n",
       "1  https://docs.python.org/3/tutorial/index.html  None  None     None\n",
       "2                                            NaN   NaN   NaN      NaN \\\n",
       "             4\n",
       "0     sentence\n",
       "1         None\n",
       "2          NaN\n",
       "\n",
       "For slightly more complex use cases like splitting the html document name\n",
       "from a url, a combination of parameter settings can be used.\n",
       "\n",
       ">>> s.str.rsplit(\"/\", n=1, expand=True)\n",
       "                                    0           1\n",
       "0          this is a regular sentence        None\n",
       "1  https://docs.python.org/3/tutorial  index.html\n",
       "2                                 NaN         NaN\n",
       "\n",
       "Remember to escape special characters when explicitly using regular\n",
       "expressions.\n",
       "\n",
       ">>> s = pd.Series([\"1+1=2\"])\n",
       "\n",
       ">>> s.str.split(r\"\\+|=\", expand=True)\n",
       "     0    1    2\n",
       "0    1    1    2\n",
       "\u001b[1;31mSource:\u001b[0m   \n",
       "    \u001b[1;33m@\u001b[0m\u001b[0mAppender\u001b[0m\u001b[1;33m(\u001b[0m\u001b[0m_shared_docs\u001b[0m\u001b[1;33m[\u001b[0m\u001b[1;34m\"str_split\"\u001b[0m\u001b[1;33m]\u001b[0m \u001b[1;33m%\u001b[0m \u001b[1;33m{\u001b[0m\u001b[1;34m\"side\"\u001b[0m\u001b[1;33m:\u001b[0m \u001b[1;34m\"end\"\u001b[0m\u001b[1;33m,\u001b[0m \u001b[1;34m\"method\"\u001b[0m\u001b[1;33m:\u001b[0m \u001b[1;34m\"rsplit\"\u001b[0m\u001b[1;33m}\u001b[0m\u001b[1;33m)\u001b[0m\u001b[1;33m\n",
       "\u001b[0m    \u001b[1;33m@\u001b[0m\u001b[0mforbid_nonstring_types\u001b[0m\u001b[1;33m(\u001b[0m\u001b[1;33m[\u001b[0m\u001b[1;34m\"bytes\"\u001b[0m\u001b[1;33m]\u001b[0m\u001b[1;33m)\u001b[0m\u001b[1;33m\n",
       "\u001b[0m    \u001b[1;32mdef\u001b[0m \u001b[0mrsplit\u001b[0m\u001b[1;33m(\u001b[0m\u001b[0mself\u001b[0m\u001b[1;33m,\u001b[0m \u001b[0mpat\u001b[0m\u001b[1;33m=\u001b[0m\u001b[1;32mNone\u001b[0m\u001b[1;33m,\u001b[0m \u001b[0mn\u001b[0m\u001b[1;33m=\u001b[0m\u001b[1;33m-\u001b[0m\u001b[1;36m1\u001b[0m\u001b[1;33m,\u001b[0m \u001b[0mexpand\u001b[0m\u001b[1;33m=\u001b[0m\u001b[1;32mFalse\u001b[0m\u001b[1;33m)\u001b[0m\u001b[1;33m:\u001b[0m\u001b[1;33m\n",
       "\u001b[0m        \u001b[0mresult\u001b[0m \u001b[1;33m=\u001b[0m \u001b[0mstr_rsplit\u001b[0m\u001b[1;33m(\u001b[0m\u001b[0mself\u001b[0m\u001b[1;33m.\u001b[0m\u001b[0m_parent\u001b[0m\u001b[1;33m,\u001b[0m \u001b[0mpat\u001b[0m\u001b[1;33m,\u001b[0m \u001b[0mn\u001b[0m\u001b[1;33m=\u001b[0m\u001b[0mn\u001b[0m\u001b[1;33m)\u001b[0m\u001b[1;33m\n",
       "\u001b[0m        \u001b[1;32mreturn\u001b[0m \u001b[0mself\u001b[0m\u001b[1;33m.\u001b[0m\u001b[0m_wrap_result\u001b[0m\u001b[1;33m(\u001b[0m\u001b[0mresult\u001b[0m\u001b[1;33m,\u001b[0m \u001b[0mexpand\u001b[0m\u001b[1;33m=\u001b[0m\u001b[0mexpand\u001b[0m\u001b[1;33m,\u001b[0m \u001b[0mreturns_string\u001b[0m\u001b[1;33m=\u001b[0m\u001b[0mexpand\u001b[0m\u001b[1;33m)\u001b[0m\u001b[1;33m\u001b[0m\u001b[1;33m\u001b[0m\u001b[0m\n",
       "\u001b[1;31mFile:\u001b[0m      c:\\programdata\\anaconda3\\lib\\site-packages\\pandas\\core\\strings.py\n",
       "\u001b[1;31mType:\u001b[0m      method\n"
      ]
     },
     "metadata": {},
     "output_type": "display_data"
    }
   ],
   "source": [
    "s.str.rsplit??"
   ]
  },
  {
   "cell_type": "markdown",
   "metadata": {},
   "source": [
    "#### 【问题四】 在本章的第二到第四节分别介绍了字符串类型的5类操作，请思考它们各自应用于什么场景？"
   ]
  },
  {
   "cell_type": "markdown",
   "metadata": {},
   "source": [
    "* 拆分与拼接\n",
    "    * str.split--拆分\n",
    "    * str.cat--拼接\n",
    "* 替换\n",
    "* 子串匹配与提取\n",
    "    * extract--从pandas对象的一列中提取信息成为新的列,例如将手机号码,邮件从文本中提取出来.\n",
    "    * exractall--提取所有能够匹配到的子串,并建立多级索引\n",
    "    * contain--判断包含某个特定格式的子串\n",
    "    * match--字符串以某个特定子串开头\n",
    "* 过滤与判断"
   ]
  },
  {
   "cell_type": "code",
   "execution_count": 473,
   "metadata": {
    "collapsed": true,
    "jupyter": {
     "outputs_hidden": true
    }
   },
   "outputs": [
    {
     "name": "stdout",
     "output_type": "stream",
     "text": [
      "[1]鑲栭箯,褰�鍡ｇ��,鐜嬭暰. 鍩烘湰鍘熷垯涓庡叧閿�闂�棰樷�斺�斿�︽湳鍨嬪浘涔﹂�嗛�嗗憳濡備綍鍚�鍔ㄦ暟瀛椾汉鏂囬」鐩甗J]. 鍥句功棣嗚�哄潧, 2017, 鍗风己澶�(鏈熺己澶�): 20-25.\n",
      "[2]寮犺埖,鍚磋穬浼�. 鍥藉�栧浘涔﹂�嗘敮鎸佹暟瀛椾汉鏂囩殑瀹炶返鍙婂惎绀篬J]. 鍥句功棣嗘潅蹇�, 2014, 鍗风己澶�(鏈熺己澶�): 47-52.\n",
      "[3]鍒樼倻,璋㈣搲,寮犵��,绛�. 闈㈠悜浜烘枃鐮旂┒鐨勫浗瀹舵暟鎹�鍩虹��璁炬柦寤鸿�綶J]. 涓�鍥藉浘涔﹂�嗗�︽姤, 2016, 鍗风己澶�(鏈熺己澶�): 29-39.\n",
      "[4]鍐�鏅�,闄堟儬鍏�. 鍥藉�栧浘涔﹂�嗗弬涓庢暟瀛椾汉鏂囩爺绌惰堪璇刐J]. 鍥句功棣嗘潅蹇�, 2016, 鍗风己澶�(鏈熺己澶�): 14-19.\n",
      "[5]楂樿儨瀵�,璧靛畤缈�,鏈卞簡鍗�. 鍥藉唴澶栨暟瀛椾汉鏂囬�嗗煙鐮旂┒杩涘睍鍒嗘瀽[J]. 鍥句功棣嗘潅蹇�, 2016, 鍗风己澶�(鏈熺己澶�): 9-18.\n",
      "[6]鏇捐暰,鐜嬫檽鍏�,鑼冪倻. 鍥炬。鍗氶�嗗煙鐨勬櫤鎱ф暟鎹�鍙婂叾鍦ㄦ暟瀛椾汉鏂囩爺绌朵腑鐨勮�掕壊[J]. 涓�鍥藉浘涔﹂�嗗�︽姤, 2018, 鍗风己澶�(鏈熺己澶�): 17-34.\n",
      "[7]璧电敓杈�,鏈卞�﹁姵. 鎴戝浗楂樻牎鏁板瓧浜烘枃涓�蹇冨缓璁惧垵鎺�[J]. 鍥句功鎯呮姤宸ヤ綔, 2014, 鍗风己澶�(鏈熺己澶�): 64-69, 100.\n",
      "[8]鐔婅帀鍚�,寮犵�忛槼,寮犵伩. 鍥句功棣嗗湪鏁板瓧浜烘枃棰嗗煙鐨勪紶鎾�鍔熻兘涓庢湇鍔＄爺绌禰J]. 鍥句功棣�, 2016, 鍗风己澶�(鏈熺己澶�): 88-93, 99.\n",
      "[9]閭撹�佺劧,鏉庡皯璐�. 缇庡浗楂樻牎鏁板瓧浜烘枃涓�蹇冭皟鏌�[J]. 鍥句功棣嗚�哄潧, 2016, 鍗风己澶�(鏈熺己澶�): 26-34.\n",
      "[10]鏈辨湰鍐�,鑱傚崕. 璺ㄧ晫涓庤瀺鍚�:鍏ㄧ悆瑙嗛噹涓嬬殑鏁板瓧浜烘枃鈥斺�旈�栧眾鍖椾含澶у�︹�滄暟瀛椾汉鏂囪�哄潧鈥濅細璁�缁艰堪[J]. 澶у�﹀浘涔﹂�嗗�︽姤, 2016, 鍗风己澶�(鏈熺己澶�): 16-21.\n",
      "[11]宸﹀��,寮犲崼涓�. 鏁板瓧浜烘枃瑙嗚�掍笅鐨勬。妗堝�︾爺绌禰J]. 鍥句功涓庢儏鎶�, 2019, 鍗风己澶�(鏈熺己澶�): 94-100.\n",
      "[12]鏈卞��. 鏁板瓧浜烘枃鐨勫叴璧峰強鍥句功棣嗙殑瑙掕壊[J]. 鍥句功棣�, 2016, 鍗风己澶�(鏈熺己澶�): 17-22, 48.\n",
      "[13]鍞愪箰. 鑰堕瞾澶у�﹀浘涔﹂�嗙殑鏁板瓧浜烘枃鏈嶅姟瀹炶返[J]. 鍥句功棣嗚�哄潧, 2018, 鍗风己澶�(鏈熺己澶�): 10-18.\n",
      "[14]鏈辨湰鍐�,鑱傚崕. 鏁板瓧浜烘枃:鍥句功棣嗗疄璺电殑鏂版柟鍚慬J]. 澶у�﹀浘涔﹂�嗗�︽姤, 2017, 鍗风己澶�(鏈熺己澶�): 23-29.\n",
      "[15]鏇惧皬鑾�. 鏁板瓧浜烘枃鑳屾櫙涓嬬殑鍥句功棣�:浣滅敤涓庢湇鍔�[J]. 鍥句功涓庢儏鎶�, 2014, 鍗风己澶�(鏈熺己澶�): 111-113.\n",
      "[16]鏌�骞�,瀹�骞�. 鏁板瓧浜烘枃鐮旂┒婕斿寲璺�寰勪笌鐑�鐐归�嗗煙鍒嗘瀽[J]. 涓�鍥藉浘涔﹂�嗗�︽姤, 2016, 鍗风己澶�(鏈熺己澶�): 13-30.\n",
      "[17]楂樼懢. 鏁板瓧浜烘枃瀛︾�戠粨鏋勭爺绌剁殑鍥為【涓庢帰绱�[J]. 鍥句功棣嗚�哄潧, 2016, 鍗风己澶�(鏈熺己澶�): 1-9.\n",
      "[18]鍒樼倻,鍙堕拱. 鏁板瓧浜烘枃鐨勬妧鏈�浣撶郴涓庣悊璁虹粨鏋勬帰璁╗J]. 涓�鍥藉浘涔﹂�嗗�︽姤, 2017, 鍗风己澶�(鏈熺己澶�): 32-41.\n",
      "[19]鍛ㄦ櫒. 鍥介檯鏁板瓧浜烘枃鐮旂┒鐗瑰緛涓庣煡璇嗙粨鏋刐J]. 鍥句功棣嗚�哄潧, 2017, 鍗风己澶�(鏈熺己澶�): 1-8.\n",
      "[20]鏉ㄦ粙鑽�,鐔婂洖棣�,钂嬪悎棰�. 鍥藉�栧浘涔﹂�嗘敮鎸佹暟瀛椾汉鏂囩爺绌惰繘灞昜J]. 鍥句功鎯呮姤宸ヤ綔, 2016, 鍗风己澶�(鏈熺己澶�): 122-129.\n",
      "\u0000\n"
     ]
    }
   ],
   "source": [
    "# 将文末参考文献按字段整理成表格形式\n",
    "!type data\\导出题录.txt\n",
    "# 中文字符, 需要指定encoding"
   ]
  },
  {
   "cell_type": "code",
   "execution_count": 541,
   "metadata": {},
   "outputs": [
    {
     "name": "stdout",
     "output_type": "stream",
     "text": [
      "[1]肖鹏,彭嗣禹,王蕾. 基本原则与关键问题——学术型图书馆馆员如何启动数字人文项目[J]. 图书馆论坛, 2017, 卷缺失(期缺失): 20-25.\n",
      "[2]张舵,吴跃伟. 国外图书馆支持数字人文的实践及启示[J]. 图书馆杂志, 2014, 卷缺失(期缺失): 47-52.\n",
      "[3]刘炜,谢蓉,张磊,等. 面向人文研究的国家数据基础设施建设[J]. 中国图书馆学报, 2016, 卷缺失(期缺失): 29-39.\n",
      "[4]冯晴,陈惠兰. 国外图书馆参与数字人文研究述评[J]. 图书馆杂志, 2016, 卷缺失(期缺失): 14-19.\n",
      "[5]高胜寒,赵宇翔,朱庆华. 国内外数字人文领域研究进展分析[J]. 图书馆杂志, 2016, 卷缺失(期缺失): 9-18.\n",
      "[6]曾蕾,王晓光,范炜. 图档博领域的智慧数据及其在数字人文研究中的角色[J]. 中国图书馆学报, 2018, 卷缺失(期缺失): 17-34.\n",
      "[7]赵生辉,朱学芳. 我国高校数字人文中心建设初探[J]. 图书情报工作, 2014, 卷缺失(期缺失): 64-69, 100.\n",
      "[8]熊莉君,张福阳,张灿. 图书馆在数字人文领域的传播功能与服务研究[J]. 图书馆, 2016, 卷缺失(期缺失): 88-93, 99.\n",
      "[9]邓要然,李少贞. 美国高校数字人文中心调查[J]. 图书馆论坛, 2016, 卷缺失(期缺失): 26-34.\n",
      "[10]朱本军,聂华. 跨界与融合:全球视野下的数字人文——首届北京大学“数字人文论坛”会议综述[J]. 大学图书馆学报, 2016, 卷缺失(期缺失): 16-21.\n",
      "[11]左娜,张卫东. 数字人文视角下的档案学研究[J]. 图书与情报, 2019, 卷缺失(期缺失): 94-100.\n",
      "[12]朱娜. 数字人文的兴起及图书馆的角色[J]. 图书馆, 2016, 卷缺失(期缺失): 17-22, 48.\n",
      "[13]唐乐. 耶鲁大学图书馆的数字人文服务实践[J]. 图书馆论坛, 2018, 卷缺失(期缺失): 10-18.\n",
      "[14]朱本军,聂华. 数字人文:图书馆实践的新方向[J]. 大学图书馆学报, 2017, 卷缺失(期缺失): 23-29.\n",
      "[15]曾小莹. 数字人文背景下的图书馆:作用与服务[J]. 图书与情报, 2014, 卷缺失(期缺失): 111-113.\n",
      "[16]柯平,宫平. 数字人文研究演化路径与热点领域分析[J]. 中国图书馆学报, 2016, 卷缺失(期缺失): 13-30.\n",
      "[17]高瑾. 数字人文学科结构研究的回顾与探索[J]. 图书馆论坛, 2016, 卷缺失(期缺失): 1-9.\n",
      "[18]刘炜,叶鹰. 数字人文的技术体系与理论结构探讨[J]. 中国图书馆学报, 2017, 卷缺失(期缺失): 32-41.\n",
      "[19]周晨. 国际数字人文研究特征与知识结构[J]. 图书馆论坛, 2017, 卷缺失(期缺失): 1-8.\n",
      "[20]杨滋荣,熊回香,蒋合领. 国外图书馆支持数字人文研究进展[J]. 图书情报工作, 2016, 卷缺失(期缺失): 122-129.\n",
      "\u0000\n"
     ]
    },
    {
     "data": {
      "text/html": [
       "<div>\n",
       "<style scoped>\n",
       "    .dataframe tbody tr th:only-of-type {\n",
       "        vertical-align: middle;\n",
       "    }\n",
       "\n",
       "    .dataframe tbody tr th {\n",
       "        vertical-align: top;\n",
       "    }\n",
       "\n",
       "    .dataframe thead th {\n",
       "        text-align: right;\n",
       "    }\n",
       "</style>\n",
       "<table border=\"1\" class=\"dataframe\">\n",
       "  <thead>\n",
       "    <tr style=\"text-align: right;\">\n",
       "      <th></th>\n",
       "      <th>作者</th>\n",
       "      <th>标题</th>\n",
       "      <th>期刊</th>\n",
       "      <th>年</th>\n",
       "      <th>页码</th>\n",
       "    </tr>\n",
       "  </thead>\n",
       "  <tbody>\n",
       "    <tr>\n",
       "      <th>0</th>\n",
       "      <td>[1]肖鹏,彭嗣禹,王蕾</td>\n",
       "      <td>基本原则与关键问题——学术型图书馆馆员如何启动数字人文项目[J]</td>\n",
       "      <td>图书馆论坛</td>\n",
       "      <td>2017</td>\n",
       "      <td>20-25</td>\n",
       "    </tr>\n",
       "    <tr>\n",
       "      <th>1</th>\n",
       "      <td>[2]张舵,吴跃伟</td>\n",
       "      <td>国外图书馆支持数字人文的实践及启示[J]</td>\n",
       "      <td>图书馆杂志</td>\n",
       "      <td>2014</td>\n",
       "      <td>47-52</td>\n",
       "    </tr>\n",
       "    <tr>\n",
       "      <th>2</th>\n",
       "      <td>[3]刘炜,谢蓉,张磊,等</td>\n",
       "      <td>面向人文研究的国家数据基础设施建设[J]</td>\n",
       "      <td>中国图书馆学报</td>\n",
       "      <td>2016</td>\n",
       "      <td>29-39</td>\n",
       "    </tr>\n",
       "    <tr>\n",
       "      <th>3</th>\n",
       "      <td>[4]冯晴,陈惠兰</td>\n",
       "      <td>国外图书馆参与数字人文研究述评[J]</td>\n",
       "      <td>图书馆杂志</td>\n",
       "      <td>2016</td>\n",
       "      <td>14-19</td>\n",
       "    </tr>\n",
       "    <tr>\n",
       "      <th>4</th>\n",
       "      <td>[5]高胜寒,赵宇翔,朱庆华</td>\n",
       "      <td>国内外数字人文领域研究进展分析[J]</td>\n",
       "      <td>图书馆杂志</td>\n",
       "      <td>2016</td>\n",
       "      <td>9-18</td>\n",
       "    </tr>\n",
       "    <tr>\n",
       "      <th>5</th>\n",
       "      <td>[6]曾蕾,王晓光,范炜</td>\n",
       "      <td>图档博领域的智慧数据及其在数字人文研究中的角色[J]</td>\n",
       "      <td>中国图书馆学报</td>\n",
       "      <td>2018</td>\n",
       "      <td>17-34</td>\n",
       "    </tr>\n",
       "    <tr>\n",
       "      <th>6</th>\n",
       "      <td>[7]赵生辉,朱学芳</td>\n",
       "      <td>我国高校数字人文中心建设初探[J]</td>\n",
       "      <td>图书情报工作</td>\n",
       "      <td>2014</td>\n",
       "      <td>64-69</td>\n",
       "    </tr>\n",
       "    <tr>\n",
       "      <th>7</th>\n",
       "      <td>[8]熊莉君,张福阳,张灿</td>\n",
       "      <td>图书馆在数字人文领域的传播功能与服务研究[J]</td>\n",
       "      <td>图书馆</td>\n",
       "      <td>2016</td>\n",
       "      <td>88-93</td>\n",
       "    </tr>\n",
       "    <tr>\n",
       "      <th>8</th>\n",
       "      <td>[9]邓要然,李少贞</td>\n",
       "      <td>美国高校数字人文中心调查[J]</td>\n",
       "      <td>图书馆论坛</td>\n",
       "      <td>2016</td>\n",
       "      <td>26-34</td>\n",
       "    </tr>\n",
       "    <tr>\n",
       "      <th>9</th>\n",
       "      <td>[10]朱本军,聂华</td>\n",
       "      <td>跨界与融合:全球视野下的数字人文——首届北京大学“数字人文论坛”会议综述[J]</td>\n",
       "      <td>大学图书馆学报</td>\n",
       "      <td>2016</td>\n",
       "      <td>16-21</td>\n",
       "    </tr>\n",
       "    <tr>\n",
       "      <th>10</th>\n",
       "      <td>[11]左娜,张卫东</td>\n",
       "      <td>数字人文视角下的档案学研究[J]</td>\n",
       "      <td>图书与情报</td>\n",
       "      <td>2019</td>\n",
       "      <td>94-100</td>\n",
       "    </tr>\n",
       "    <tr>\n",
       "      <th>11</th>\n",
       "      <td>[12]朱娜</td>\n",
       "      <td>数字人文的兴起及图书馆的角色[J]</td>\n",
       "      <td>图书馆</td>\n",
       "      <td>2016</td>\n",
       "      <td>17-22</td>\n",
       "    </tr>\n",
       "    <tr>\n",
       "      <th>12</th>\n",
       "      <td>[13]唐乐</td>\n",
       "      <td>耶鲁大学图书馆的数字人文服务实践[J]</td>\n",
       "      <td>图书馆论坛</td>\n",
       "      <td>2018</td>\n",
       "      <td>10-18</td>\n",
       "    </tr>\n",
       "    <tr>\n",
       "      <th>13</th>\n",
       "      <td>[14]朱本军,聂华</td>\n",
       "      <td>数字人文:图书馆实践的新方向[J]</td>\n",
       "      <td>大学图书馆学报</td>\n",
       "      <td>2017</td>\n",
       "      <td>23-29</td>\n",
       "    </tr>\n",
       "    <tr>\n",
       "      <th>14</th>\n",
       "      <td>[15]曾小莹</td>\n",
       "      <td>数字人文背景下的图书馆:作用与服务[J]</td>\n",
       "      <td>图书与情报</td>\n",
       "      <td>2014</td>\n",
       "      <td>111-113</td>\n",
       "    </tr>\n",
       "    <tr>\n",
       "      <th>15</th>\n",
       "      <td>[16]柯平,宫平</td>\n",
       "      <td>数字人文研究演化路径与热点领域分析[J]</td>\n",
       "      <td>中国图书馆学报</td>\n",
       "      <td>2016</td>\n",
       "      <td>13-30</td>\n",
       "    </tr>\n",
       "    <tr>\n",
       "      <th>16</th>\n",
       "      <td>[17]高瑾</td>\n",
       "      <td>数字人文学科结构研究的回顾与探索[J]</td>\n",
       "      <td>图书馆论坛</td>\n",
       "      <td>2016</td>\n",
       "      <td>1-9</td>\n",
       "    </tr>\n",
       "    <tr>\n",
       "      <th>17</th>\n",
       "      <td>[18]刘炜,叶鹰</td>\n",
       "      <td>数字人文的技术体系与理论结构探讨[J]</td>\n",
       "      <td>中国图书馆学报</td>\n",
       "      <td>2017</td>\n",
       "      <td>32-41</td>\n",
       "    </tr>\n",
       "    <tr>\n",
       "      <th>18</th>\n",
       "      <td>[19]周晨</td>\n",
       "      <td>国际数字人文研究特征与知识结构[J]</td>\n",
       "      <td>图书馆论坛</td>\n",
       "      <td>2017</td>\n",
       "      <td>1-8</td>\n",
       "    </tr>\n",
       "    <tr>\n",
       "      <th>19</th>\n",
       "      <td>[20]杨滋荣,熊回香,蒋合领</td>\n",
       "      <td>国外图书馆支持数字人文研究进展[J]</td>\n",
       "      <td>图书情报工作</td>\n",
       "      <td>2016</td>\n",
       "      <td>122-129</td>\n",
       "    </tr>\n",
       "  </tbody>\n",
       "</table>\n",
       "</div>"
      ],
      "text/plain": [
       "                 作者                                        标题        期刊  \\\n",
       "0      [1]肖鹏,彭嗣禹,王蕾          基本原则与关键问题——学术型图书馆馆员如何启动数字人文项目[J]     图书馆论坛   \n",
       "1         [2]张舵,吴跃伟                      国外图书馆支持数字人文的实践及启示[J]     图书馆杂志   \n",
       "2     [3]刘炜,谢蓉,张磊,等                      面向人文研究的国家数据基础设施建设[J]   中国图书馆学报   \n",
       "3         [4]冯晴,陈惠兰                        国外图书馆参与数字人文研究述评[J]     图书馆杂志   \n",
       "4    [5]高胜寒,赵宇翔,朱庆华                        国内外数字人文领域研究进展分析[J]     图书馆杂志   \n",
       "5      [6]曾蕾,王晓光,范炜                图档博领域的智慧数据及其在数字人文研究中的角色[J]   中国图书馆学报   \n",
       "6        [7]赵生辉,朱学芳                         我国高校数字人文中心建设初探[J]    图书情报工作   \n",
       "7     [8]熊莉君,张福阳,张灿                   图书馆在数字人文领域的传播功能与服务研究[J]       图书馆   \n",
       "8        [9]邓要然,李少贞                           美国高校数字人文中心调查[J]     图书馆论坛   \n",
       "9        [10]朱本军,聂华   跨界与融合:全球视野下的数字人文——首届北京大学“数字人文论坛”会议综述[J]   大学图书馆学报   \n",
       "10       [11]左娜,张卫东                          数字人文视角下的档案学研究[J]     图书与情报   \n",
       "11           [12]朱娜                         数字人文的兴起及图书馆的角色[J]       图书馆   \n",
       "12           [13]唐乐                       耶鲁大学图书馆的数字人文服务实践[J]     图书馆论坛   \n",
       "13       [14]朱本军,聂华                         数字人文:图书馆实践的新方向[J]   大学图书馆学报   \n",
       "14          [15]曾小莹                      数字人文背景下的图书馆:作用与服务[J]     图书与情报   \n",
       "15        [16]柯平,宫平                      数字人文研究演化路径与热点领域分析[J]   中国图书馆学报   \n",
       "16           [17]高瑾                       数字人文学科结构研究的回顾与探索[J]     图书馆论坛   \n",
       "17        [18]刘炜,叶鹰                       数字人文的技术体系与理论结构探讨[J]   中国图书馆学报   \n",
       "18           [19]周晨                        国际数字人文研究特征与知识结构[J]     图书馆论坛   \n",
       "19  [20]杨滋荣,熊回香,蒋合领                        国外图书馆支持数字人文研究进展[J]    图书情报工作   \n",
       "\n",
       "        年        页码  \n",
       "0    2017     20-25  \n",
       "1    2014     47-52  \n",
       "2    2016     29-39  \n",
       "3    2016     14-19  \n",
       "4    2016      9-18  \n",
       "5    2018     17-34  \n",
       "6    2014     64-69  \n",
       "7    2016     88-93  \n",
       "8    2016     26-34  \n",
       "9    2016     16-21  \n",
       "10   2019    94-100  \n",
       "11   2016     17-22  \n",
       "12   2018     10-18  \n",
       "13   2017     23-29  \n",
       "14   2014   111-113  \n",
       "15   2016     13-30  \n",
       "16   2016       1-9  \n",
       "17   2017     32-41  \n",
       "18   2017       1-8  \n",
       "19   2016   122-129  "
      ]
     },
     "execution_count": 541,
     "metadata": {},
     "output_type": "execute_result"
    }
   ],
   "source": [
    "# 第一步, 指定编码,读取文本\n",
    "ref=open('data\\导出题录.txt',encoding='utf8').read()\n",
    "print(ref)\n",
    "# 第二步,按换行符分割后转为Series对象,以便于使用Series的 .str 类方法\n",
    "refs=pd.Series(ref.split('\\n'))\n",
    "# 第三步,拆分\n",
    "##第一次拆分,使用 .\n",
    "refs=refs.str.split(r'.',expand=True)\n",
    "##第二次拆分,使用 , 将未分拆的列进一步拆分,并与其他列join\n",
    "refs=refs[[0,1]].join(refs[2].str.split(',',expand=True),rsuffix='_')\n",
    "##第三次拆分,选取有用的非空列,将未拆分的列进一步拆分,并于其他有用的列join\n",
    "refs=refs[['0','1','0_','1_']].join(refs[2].str.split(':',expand=True),rsuffix='_')\n",
    "# 第四步,丢掉空行\n",
    "refs=refs[['0','1','0_','1_',1]].dropna()\n",
    "# 第五步,为拆分后的列添加列名\n",
    "refs.columns=['作者','标题','期刊','年','页码']\n",
    "refs"
   ]
  },
  {
   "cell_type": "code",
   "execution_count": 542,
   "metadata": {},
   "outputs": [
    {
     "data": {
      "text/html": [
       "<div>\n",
       "<style scoped>\n",
       "    .dataframe tbody tr th:only-of-type {\n",
       "        vertical-align: middle;\n",
       "    }\n",
       "\n",
       "    .dataframe tbody tr th {\n",
       "        vertical-align: top;\n",
       "    }\n",
       "\n",
       "    .dataframe thead th {\n",
       "        text-align: right;\n",
       "    }\n",
       "</style>\n",
       "<table border=\"1\" class=\"dataframe\">\n",
       "  <thead>\n",
       "    <tr style=\"text-align: right;\">\n",
       "      <th></th>\n",
       "      <th>作者</th>\n",
       "      <th>标题</th>\n",
       "      <th>期刊</th>\n",
       "      <th>年</th>\n",
       "      <th>页码</th>\n",
       "    </tr>\n",
       "  </thead>\n",
       "  <tbody>\n",
       "    <tr>\n",
       "      <th>0</th>\n",
       "      <td>肖鹏,彭嗣禹,王蕾</td>\n",
       "      <td>基本原则与关键问题——学术型图书馆馆员如何启动数字人文项目</td>\n",
       "      <td>图书馆论坛</td>\n",
       "      <td>2017</td>\n",
       "      <td>20-25</td>\n",
       "    </tr>\n",
       "    <tr>\n",
       "      <th>1</th>\n",
       "      <td>张舵,吴跃伟</td>\n",
       "      <td>国外图书馆支持数字人文的实践及启示</td>\n",
       "      <td>图书馆杂志</td>\n",
       "      <td>2014</td>\n",
       "      <td>47-52</td>\n",
       "    </tr>\n",
       "    <tr>\n",
       "      <th>2</th>\n",
       "      <td>刘炜,谢蓉,张磊,等</td>\n",
       "      <td>面向人文研究的国家数据基础设施建设</td>\n",
       "      <td>中国图书馆学报</td>\n",
       "      <td>2016</td>\n",
       "      <td>29-39</td>\n",
       "    </tr>\n",
       "    <tr>\n",
       "      <th>3</th>\n",
       "      <td>冯晴,陈惠兰</td>\n",
       "      <td>国外图书馆参与数字人文研究述评</td>\n",
       "      <td>图书馆杂志</td>\n",
       "      <td>2016</td>\n",
       "      <td>14-19</td>\n",
       "    </tr>\n",
       "    <tr>\n",
       "      <th>4</th>\n",
       "      <td>高胜寒,赵宇翔,朱庆华</td>\n",
       "      <td>国内外数字人文领域研究进展分析</td>\n",
       "      <td>图书馆杂志</td>\n",
       "      <td>2016</td>\n",
       "      <td>9-18</td>\n",
       "    </tr>\n",
       "    <tr>\n",
       "      <th>5</th>\n",
       "      <td>曾蕾,王晓光,范炜</td>\n",
       "      <td>图档博领域的智慧数据及其在数字人文研究中的角色</td>\n",
       "      <td>中国图书馆学报</td>\n",
       "      <td>2018</td>\n",
       "      <td>17-34</td>\n",
       "    </tr>\n",
       "    <tr>\n",
       "      <th>6</th>\n",
       "      <td>赵生辉,朱学芳</td>\n",
       "      <td>我国高校数字人文中心建设初探</td>\n",
       "      <td>图书情报工作</td>\n",
       "      <td>2014</td>\n",
       "      <td>64-69</td>\n",
       "    </tr>\n",
       "    <tr>\n",
       "      <th>7</th>\n",
       "      <td>熊莉君,张福阳,张灿</td>\n",
       "      <td>图书馆在数字人文领域的传播功能与服务研究</td>\n",
       "      <td>图书馆</td>\n",
       "      <td>2016</td>\n",
       "      <td>88-93</td>\n",
       "    </tr>\n",
       "    <tr>\n",
       "      <th>8</th>\n",
       "      <td>邓要然,李少贞</td>\n",
       "      <td>美国高校数字人文中心调查</td>\n",
       "      <td>图书馆论坛</td>\n",
       "      <td>2016</td>\n",
       "      <td>26-34</td>\n",
       "    </tr>\n",
       "    <tr>\n",
       "      <th>9</th>\n",
       "      <td>朱本军,聂华</td>\n",
       "      <td>跨界与融合:全球视野下的数字人文——首届北京大学“数字人文论坛”会议综述</td>\n",
       "      <td>大学图书馆学报</td>\n",
       "      <td>2016</td>\n",
       "      <td>16-21</td>\n",
       "    </tr>\n",
       "    <tr>\n",
       "      <th>10</th>\n",
       "      <td>左娜,张卫东</td>\n",
       "      <td>数字人文视角下的档案学研究</td>\n",
       "      <td>图书与情报</td>\n",
       "      <td>2019</td>\n",
       "      <td>94-100</td>\n",
       "    </tr>\n",
       "    <tr>\n",
       "      <th>11</th>\n",
       "      <td>朱娜</td>\n",
       "      <td>数字人文的兴起及图书馆的角色</td>\n",
       "      <td>图书馆</td>\n",
       "      <td>2016</td>\n",
       "      <td>17-22</td>\n",
       "    </tr>\n",
       "    <tr>\n",
       "      <th>12</th>\n",
       "      <td>唐乐</td>\n",
       "      <td>耶鲁大学图书馆的数字人文服务实践</td>\n",
       "      <td>图书馆论坛</td>\n",
       "      <td>2018</td>\n",
       "      <td>10-18</td>\n",
       "    </tr>\n",
       "    <tr>\n",
       "      <th>13</th>\n",
       "      <td>朱本军,聂华</td>\n",
       "      <td>数字人文:图书馆实践的新方向</td>\n",
       "      <td>大学图书馆学报</td>\n",
       "      <td>2017</td>\n",
       "      <td>23-29</td>\n",
       "    </tr>\n",
       "    <tr>\n",
       "      <th>14</th>\n",
       "      <td>曾小莹</td>\n",
       "      <td>数字人文背景下的图书馆:作用与服务</td>\n",
       "      <td>图书与情报</td>\n",
       "      <td>2014</td>\n",
       "      <td>111-113</td>\n",
       "    </tr>\n",
       "    <tr>\n",
       "      <th>15</th>\n",
       "      <td>柯平,宫平</td>\n",
       "      <td>数字人文研究演化路径与热点领域分析</td>\n",
       "      <td>中国图书馆学报</td>\n",
       "      <td>2016</td>\n",
       "      <td>13-30</td>\n",
       "    </tr>\n",
       "    <tr>\n",
       "      <th>16</th>\n",
       "      <td>高瑾</td>\n",
       "      <td>数字人文学科结构研究的回顾与探索</td>\n",
       "      <td>图书馆论坛</td>\n",
       "      <td>2016</td>\n",
       "      <td>1-9</td>\n",
       "    </tr>\n",
       "    <tr>\n",
       "      <th>17</th>\n",
       "      <td>刘炜,叶鹰</td>\n",
       "      <td>数字人文的技术体系与理论结构探讨</td>\n",
       "      <td>中国图书馆学报</td>\n",
       "      <td>2017</td>\n",
       "      <td>32-41</td>\n",
       "    </tr>\n",
       "    <tr>\n",
       "      <th>18</th>\n",
       "      <td>周晨</td>\n",
       "      <td>国际数字人文研究特征与知识结构</td>\n",
       "      <td>图书馆论坛</td>\n",
       "      <td>2017</td>\n",
       "      <td>1-8</td>\n",
       "    </tr>\n",
       "    <tr>\n",
       "      <th>19</th>\n",
       "      <td>杨滋荣,熊回香,蒋合领</td>\n",
       "      <td>国外图书馆支持数字人文研究进展</td>\n",
       "      <td>图书情报工作</td>\n",
       "      <td>2016</td>\n",
       "      <td>122-129</td>\n",
       "    </tr>\n",
       "  </tbody>\n",
       "</table>\n",
       "</div>"
      ],
      "text/plain": [
       "             作者                                     标题        期刊      年  \\\n",
       "0     肖鹏,彭嗣禹,王蕾          基本原则与关键问题——学术型图书馆馆员如何启动数字人文项目     图书馆论坛   2017   \n",
       "1        张舵,吴跃伟                      国外图书馆支持数字人文的实践及启示     图书馆杂志   2014   \n",
       "2    刘炜,谢蓉,张磊,等                      面向人文研究的国家数据基础设施建设   中国图书馆学报   2016   \n",
       "3        冯晴,陈惠兰                        国外图书馆参与数字人文研究述评     图书馆杂志   2016   \n",
       "4   高胜寒,赵宇翔,朱庆华                        国内外数字人文领域研究进展分析     图书馆杂志   2016   \n",
       "5     曾蕾,王晓光,范炜                图档博领域的智慧数据及其在数字人文研究中的角色   中国图书馆学报   2018   \n",
       "6       赵生辉,朱学芳                         我国高校数字人文中心建设初探    图书情报工作   2014   \n",
       "7    熊莉君,张福阳,张灿                   图书馆在数字人文领域的传播功能与服务研究       图书馆   2016   \n",
       "8       邓要然,李少贞                           美国高校数字人文中心调查     图书馆论坛   2016   \n",
       "9        朱本军,聂华   跨界与融合:全球视野下的数字人文——首届北京大学“数字人文论坛”会议综述   大学图书馆学报   2016   \n",
       "10       左娜,张卫东                          数字人文视角下的档案学研究     图书与情报   2019   \n",
       "11           朱娜                         数字人文的兴起及图书馆的角色       图书馆   2016   \n",
       "12           唐乐                       耶鲁大学图书馆的数字人文服务实践     图书馆论坛   2018   \n",
       "13       朱本军,聂华                         数字人文:图书馆实践的新方向   大学图书馆学报   2017   \n",
       "14          曾小莹                      数字人文背景下的图书馆:作用与服务     图书与情报   2014   \n",
       "15        柯平,宫平                      数字人文研究演化路径与热点领域分析   中国图书馆学报   2016   \n",
       "16           高瑾                       数字人文学科结构研究的回顾与探索     图书馆论坛   2016   \n",
       "17        刘炜,叶鹰                       数字人文的技术体系与理论结构探讨   中国图书馆学报   2017   \n",
       "18           周晨                        国际数字人文研究特征与知识结构     图书馆论坛   2017   \n",
       "19  杨滋荣,熊回香,蒋合领                        国外图书馆支持数字人文研究进展    图书情报工作   2016   \n",
       "\n",
       "          页码  \n",
       "0      20-25  \n",
       "1      47-52  \n",
       "2      29-39  \n",
       "3      14-19  \n",
       "4       9-18  \n",
       "5      17-34  \n",
       "6      64-69  \n",
       "7      88-93  \n",
       "8      26-34  \n",
       "9      16-21  \n",
       "10    94-100  \n",
       "11     17-22  \n",
       "12     10-18  \n",
       "13     23-29  \n",
       "14   111-113  \n",
       "15     13-30  \n",
       "16       1-9  \n",
       "17     32-41  \n",
       "18       1-8  \n",
       "19   122-129  "
      ]
     },
     "execution_count": 542,
     "metadata": {},
     "output_type": "execute_result"
    }
   ],
   "source": [
    "# 再使用 srt.replace 方法将各列里无关的信息用正则表达式替换掉--作者\n",
    "refs.作者=refs.作者.str.replace(r'\\[\\d+\\]','')\n",
    "refs\n",
    "refs.标题=refs.标题.str.replace(r'\\[J\\]','')\n",
    "refs"
   ]
  },
  {
   "cell_type": "code",
   "execution_count": 545,
   "metadata": {},
   "outputs": [
    {
     "data": {
      "text/html": [
       "<div>\n",
       "<style scoped>\n",
       "    .dataframe tbody tr th:only-of-type {\n",
       "        vertical-align: middle;\n",
       "    }\n",
       "\n",
       "    .dataframe tbody tr th {\n",
       "        vertical-align: top;\n",
       "    }\n",
       "\n",
       "    .dataframe thead th {\n",
       "        text-align: right;\n",
       "    }\n",
       "</style>\n",
       "<table border=\"1\" class=\"dataframe\">\n",
       "  <thead>\n",
       "    <tr style=\"text-align: right;\">\n",
       "      <th></th>\n",
       "      <th>index</th>\n",
       "      <th>作者</th>\n",
       "      <th>标题</th>\n",
       "      <th>期刊</th>\n",
       "      <th>年</th>\n",
       "      <th>页码</th>\n",
       "    </tr>\n",
       "  </thead>\n",
       "  <tbody>\n",
       "    <tr>\n",
       "      <th>0</th>\n",
       "      <td>0</td>\n",
       "      <td>肖鹏,彭嗣禹,王蕾</td>\n",
       "      <td>基本原则与关键问题——学术型图书馆馆员如何启动数字人文项目</td>\n",
       "      <td>图书馆论坛</td>\n",
       "      <td>2017</td>\n",
       "      <td>20-25</td>\n",
       "    </tr>\n",
       "    <tr>\n",
       "      <th>1</th>\n",
       "      <td>1</td>\n",
       "      <td>张舵,吴跃伟</td>\n",
       "      <td>国外图书馆支持数字人文的实践及启示</td>\n",
       "      <td>图书馆杂志</td>\n",
       "      <td>2014</td>\n",
       "      <td>47-52</td>\n",
       "    </tr>\n",
       "    <tr>\n",
       "      <th>2</th>\n",
       "      <td>2</td>\n",
       "      <td>刘炜,谢蓉,张磊,等</td>\n",
       "      <td>面向人文研究的国家数据基础设施建设</td>\n",
       "      <td>中国图书馆学报</td>\n",
       "      <td>2016</td>\n",
       "      <td>29-39</td>\n",
       "    </tr>\n",
       "    <tr>\n",
       "      <th>3</th>\n",
       "      <td>3</td>\n",
       "      <td>冯晴,陈惠兰</td>\n",
       "      <td>国外图书馆参与数字人文研究述评</td>\n",
       "      <td>图书馆杂志</td>\n",
       "      <td>2016</td>\n",
       "      <td>14-19</td>\n",
       "    </tr>\n",
       "    <tr>\n",
       "      <th>4</th>\n",
       "      <td>4</td>\n",
       "      <td>高胜寒,赵宇翔,朱庆华</td>\n",
       "      <td>国内外数字人文领域研究进展分析</td>\n",
       "      <td>图书馆杂志</td>\n",
       "      <td>2016</td>\n",
       "      <td>9-18</td>\n",
       "    </tr>\n",
       "  </tbody>\n",
       "</table>\n",
       "</div>"
      ],
      "text/plain": [
       "   index           作者                              标题        期刊      年      页码\n",
       "0      0    肖鹏,彭嗣禹,王蕾   基本原则与关键问题——学术型图书馆馆员如何启动数字人文项目     图书馆论坛   2017   20-25\n",
       "1      1       张舵,吴跃伟               国外图书馆支持数字人文的实践及启示     图书馆杂志   2014   47-52\n",
       "2      2   刘炜,谢蓉,张磊,等               面向人文研究的国家数据基础设施建设   中国图书馆学报   2016   29-39\n",
       "3      3       冯晴,陈惠兰                 国外图书馆参与数字人文研究述评     图书馆杂志   2016   14-19\n",
       "4      4  高胜寒,赵宇翔,朱庆华                 国内外数字人文领域研究进展分析     图书馆杂志   2016    9-18"
      ]
     },
     "execution_count": 545,
     "metadata": {},
     "output_type": "execute_result"
    }
   ],
   "source": [
    "# 再拼接成参考文献样式\n",
    "refs=refs.reset_index()\n",
    "refs.head()"
   ]
  },
  {
   "cell_type": "code",
   "execution_count": 568,
   "metadata": {},
   "outputs": [
    {
     "data": {
      "text/plain": [
       "['[0] 肖鹏,彭嗣禹,王蕾.  基本原则与关键问题——学术型图书馆馆员如何启动数字人文项目[J].  图书馆论坛,  2017:  20-25',\n",
       " '[1] 张舵,吴跃伟.  国外图书馆支持数字人文的实践及启示[J].  图书馆杂志,  2014:  47-52',\n",
       " '[2] 刘炜,谢蓉,张磊,等.  面向人文研究的国家数据基础设施建设[J].  中国图书馆学报,  2016:  29-39',\n",
       " '[3] 冯晴,陈惠兰.  国外图书馆参与数字人文研究述评[J].  图书馆杂志,  2016:  14-19',\n",
       " '[4] 高胜寒,赵宇翔,朱庆华.  国内外数字人文领域研究进展分析[J].  图书馆杂志,  2016:  9-18',\n",
       " '[5] 曾蕾,王晓光,范炜.  图档博领域的智慧数据及其在数字人文研究中的角色[J].  中国图书馆学报,  2018:  17-34',\n",
       " '[6] 赵生辉,朱学芳.  我国高校数字人文中心建设初探[J].  图书情报工作,  2014:  64-69',\n",
       " '[7] 熊莉君,张福阳,张灿.  图书馆在数字人文领域的传播功能与服务研究[J].  图书馆,  2016:  88-93',\n",
       " '[8] 邓要然,李少贞.  美国高校数字人文中心调查[J].  图书馆论坛,  2016:  26-34',\n",
       " '[9] 朱本军,聂华.  跨界与融合:全球视野下的数字人文——首届北京大学“数字人文论坛”会议综述[J].  大学图书馆学报,  2016:  16-21',\n",
       " '[10] 左娜,张卫东.  数字人文视角下的档案学研究[J].  图书与情报,  2019:  94-100',\n",
       " '[11] 朱娜.  数字人文的兴起及图书馆的角色[J].  图书馆,  2016:  17-22',\n",
       " '[12] 唐乐.  耶鲁大学图书馆的数字人文服务实践[J].  图书馆论坛,  2018:  10-18',\n",
       " '[13] 朱本军,聂华.  数字人文:图书馆实践的新方向[J].  大学图书馆学报,  2017:  23-29',\n",
       " '[14] 曾小莹.  数字人文背景下的图书馆:作用与服务[J].  图书与情报,  2014:  111-113',\n",
       " '[15] 柯平,宫平.  数字人文研究演化路径与热点领域分析[J].  中国图书馆学报,  2016:  13-30',\n",
       " '[16] 高瑾.  数字人文学科结构研究的回顾与探索[J].  图书馆论坛,  2016:  1-9',\n",
       " '[17] 刘炜,叶鹰.  数字人文的技术体系与理论结构探讨[J].  中国图书馆学报,  2017:  32-41',\n",
       " '[18] 周晨.  国际数字人文研究特征与知识结构[J].  图书馆论坛,  2017:  1-8',\n",
       " '[19] 杨滋荣,熊回香,蒋合领.  国外图书馆支持数字人文研究进展[J].  图书情报工作,  2016:  122-129']"
      ]
     },
     "execution_count": 568,
     "metadata": {},
     "output_type": "execute_result"
    }
   ],
   "source": [
    "# [1]肖鹏,彭嗣禹,王蕾. 基本原则与关键问题——学术型图书馆馆员如何启动数字人文项目[J]. 图书馆论坛, 2017, 卷缺失(期缺失): 20-25.\n",
    "pd.Series('[',index=refs.index).str.cat(refs['index'].astype('str')).str.cat(refs.作者, sep='] ').str.cat(refs.标题,sep='. ').str.cat(refs.期刊,sep='[J]. ').str.cat(refs.年,sep=', ').str.cat(refs.页码,sep=': ').to_list()"
   ]
  },
  {
   "cell_type": "code",
   "execution_count": null,
   "metadata": {},
   "outputs": [],
   "source": [
    "# 一些问题: 编号应该从1开始;卷期缺失需加进去;结尾应该再加一个'.';"
   ]
  },
  {
   "cell_type": "code",
   "execution_count": null,
   "metadata": {},
   "outputs": [],
   "source": []
  },
  {
   "cell_type": "markdown",
   "metadata": {},
   "source": [
    "### 2. 练习\n",
    "#### 【练习一】 现有一份关于字符串的数据集，请解决以下问题：\n",
    "#### （a）现对字符串编码存储人员信息（在编号后添加ID列），使用如下格式：“×××（名字）：×国人，性别×，生于×年×月×日”\n",
    "#### （b）将（a）中的人员生日信息部分修改为用中文表示（如一九七四年十月二十三日），其余返回格式不变。\n",
    "#### （c）将（b）中的ID列结果拆分为原列表相应的5列，并使用equals检验是否一致。"
   ]
  },
  {
   "cell_type": "code",
   "execution_count": 59,
   "metadata": {},
   "outputs": [
    {
     "data": {
      "text/html": [
       "<div>\n",
       "<style scoped>\n",
       "    .dataframe tbody tr th:only-of-type {\n",
       "        vertical-align: middle;\n",
       "    }\n",
       "\n",
       "    .dataframe tbody tr th {\n",
       "        vertical-align: top;\n",
       "    }\n",
       "\n",
       "    .dataframe thead th {\n",
       "        text-align: right;\n",
       "    }\n",
       "</style>\n",
       "<table border=\"1\" class=\"dataframe\">\n",
       "  <thead>\n",
       "    <tr style=\"text-align: right;\">\n",
       "      <th></th>\n",
       "      <th>姓名</th>\n",
       "      <th>国籍</th>\n",
       "      <th>性别</th>\n",
       "      <th>出生年</th>\n",
       "      <th>出生月</th>\n",
       "      <th>出生日</th>\n",
       "    </tr>\n",
       "    <tr>\n",
       "      <th>人员编号</th>\n",
       "      <th></th>\n",
       "      <th></th>\n",
       "      <th></th>\n",
       "      <th></th>\n",
       "      <th></th>\n",
       "      <th></th>\n",
       "    </tr>\n",
       "  </thead>\n",
       "  <tbody>\n",
       "    <tr>\n",
       "      <th>1</th>\n",
       "      <td>aesfd</td>\n",
       "      <td>2</td>\n",
       "      <td>男</td>\n",
       "      <td>1942</td>\n",
       "      <td>8</td>\n",
       "      <td>10</td>\n",
       "    </tr>\n",
       "    <tr>\n",
       "      <th>2</th>\n",
       "      <td>fasefa</td>\n",
       "      <td>5</td>\n",
       "      <td>女</td>\n",
       "      <td>1985</td>\n",
       "      <td>10</td>\n",
       "      <td>4</td>\n",
       "    </tr>\n",
       "    <tr>\n",
       "      <th>3</th>\n",
       "      <td>aeagd</td>\n",
       "      <td>4</td>\n",
       "      <td>女</td>\n",
       "      <td>1946</td>\n",
       "      <td>10</td>\n",
       "      <td>15</td>\n",
       "    </tr>\n",
       "    <tr>\n",
       "      <th>4</th>\n",
       "      <td>aef</td>\n",
       "      <td>4</td>\n",
       "      <td>男</td>\n",
       "      <td>1999</td>\n",
       "      <td>5</td>\n",
       "      <td>13</td>\n",
       "    </tr>\n",
       "    <tr>\n",
       "      <th>5</th>\n",
       "      <td>eaf</td>\n",
       "      <td>1</td>\n",
       "      <td>女</td>\n",
       "      <td>2010</td>\n",
       "      <td>6</td>\n",
       "      <td>24</td>\n",
       "    </tr>\n",
       "  </tbody>\n",
       "</table>\n",
       "</div>"
      ],
      "text/plain": [
       "          姓名  国籍 性别   出生年  出生月  出生日\n",
       "人员编号                               \n",
       "1      aesfd   2  男  1942    8   10\n",
       "2     fasefa   5  女  1985   10    4\n",
       "3      aeagd   4  女  1946   10   15\n",
       "4        aef   4  男  1999    5   13\n",
       "5        eaf   1  女  2010    6   24"
      ]
     },
     "execution_count": 59,
     "metadata": {},
     "output_type": "execute_result"
    }
   ],
   "source": [
    "pd.read_csv('data/String_data_one.csv',index_col='人员编号').head()"
   ]
  },
  {
   "cell_type": "code",
   "execution_count": 575,
   "metadata": {},
   "outputs": [
    {
     "data": {
      "text/html": [
       "<div>\n",
       "<style scoped>\n",
       "    .dataframe tbody tr th:only-of-type {\n",
       "        vertical-align: middle;\n",
       "    }\n",
       "\n",
       "    .dataframe tbody tr th {\n",
       "        vertical-align: top;\n",
       "    }\n",
       "\n",
       "    .dataframe thead th {\n",
       "        text-align: right;\n",
       "    }\n",
       "</style>\n",
       "<table border=\"1\" class=\"dataframe\">\n",
       "  <thead>\n",
       "    <tr style=\"text-align: right;\">\n",
       "      <th></th>\n",
       "      <th>姓名</th>\n",
       "      <th>国籍</th>\n",
       "      <th>性别</th>\n",
       "      <th>出生年</th>\n",
       "      <th>出生月</th>\n",
       "      <th>出生日</th>\n",
       "    </tr>\n",
       "    <tr>\n",
       "      <th>人员编号</th>\n",
       "      <th></th>\n",
       "      <th></th>\n",
       "      <th></th>\n",
       "      <th></th>\n",
       "      <th></th>\n",
       "      <th></th>\n",
       "    </tr>\n",
       "  </thead>\n",
       "  <tbody>\n",
       "    <tr>\n",
       "      <th>1</th>\n",
       "      <td>aesfd</td>\n",
       "      <td>2</td>\n",
       "      <td>男</td>\n",
       "      <td>1942</td>\n",
       "      <td>8</td>\n",
       "      <td>10</td>\n",
       "    </tr>\n",
       "    <tr>\n",
       "      <th>2</th>\n",
       "      <td>fasefa</td>\n",
       "      <td>5</td>\n",
       "      <td>女</td>\n",
       "      <td>1985</td>\n",
       "      <td>10</td>\n",
       "      <td>4</td>\n",
       "    </tr>\n",
       "    <tr>\n",
       "      <th>3</th>\n",
       "      <td>aeagd</td>\n",
       "      <td>4</td>\n",
       "      <td>女</td>\n",
       "      <td>1946</td>\n",
       "      <td>10</td>\n",
       "      <td>15</td>\n",
       "    </tr>\n",
       "    <tr>\n",
       "      <th>4</th>\n",
       "      <td>aef</td>\n",
       "      <td>4</td>\n",
       "      <td>男</td>\n",
       "      <td>1999</td>\n",
       "      <td>5</td>\n",
       "      <td>13</td>\n",
       "    </tr>\n",
       "    <tr>\n",
       "      <th>5</th>\n",
       "      <td>eaf</td>\n",
       "      <td>1</td>\n",
       "      <td>女</td>\n",
       "      <td>2010</td>\n",
       "      <td>6</td>\n",
       "      <td>24</td>\n",
       "    </tr>\n",
       "  </tbody>\n",
       "</table>\n",
       "</div>"
      ],
      "text/plain": [
       "          姓名  国籍 性别   出生年  出生月  出生日\n",
       "人员编号                               \n",
       "1      aesfd   2  男  1942    8   10\n",
       "2     fasefa   5  女  1985   10    4\n",
       "3      aeagd   4  女  1946   10   15\n",
       "4        aef   4  男  1999    5   13\n",
       "5        eaf   1  女  2010    6   24"
      ]
     },
     "execution_count": 575,
     "metadata": {},
     "output_type": "execute_result"
    }
   ],
   "source": [
    "df1=pd.read_csv('data/String_data_one.csv',index_col='人员编号')#.reset_index()\n",
    "df1.head()"
   ]
  },
  {
   "cell_type": "code",
   "execution_count": 574,
   "metadata": {
    "jupyter": {
     "source_hidden": true
    }
   },
   "outputs": [],
   "source": [
    "#for col in df1.columns[1:2]:\n",
    "#    display(df1[col].str.cat(df1.人员编号.astype('str')))"
   ]
  },
  {
   "cell_type": "code",
   "execution_count": 586,
   "metadata": {},
   "outputs": [],
   "source": [
    "df1['ID']=df1.姓名.str.cat(pd.Series('(名字)',index=df1.index)).str.cat(df1.国籍.astype('str'),sep=':').str.cat(df1.性别,sep='国人,性别').str.cat(df1.出生年.astype('str'),sep=',生于').str.cat(df1.出生月.astype('str'),sep='年').str.cat(df1.出生日.astype('str'),sep='月').str.cat(pd.Series('日',index=df1.index))"
   ]
  },
  {
   "cell_type": "code",
   "execution_count": 589,
   "metadata": {},
   "outputs": [
    {
     "data": {
      "text/plain": [
       "人员编号\n",
       "1     aesfd(名字):2国人,性别男,生于1942年8月10日\n",
       "2    fasefa(名字):5国人,性别女,生于1985年10月4日\n",
       "3    aeagd(名字):4国人,性别女,生于1946年10月15日\n",
       "4       aef(名字):4国人,性别男,生于1999年5月13日\n",
       "5       eaf(名字):1国人,性别女,生于2010年6月24日\n",
       "Name: ID, dtype: object"
      ]
     },
     "execution_count": 589,
     "metadata": {},
     "output_type": "execute_result"
    }
   ],
   "source": [
    "df1['ID'].head()"
   ]
  },
  {
   "cell_type": "code",
   "execution_count": 616,
   "metadata": {},
   "outputs": [
    {
     "data": {
      "text/plain": [
       "人员编号\n",
       "1       1\n",
       "2       1\n",
       "3       1\n",
       "4       1\n",
       "5       2\n",
       "       ..\n",
       "1996    1\n",
       "1997    1\n",
       "1998    2\n",
       "1999    2\n",
       "2000    1\n",
       "Name: 出生年, Length: 2000, dtype: object"
      ]
     },
     "execution_count": 616,
     "metadata": {},
     "output_type": "execute_result"
    }
   ],
   "source": [
    "df1.出生年.apply(lambda x:list(str(x))).str[0]#.replace('','一')"
   ]
  },
  {
   "cell_type": "code",
   "execution_count": 617,
   "metadata": {},
   "outputs": [],
   "source": [
    "num2c={'1':'一','2':'二','3':'三','4':'四','5':'五','6':'六','7':'七','8':'八','9':'九','0':'零'}"
   ]
  },
  {
   "cell_type": "code",
   "execution_count": 631,
   "metadata": {},
   "outputs": [
    {
     "name": "stdout",
     "output_type": "stream",
     "text": [
      "Object `extract` not found.\n"
     ]
    }
   ],
   "source": [
    "df1.出生年.extract"
   ]
  },
  {
   "cell_type": "code",
   "execution_count": 641,
   "metadata": {},
   "outputs": [
    {
     "data": {
      "text/plain": [
       "人员编号\n",
       "1       一九四二\n",
       "2       一九八五\n",
       "3       一九四六\n",
       "4       一九九九\n",
       "5       二零一零\n",
       "        ... \n",
       "1996    一九八四\n",
       "1997    一九四三\n",
       "1998    二零一八\n",
       "1999    二零零五\n",
       "2000    一九六二\n",
       "Name: 出生年, Length: 2000, dtype: object"
      ]
     },
     "execution_count": 641,
     "metadata": {},
     "output_type": "execute_result"
    }
   ],
   "source": [
    "df1.出生年=df1.出生年.astype('str').str.replace(r'(\\d)(\\d)(\\d)(\\d)',lambda x:x.group(1)).replace(num2c).str.cat(df1.出生年.astype('str').str.replace(r'(\\d)(\\d)(\\d)(\\d)',lambda x:x.group(2)).replace(num2c)).str.cat(df1.出生年.astype('str').str.replace(r'(\\d)(\\d)(\\d)(\\d)',lambda x:x.group(3)).replace(num2c)).str.cat(df1.出生年.astype('str').str.replace(r'(\\d)(\\d)(\\d)(\\d)',lambda x:x.group(4)).replace(num2c))\n",
    "df1.出生年"
   ]
  },
  {
   "cell_type": "code",
   "execution_count": 734,
   "metadata": {},
   "outputs": [
    {
     "data": {
      "text/html": [
       "<div>\n",
       "<style scoped>\n",
       "    .dataframe tbody tr th:only-of-type {\n",
       "        vertical-align: middle;\n",
       "    }\n",
       "\n",
       "    .dataframe tbody tr th {\n",
       "        vertical-align: top;\n",
       "    }\n",
       "\n",
       "    .dataframe thead th {\n",
       "        text-align: right;\n",
       "    }\n",
       "</style>\n",
       "<table border=\"1\" class=\"dataframe\">\n",
       "  <thead>\n",
       "    <tr style=\"text-align: right;\">\n",
       "      <th></th>\n",
       "      <th>姓名</th>\n",
       "      <th>国籍</th>\n",
       "      <th>性别</th>\n",
       "      <th>出生年</th>\n",
       "      <th>出生月</th>\n",
       "      <th>出生日</th>\n",
       "    </tr>\n",
       "    <tr>\n",
       "      <th>人员编号</th>\n",
       "      <th></th>\n",
       "      <th></th>\n",
       "      <th></th>\n",
       "      <th></th>\n",
       "      <th></th>\n",
       "      <th></th>\n",
       "    </tr>\n",
       "  </thead>\n",
       "  <tbody>\n",
       "    <tr>\n",
       "      <th>1</th>\n",
       "      <td>aesfd</td>\n",
       "      <td>2</td>\n",
       "      <td>男</td>\n",
       "      <td>1942</td>\n",
       "      <td>8</td>\n",
       "      <td>10</td>\n",
       "    </tr>\n",
       "    <tr>\n",
       "      <th>2</th>\n",
       "      <td>fasefa</td>\n",
       "      <td>5</td>\n",
       "      <td>女</td>\n",
       "      <td>1985</td>\n",
       "      <td>10</td>\n",
       "      <td>4</td>\n",
       "    </tr>\n",
       "    <tr>\n",
       "      <th>3</th>\n",
       "      <td>aeagd</td>\n",
       "      <td>4</td>\n",
       "      <td>女</td>\n",
       "      <td>1946</td>\n",
       "      <td>10</td>\n",
       "      <td>15</td>\n",
       "    </tr>\n",
       "    <tr>\n",
       "      <th>4</th>\n",
       "      <td>aef</td>\n",
       "      <td>4</td>\n",
       "      <td>男</td>\n",
       "      <td>1999</td>\n",
       "      <td>5</td>\n",
       "      <td>13</td>\n",
       "    </tr>\n",
       "    <tr>\n",
       "      <th>5</th>\n",
       "      <td>eaf</td>\n",
       "      <td>1</td>\n",
       "      <td>女</td>\n",
       "      <td>2010</td>\n",
       "      <td>6</td>\n",
       "      <td>24</td>\n",
       "    </tr>\n",
       "    <tr>\n",
       "      <th>...</th>\n",
       "      <td>...</td>\n",
       "      <td>...</td>\n",
       "      <td>...</td>\n",
       "      <td>...</td>\n",
       "      <td>...</td>\n",
       "      <td>...</td>\n",
       "    </tr>\n",
       "    <tr>\n",
       "      <th>1996</th>\n",
       "      <td>sdf</td>\n",
       "      <td>5</td>\n",
       "      <td>男</td>\n",
       "      <td>1984</td>\n",
       "      <td>4</td>\n",
       "      <td>17</td>\n",
       "    </tr>\n",
       "    <tr>\n",
       "      <th>1997</th>\n",
       "      <td>hx</td>\n",
       "      <td>1</td>\n",
       "      <td>男</td>\n",
       "      <td>1943</td>\n",
       "      <td>7</td>\n",
       "      <td>16</td>\n",
       "    </tr>\n",
       "    <tr>\n",
       "      <th>1998</th>\n",
       "      <td>drg</td>\n",
       "      <td>5</td>\n",
       "      <td>女</td>\n",
       "      <td>2018</td>\n",
       "      <td>4</td>\n",
       "      <td>6</td>\n",
       "    </tr>\n",
       "    <tr>\n",
       "      <th>1999</th>\n",
       "      <td>zfgzdrg</td>\n",
       "      <td>5</td>\n",
       "      <td>男</td>\n",
       "      <td>2005</td>\n",
       "      <td>1</td>\n",
       "      <td>3</td>\n",
       "    </tr>\n",
       "    <tr>\n",
       "      <th>2000</th>\n",
       "      <td>fsdf</td>\n",
       "      <td>3</td>\n",
       "      <td>女</td>\n",
       "      <td>1962</td>\n",
       "      <td>7</td>\n",
       "      <td>23</td>\n",
       "    </tr>\n",
       "  </tbody>\n",
       "</table>\n",
       "<p>2000 rows × 6 columns</p>\n",
       "</div>"
      ],
      "text/plain": [
       "           姓名 国籍 性别   出生年 出生月 出生日\n",
       "人员编号                             \n",
       "1       aesfd  2  男  1942   8  10\n",
       "2      fasefa  5  女  1985  10   4\n",
       "3       aeagd  4  女  1946  10  15\n",
       "4         aef  4  男  1999   5  13\n",
       "5         eaf  1  女  2010   6  24\n",
       "...       ... .. ..   ...  ..  ..\n",
       "1996      sdf  5  男  1984   4  17\n",
       "1997       hx  1  男  1943   7  16\n",
       "1998      drg  5  女  2018   4   6\n",
       "1999  zfgzdrg  5  男  2005   1   3\n",
       "2000     fsdf  3  女  1962   7  23\n",
       "\n",
       "[2000 rows x 6 columns]"
      ]
     },
     "execution_count": 734,
     "metadata": {},
     "output_type": "execute_result"
    }
   ],
   "source": [
    "df11=df1['ID'].str.split(r'\\(名字\\)\\:',expand=True)\n",
    "df11=df11.iloc[:,0].to_frame().join(df11[1].str.split('国人,性别',expand=True),rsuffix='_')\n",
    "df11=df11.iloc[:,:2].join(df11[1].str.split(',生于',expand=True),rsuffix='_')\n",
    "df11=df11.iloc[:,:3].join(df11[1].str.split('年',expand=True),rsuffix='_')\n",
    "df11=df11.iloc[:,:4].join(df11[1].str.split('月',expand=True),rsuffix='_')\n",
    "df11=df11.iloc[:,:5].join(df11[1].str.split('日',expand=True),rsuffix='_')\n",
    "df11=df11.iloc[:,:6]\n",
    "\n",
    "df11.columns=df1.columns[:6]\n",
    "df11"
   ]
  },
  {
   "cell_type": "code",
   "execution_count": 740,
   "metadata": {},
   "outputs": [
    {
     "data": {
      "text/plain": [
       "True"
      ]
     },
     "execution_count": 740,
     "metadata": {},
     "output_type": "execute_result"
    }
   ],
   "source": [
    "df11.equals(pd.read_csv('data/String_data_one.csv',index_col='人员编号').astype('str'))"
   ]
  },
  {
   "cell_type": "markdown",
   "metadata": {},
   "source": [
    "#### 【练习二】 现有一份半虚拟的数据集，第一列包含了新型冠状病毒的一些新闻标题，请解决以下问题：\n",
    "#### （a）选出所有关于北京市和上海市新闻标题的所在行。"
   ]
  },
  {
   "cell_type": "code",
   "execution_count": 60,
   "metadata": {},
   "outputs": [
    {
     "data": {
      "text/html": [
       "<div>\n",
       "<style scoped>\n",
       "    .dataframe tbody tr th:only-of-type {\n",
       "        vertical-align: middle;\n",
       "    }\n",
       "\n",
       "    .dataframe tbody tr th {\n",
       "        vertical-align: top;\n",
       "    }\n",
       "\n",
       "    .dataframe thead th {\n",
       "        text-align: right;\n",
       "    }\n",
       "</style>\n",
       "<table border=\"1\" class=\"dataframe\">\n",
       "  <thead>\n",
       "    <tr style=\"text-align: right;\">\n",
       "      <th></th>\n",
       "      <th>col1</th>\n",
       "      <th>col2</th>\n",
       "      <th>col3</th>\n",
       "    </tr>\n",
       "  </thead>\n",
       "  <tbody>\n",
       "    <tr>\n",
       "      <th>0</th>\n",
       "      <td>鄂尔多斯市第2例确诊患者治愈出院</td>\n",
       "      <td>19</td>\n",
       "      <td>363.6923</td>\n",
       "    </tr>\n",
       "    <tr>\n",
       "      <th>1</th>\n",
       "      <td>云南新增2例，累计124例</td>\n",
       "      <td>-67</td>\n",
       "      <td>-152.281</td>\n",
       "    </tr>\n",
       "    <tr>\n",
       "      <th>2</th>\n",
       "      <td>武汉协和医院14名感染医护出院</td>\n",
       "      <td>-86</td>\n",
       "      <td>325.6221</td>\n",
       "    </tr>\n",
       "    <tr>\n",
       "      <th>3</th>\n",
       "      <td>山东新增9例，累计307例</td>\n",
       "      <td>-74</td>\n",
       "      <td>-204.9313</td>\n",
       "    </tr>\n",
       "    <tr>\n",
       "      <th>4</th>\n",
       "      <td>上海开学日期延至3月</td>\n",
       "      <td>-95</td>\n",
       "      <td>4.05</td>\n",
       "    </tr>\n",
       "  </tbody>\n",
       "</table>\n",
       "</div>"
      ],
      "text/plain": [
       "               col1 col2     col3  \n",
       "0  鄂尔多斯市第2例确诊患者治愈出院   19   363.6923\n",
       "1     云南新增2例，累计124例  -67   -152.281\n",
       "2   武汉协和医院14名感染医护出院  -86   325.6221\n",
       "3     山东新增9例，累计307例  -74  -204.9313\n",
       "4        上海开学日期延至3月  -95       4.05"
      ]
     },
     "execution_count": 60,
     "metadata": {},
     "output_type": "execute_result"
    }
   ],
   "source": [
    "pd.read_csv('data/String_data_two.csv').head()"
   ]
  },
  {
   "cell_type": "code",
   "execution_count": 741,
   "metadata": {},
   "outputs": [],
   "source": [
    "df2=pd.read_csv('data/String_data_two.csv')"
   ]
  },
  {
   "cell_type": "code",
   "execution_count": 744,
   "metadata": {},
   "outputs": [
    {
     "data": {
      "text/html": [
       "<div>\n",
       "<style scoped>\n",
       "    .dataframe tbody tr th:only-of-type {\n",
       "        vertical-align: middle;\n",
       "    }\n",
       "\n",
       "    .dataframe tbody tr th {\n",
       "        vertical-align: top;\n",
       "    }\n",
       "\n",
       "    .dataframe thead th {\n",
       "        text-align: right;\n",
       "    }\n",
       "</style>\n",
       "<table border=\"1\" class=\"dataframe\">\n",
       "  <thead>\n",
       "    <tr style=\"text-align: right;\">\n",
       "      <th></th>\n",
       "      <th>col1</th>\n",
       "      <th>col2</th>\n",
       "      <th>col3</th>\n",
       "    </tr>\n",
       "  </thead>\n",
       "  <tbody>\n",
       "    <tr>\n",
       "      <th>4</th>\n",
       "      <td>上海开学日期延至3月</td>\n",
       "      <td>-95</td>\n",
       "      <td>4.05</td>\n",
       "    </tr>\n",
       "    <tr>\n",
       "      <th>6</th>\n",
       "      <td>上海新增10例，累计243例</td>\n",
       "      <td>2</td>\n",
       "      <td>-73.7105</td>\n",
       "    </tr>\n",
       "    <tr>\n",
       "      <th>36</th>\n",
       "      <td>上海新增14例累计233例</td>\n",
       "      <td>-55</td>\n",
       "      <td>-83</td>\n",
       "    </tr>\n",
       "    <tr>\n",
       "      <th>40</th>\n",
       "      <td>上海新增14例累计233例</td>\n",
       "      <td>-88</td>\n",
       "      <td>-99</td>\n",
       "    </tr>\n",
       "    <tr>\n",
       "      <th>53</th>\n",
       "      <td>上海7个月大婴儿确诊</td>\n",
       "      <td>-71</td>\n",
       "      <td>-391.2325</td>\n",
       "    </tr>\n",
       "    <tr>\n",
       "      <th>80</th>\n",
       "      <td>正直播！上海疫情防控发布会</td>\n",
       "      <td>-52</td>\n",
       "      <td>-211.4114</td>\n",
       "    </tr>\n",
       "    <tr>\n",
       "      <th>114</th>\n",
       "      <td>上海新增5例累计208例</td>\n",
       "      <td>100</td>\n",
       "      <td>327.2421</td>\n",
       "    </tr>\n",
       "    <tr>\n",
       "      <th>145</th>\n",
       "      <td>上海7个月婴儿被感染</td>\n",
       "      <td>-69</td>\n",
       "      <td>140.9409</td>\n",
       "    </tr>\n",
       "    <tr>\n",
       "      <th>178</th>\n",
       "      <td>上海新增11例累计确诊193例</td>\n",
       "      <td>69</td>\n",
       "      <td>150.661</td>\n",
       "    </tr>\n",
       "    <tr>\n",
       "      <th>204</th>\n",
       "      <td>上海新增5例累计确诊182例</td>\n",
       "      <td>20</td>\n",
       "      <td>-25.9202</td>\n",
       "    </tr>\n",
       "    <tr>\n",
       "      <th>263</th>\n",
       "      <td>上海新增8例累计177例</td>\n",
       "      <td>61</td>\n",
       "      <td>-272.1617</td>\n",
       "    </tr>\n",
       "    <tr>\n",
       "      <th>294</th>\n",
       "      <td>上海新增病例16例，新增治愈出院1例</td>\n",
       "      <td>-57</td>\n",
       "      <td>-92.3406</td>\n",
       "    </tr>\n",
       "    <tr>\n",
       "      <th>295</th>\n",
       "      <td>直播！#上海疫情防控发布会#</td>\n",
       "      <td>37</td>\n",
       "      <td>-267.3017</td>\n",
       "    </tr>\n",
       "    <tr>\n",
       "      <th>329</th>\n",
       "      <td>上海新增病例18例，累计153例</td>\n",
       "      <td>-64</td>\n",
       "      <td>-8.9101</td>\n",
       "    </tr>\n",
       "    <tr>\n",
       "      <th>367</th>\n",
       "      <td>上海新增7例新型冠状病毒感染的肺炎确诊病例</td>\n",
       "      <td>60</td>\n",
       "      <td>58</td>\n",
       "    </tr>\n",
       "    <tr>\n",
       "      <th>372</th>\n",
       "      <td>上海4例确诊病例痊愈出院</td>\n",
       "      <td>35</td>\n",
       "      <td>-207.3613</td>\n",
       "    </tr>\n",
       "    <tr>\n",
       "      <th>377</th>\n",
       "      <td>上海4例确诊病例痊愈出院</td>\n",
       "      <td>-91</td>\n",
       "      <td>-62.3704</td>\n",
       "    </tr>\n",
       "    <tr>\n",
       "      <th>403</th>\n",
       "      <td>上海新增16例，累计128例</td>\n",
       "      <td>-97</td>\n",
       "      <td>52.6503</td>\n",
       "    </tr>\n",
       "    <tr>\n",
       "      <th>439</th>\n",
       "      <td>上海新增11例累计112例</td>\n",
       "      <td>-51</td>\n",
       "      <td>-396.9025</td>\n",
       "    </tr>\n",
       "    <tr>\n",
       "      <th>499</th>\n",
       "      <td>上海新增5例，累计101例</td>\n",
       "      <td>-95</td>\n",
       "      <td>157.951</td>\n",
       "    </tr>\n",
       "  </tbody>\n",
       "</table>\n",
       "</div>"
      ],
      "text/plain": [
       "                      col1 col2     col3  \n",
       "4               上海开学日期延至3月  -95       4.05\n",
       "6           上海新增10例，累计243例    2   -73.7105\n",
       "36           上海新增14例累计233例  -55        -83\n",
       "40           上海新增14例累计233例  -88        -99\n",
       "53              上海7个月大婴儿确诊  -71  -391.2325\n",
       "80           正直播！上海疫情防控发布会  -52  -211.4114\n",
       "114           上海新增5例累计208例  100   327.2421\n",
       "145             上海7个月婴儿被感染  -69   140.9409\n",
       "178        上海新增11例累计确诊193例   69    150.661\n",
       "204         上海新增5例累计确诊182例   20   -25.9202\n",
       "263           上海新增8例累计177例   61  -272.1617\n",
       "294     上海新增病例16例，新增治愈出院1例  -57   -92.3406\n",
       "295         直播！#上海疫情防控发布会#   37  -267.3017\n",
       "329       上海新增病例18例，累计153例  -64    -8.9101\n",
       "367  上海新增7例新型冠状病毒感染的肺炎确诊病例   60         58\n",
       "372           上海4例确诊病例痊愈出院   35  -207.3613\n",
       "377           上海4例确诊病例痊愈出院  -91   -62.3704\n",
       "403         上海新增16例，累计128例  -97    52.6503\n",
       "439          上海新增11例累计112例  -51  -396.9025\n",
       "499          上海新增5例，累计101例  -95    157.951"
      ]
     },
     "execution_count": 744,
     "metadata": {},
     "output_type": "execute_result"
    }
   ],
   "source": [
    "# 北京\n",
    "df2[df2.col1.str.contains('北京')]\n",
    "#上海\n",
    "df2[df2.col1.str.contains('上海')]"
   ]
  },
  {
   "cell_type": "markdown",
   "metadata": {},
   "source": [
    "#### （b）求col2的均值。"
   ]
  },
  {
   "cell_type": "code",
   "execution_count": 763,
   "metadata": {},
   "outputs": [
    {
     "data": {
      "text/plain": [
       "-1.016"
      ]
     },
     "execution_count": 763,
     "metadata": {},
     "output_type": "execute_result"
    }
   ],
   "source": [
    "lst=[]\n",
    "for v in df2.col2.values:\n",
    "    try:\n",
    "        lst.append(int(v))\n",
    "    except:\n",
    "        lst.append(0)\n",
    "lst\n",
    "np.array(lst).mean()"
   ]
  },
  {
   "cell_type": "markdown",
   "metadata": {},
   "source": [
    "#### （c）求col3的均值。"
   ]
  },
  {
   "cell_type": "code",
   "execution_count": 768,
   "metadata": {},
   "outputs": [
    {
     "data": {
      "text/plain": [
       "-1.1849898000000014"
      ]
     },
     "execution_count": 768,
     "metadata": {},
     "output_type": "execute_result"
    }
   ],
   "source": [
    "lst=[]\n",
    "for v in df2['col3  '].values:\n",
    "    try:\n",
    "        lst.append(float(v))\n",
    "    except:\n",
    "        lst.append(0)\n",
    "lst\n",
    "np.array(lst).mean()"
   ]
  },
  {
   "cell_type": "code",
   "execution_count": 767,
   "metadata": {},
   "outputs": [
    {
     "data": {
      "text/plain": [
       "Index(['col1', 'col2', 'col3  '], dtype='object')"
      ]
     },
     "execution_count": 767,
     "metadata": {},
     "output_type": "execute_result"
    }
   ],
   "source": [
    "df2.columns"
   ]
  },
  {
   "cell_type": "code",
   "execution_count": null,
   "metadata": {},
   "outputs": [],
   "source": []
  }
 ],
 "metadata": {
  "kernelspec": {
   "display_name": "Python 3",
   "language": "python",
   "name": "python3"
  },
  "language_info": {
   "codemirror_mode": {
    "name": "ipython",
    "version": 3
   },
   "file_extension": ".py",
   "mimetype": "text/x-python",
   "name": "python",
   "nbconvert_exporter": "python",
   "pygments_lexer": "ipython3",
   "version": "3.7.7"
  }
 },
 "nbformat": 4,
 "nbformat_minor": 4
}
